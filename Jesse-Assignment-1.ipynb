{
 "cells": [
  {
   "cell_type": "markdown",
   "metadata": {},
   "source": [
    "# Assignment 1 - Outlier Detection"
   ]
  },
  {
   "cell_type": "markdown",
   "metadata": {},
   "source": [
    "*Due: Friday, 1 December, 2023 at 14:00 CET*\n",
    "\n",
    "For the first assignment of the course Applications of Machine Learning (INFOB3APML), you will learn to use decision tree, random forest, and isolation forest to detect an outlier class. The objectives of this assignment are:\n",
    "- use the supervised classification algorithms to classify outliers in real-life data sets\n",
    "- perform cross validation and fine-tune the model parameters of each algorithm\n",
    "- use the unsupervised outlier detection algorithms to detect outliers in real-life data sets\n",
    "- calculate model performance (e.g., accuracy, recall, precision, f1)\n",
    "- design experiments to compare performance of algorithms\n",
    "- reflect on the difference between different models\n",
    "\n",
    "\n",
    "This assignment includes three algorithms: DT, RF, and IF. The first task is to perform data exploration. In Task 2-4, you will use the three algorithms to classify outliers, respectively. In Task 5, you will compare the algorithms and evaluate their results. Please note that Task 2-4 have the following structure:\n",
    "1. First, find the library (e.g., sklearn examples) and try out the algorithm by simply training the model on the training data (do not consider any parameters or cross validation just yet); \n",
    "2. Train the model with the training data by using cross validation and find the best parameter setting for the parameters of interest;\n",
    "3. Report the average validation accuracy, recall, precision, and F1 scores of all validation sets;\n",
    "4. Finally, test the optimal model that has the best fitting parameters on your (held-out) test data, and report the test accuracy, precision, recall, and F1. \n",
    "\n",
    "Note that, in Task 5, you will need all the calculated accuracy, precision, recall and F1 measures from previous tasks. Make sure you save these to a list or dictionary so you can easily evaluate and compare the results. \n",
    "\n",
    "\n",
    "\n",
    "\n",
    "## Task 1: Exploring the data set\n",
    " \n",
    " \n",
    "\n",
    "### Data set: Bank Marketing\n",
    "\n",
    "\n",
    "Import the file *dataBank-additional-full_normalised.csv* to load the preprocessed data set. \"*The data is related with direct marketing campaigns of a Portuguese banking institution. The marketing campaigns were based on phone calls. Often, more than one contact to the same client was required, in order to access if the product (bank term deposit) would be ('yes') or not ('no') subscribed.*\"\n",
    "\n",
    "\n",
    "Use the column \"label\" as the response variable. The instances labeled with 1 are the \"outliers\", in this case the class we would like to detect accurately; the instance labeled with 0 are the inliers. \n",
    "\n",
    "\n",
    "The original data description can be found via the link here below. You will also find some explanations regarding the features under the section \"Attribute Information\".  \n",
    "https://archive.ics.uci.edu/ml/datasets/bank+marketing\n",
    "\n",
    "\n",
    "\n"
   ]
  },
  {
   "cell_type": "code",
   "execution_count": 6,
   "metadata": {},
   "outputs": [],
   "source": [
    "# Import packages\n",
    "import pandas as pd\n",
    "import numpy as np\n",
    "\n",
    "# Import data\n",
    "data = pd.read_csv('./dataBank-additional-full_normalised_sampled.csv', sep=',')\n"
   ]
  },
  {
   "cell_type": "markdown",
   "metadata": {},
   "source": [
    "\n",
    "### 1.1. Exploratory data analysis\n",
    "\n",
    "For the data set, create 2-3 figures and tables that will help you understand the data. \n",
    "\n",
    "\n",
    "During the data exploration, you, as a team, are trying to get an impression about the data. You will create figures and/or tables that help you to get to know the data. While exploring the data, you may also consider answering the following questions, which may help you understand the data better. For example, \n",
    "\n",
    "- How many instances are there in each class? Are the classes imbalanced?\n",
    "- How many variables are in the data? What is the data type and the distribution of each variable? \n",
    "- Are the variables informative?\n",
    "- Are any pair of the potential predictor variables highly correlated?\n",
    "- (Should the variables be normalized or not?)\n",
    "- (Any relevant, useful preprocessing steps that may be taken?)\n",
    "\n",
    "#### Tips: \n",
    "\n",
    "Make sure to at least check the data type of each variable and to understand the distribution of each variable, especially the response variable. \n",
    "\n",
    "Try to find out what factors seem to determine whether an instance is an outlier or not. What do you conclude?\n",
    "\n",
    "*For creating data visualizations, you may consider using the matplot library and visit the [matplot gallery](https://matplotlib.org/stable/gallery/index.html) for inspiration (e.g., histograms for distribution, or heatmaps for feature correlation).*\n",
    "\n"
   ]
  },
  {
   "cell_type": "code",
   "execution_count": 7,
   "metadata": {},
   "outputs": [],
   "source": [
    "import plotly.express as px\n",
    "import plotly.graph_objects as go\n",
    "import matplotlib.pyplot as plt\n"
   ]
  },
  {
   "cell_type": "code",
   "execution_count": 8,
   "metadata": {},
   "outputs": [
    {
     "data": {
      "text/plain": [
       "0        0\n",
       "1        0\n",
       "2        0\n",
       "3        0\n",
       "4        1\n",
       "        ..\n",
       "40183    0\n",
       "40184    0\n",
       "40185    0\n",
       "40186    0\n",
       "40187    0\n",
       "Name: class, Length: 40188, dtype: int64"
      ]
     },
     "execution_count": 8,
     "metadata": {},
     "output_type": "execute_result"
    }
   ],
   "source": [
    "data['class']"
   ]
  },
  {
   "cell_type": "code",
   "execution_count": 9,
   "metadata": {},
   "outputs": [
    {
     "data": {
      "text/plain": [
       "Index(['age', 'job=housemaid', 'job=services', 'job=admin.', 'job=blue-collar',\n",
       "       'job=technician', 'job=retired', 'job=management', 'job=unemployed',\n",
       "       'job=self-employed', 'job=unknown', 'job=entrepreneur', 'job=student',\n",
       "       'marital=married', 'marital=single', 'marital=divorced',\n",
       "       'marital=unknown', 'education=basic.4y', 'education=high.school',\n",
       "       'education=basic.6y', 'education=basic.9y',\n",
       "       'education=professional.course', 'education=unknown',\n",
       "       'education=university.degree', 'education=illiterate', 'default=0',\n",
       "       'default=unknown', 'default=1', 'housing=0', 'housing=1',\n",
       "       'housing=unknown', 'loan=0', 'loan=1', 'loan=unknown',\n",
       "       'contact=cellular', 'month=may', 'month=jun', 'month=jul', 'month=aug',\n",
       "       'month=oct', 'month=nov', 'month=dec', 'month=mar', 'month=apr',\n",
       "       'month=sep', 'day_of_week=mon', 'day_of_week=tue', 'day_of_week=wed',\n",
       "       'day_of_week=thu', 'day_of_week=fri', 'duration', 'campaign', 'pdays',\n",
       "       'previous', 'poutcome=nonexistent', 'poutcome=failure',\n",
       "       'poutcome=success', 'emp.var.rate', 'cons.price.idx', 'cons.conf.idx',\n",
       "       'euribor3m', 'nr.employed', 'class'],\n",
       "      dtype='object')"
      ]
     },
     "execution_count": 9,
     "metadata": {},
     "output_type": "execute_result"
    }
   ],
   "source": [
    "data.columns"
   ]
  },
  {
   "cell_type": "code",
   "execution_count": 10,
   "metadata": {},
   "outputs": [
    {
     "data": {
      "text/html": [
       "<div>\n",
       "<style scoped>\n",
       "    .dataframe tbody tr th:only-of-type {\n",
       "        vertical-align: middle;\n",
       "    }\n",
       "\n",
       "    .dataframe tbody tr th {\n",
       "        vertical-align: top;\n",
       "    }\n",
       "\n",
       "    .dataframe thead th {\n",
       "        text-align: right;\n",
       "    }\n",
       "</style>\n",
       "<table border=\"1\" class=\"dataframe\">\n",
       "  <thead>\n",
       "    <tr style=\"text-align: right;\">\n",
       "      <th></th>\n",
       "      <th>age</th>\n",
       "      <th>job=housemaid</th>\n",
       "      <th>job=services</th>\n",
       "      <th>job=admin.</th>\n",
       "      <th>job=blue-collar</th>\n",
       "      <th>job=technician</th>\n",
       "      <th>job=retired</th>\n",
       "      <th>job=management</th>\n",
       "      <th>job=unemployed</th>\n",
       "      <th>job=self-employed</th>\n",
       "      <th>...</th>\n",
       "      <th>previous</th>\n",
       "      <th>poutcome=nonexistent</th>\n",
       "      <th>poutcome=failure</th>\n",
       "      <th>poutcome=success</th>\n",
       "      <th>emp.var.rate</th>\n",
       "      <th>cons.price.idx</th>\n",
       "      <th>cons.conf.idx</th>\n",
       "      <th>euribor3m</th>\n",
       "      <th>nr.employed</th>\n",
       "      <th>class</th>\n",
       "    </tr>\n",
       "  </thead>\n",
       "  <tbody>\n",
       "    <tr>\n",
       "      <th>count</th>\n",
       "      <td>40188.000000</td>\n",
       "      <td>40188.000000</td>\n",
       "      <td>40188.000000</td>\n",
       "      <td>40188.000000</td>\n",
       "      <td>40188.000000</td>\n",
       "      <td>40188.000000</td>\n",
       "      <td>40188.000000</td>\n",
       "      <td>40188.000000</td>\n",
       "      <td>40188.00000</td>\n",
       "      <td>40188.000000</td>\n",
       "      <td>...</td>\n",
       "      <td>40188.000000</td>\n",
       "      <td>40188.000000</td>\n",
       "      <td>40188.000000</td>\n",
       "      <td>40188.000000</td>\n",
       "      <td>40188.000000</td>\n",
       "      <td>40188.000000</td>\n",
       "      <td>40188.000000</td>\n",
       "      <td>40188.000000</td>\n",
       "      <td>40188.000000</td>\n",
       "      <td>40188.000000</td>\n",
       "    </tr>\n",
       "    <tr>\n",
       "      <th>mean</th>\n",
       "      <td>0.284092</td>\n",
       "      <td>0.025630</td>\n",
       "      <td>0.096073</td>\n",
       "      <td>0.252289</td>\n",
       "      <td>0.225913</td>\n",
       "      <td>0.164129</td>\n",
       "      <td>0.041007</td>\n",
       "      <td>0.071190</td>\n",
       "      <td>0.02456</td>\n",
       "      <td>0.034687</td>\n",
       "      <td>...</td>\n",
       "      <td>0.024119</td>\n",
       "      <td>0.865855</td>\n",
       "      <td>0.102543</td>\n",
       "      <td>0.031601</td>\n",
       "      <td>0.728616</td>\n",
       "      <td>0.536740</td>\n",
       "      <td>0.430275</td>\n",
       "      <td>0.681292</td>\n",
       "      <td>0.772429</td>\n",
       "      <td>0.103016</td>\n",
       "    </tr>\n",
       "    <tr>\n",
       "      <th>std</th>\n",
       "      <td>0.127940</td>\n",
       "      <td>0.158029</td>\n",
       "      <td>0.294696</td>\n",
       "      <td>0.434332</td>\n",
       "      <td>0.418187</td>\n",
       "      <td>0.370397</td>\n",
       "      <td>0.198309</td>\n",
       "      <td>0.257146</td>\n",
       "      <td>0.15478</td>\n",
       "      <td>0.182988</td>\n",
       "      <td>...</td>\n",
       "      <td>0.069609</td>\n",
       "      <td>0.340812</td>\n",
       "      <td>0.303365</td>\n",
       "      <td>0.174939</td>\n",
       "      <td>0.325611</td>\n",
       "      <td>0.224757</td>\n",
       "      <td>0.192595</td>\n",
       "      <td>0.391320</td>\n",
       "      <td>0.270591</td>\n",
       "      <td>0.303983</td>\n",
       "    </tr>\n",
       "    <tr>\n",
       "      <th>min</th>\n",
       "      <td>0.000000</td>\n",
       "      <td>0.000000</td>\n",
       "      <td>0.000000</td>\n",
       "      <td>0.000000</td>\n",
       "      <td>0.000000</td>\n",
       "      <td>0.000000</td>\n",
       "      <td>0.000000</td>\n",
       "      <td>0.000000</td>\n",
       "      <td>0.00000</td>\n",
       "      <td>0.000000</td>\n",
       "      <td>...</td>\n",
       "      <td>0.000000</td>\n",
       "      <td>0.000000</td>\n",
       "      <td>0.000000</td>\n",
       "      <td>0.000000</td>\n",
       "      <td>0.000000</td>\n",
       "      <td>0.000000</td>\n",
       "      <td>0.000000</td>\n",
       "      <td>0.000000</td>\n",
       "      <td>0.000000</td>\n",
       "      <td>0.000000</td>\n",
       "    </tr>\n",
       "    <tr>\n",
       "      <th>25%</th>\n",
       "      <td>0.185185</td>\n",
       "      <td>0.000000</td>\n",
       "      <td>0.000000</td>\n",
       "      <td>0.000000</td>\n",
       "      <td>0.000000</td>\n",
       "      <td>0.000000</td>\n",
       "      <td>0.000000</td>\n",
       "      <td>0.000000</td>\n",
       "      <td>0.00000</td>\n",
       "      <td>0.000000</td>\n",
       "      <td>...</td>\n",
       "      <td>0.000000</td>\n",
       "      <td>1.000000</td>\n",
       "      <td>0.000000</td>\n",
       "      <td>0.000000</td>\n",
       "      <td>0.333333</td>\n",
       "      <td>0.340608</td>\n",
       "      <td>0.338912</td>\n",
       "      <td>0.160961</td>\n",
       "      <td>0.512287</td>\n",
       "      <td>0.000000</td>\n",
       "    </tr>\n",
       "    <tr>\n",
       "      <th>50%</th>\n",
       "      <td>0.259259</td>\n",
       "      <td>0.000000</td>\n",
       "      <td>0.000000</td>\n",
       "      <td>0.000000</td>\n",
       "      <td>0.000000</td>\n",
       "      <td>0.000000</td>\n",
       "      <td>0.000000</td>\n",
       "      <td>0.000000</td>\n",
       "      <td>0.00000</td>\n",
       "      <td>0.000000</td>\n",
       "      <td>...</td>\n",
       "      <td>0.000000</td>\n",
       "      <td>1.000000</td>\n",
       "      <td>0.000000</td>\n",
       "      <td>0.000000</td>\n",
       "      <td>0.937500</td>\n",
       "      <td>0.603274</td>\n",
       "      <td>0.376569</td>\n",
       "      <td>0.957379</td>\n",
       "      <td>0.859735</td>\n",
       "      <td>0.000000</td>\n",
       "    </tr>\n",
       "    <tr>\n",
       "      <th>75%</th>\n",
       "      <td>0.370370</td>\n",
       "      <td>0.000000</td>\n",
       "      <td>0.000000</td>\n",
       "      <td>1.000000</td>\n",
       "      <td>0.000000</td>\n",
       "      <td>0.000000</td>\n",
       "      <td>0.000000</td>\n",
       "      <td>0.000000</td>\n",
       "      <td>0.00000</td>\n",
       "      <td>0.000000</td>\n",
       "      <td>...</td>\n",
       "      <td>0.000000</td>\n",
       "      <td>1.000000</td>\n",
       "      <td>0.000000</td>\n",
       "      <td>0.000000</td>\n",
       "      <td>1.000000</td>\n",
       "      <td>0.698753</td>\n",
       "      <td>0.602510</td>\n",
       "      <td>0.980957</td>\n",
       "      <td>1.000000</td>\n",
       "      <td>0.000000</td>\n",
       "    </tr>\n",
       "    <tr>\n",
       "      <th>max</th>\n",
       "      <td>1.000000</td>\n",
       "      <td>1.000000</td>\n",
       "      <td>1.000000</td>\n",
       "      <td>1.000000</td>\n",
       "      <td>1.000000</td>\n",
       "      <td>1.000000</td>\n",
       "      <td>1.000000</td>\n",
       "      <td>1.000000</td>\n",
       "      <td>1.00000</td>\n",
       "      <td>1.000000</td>\n",
       "      <td>...</td>\n",
       "      <td>1.000000</td>\n",
       "      <td>1.000000</td>\n",
       "      <td>1.000000</td>\n",
       "      <td>1.000000</td>\n",
       "      <td>1.000000</td>\n",
       "      <td>1.000000</td>\n",
       "      <td>1.000000</td>\n",
       "      <td>1.000000</td>\n",
       "      <td>1.000000</td>\n",
       "      <td>1.000000</td>\n",
       "    </tr>\n",
       "  </tbody>\n",
       "</table>\n",
       "<p>8 rows × 63 columns</p>\n",
       "</div>"
      ],
      "text/plain": [
       "                age  job=housemaid  job=services    job=admin.  \\\n",
       "count  40188.000000   40188.000000  40188.000000  40188.000000   \n",
       "mean       0.284092       0.025630      0.096073      0.252289   \n",
       "std        0.127940       0.158029      0.294696      0.434332   \n",
       "min        0.000000       0.000000      0.000000      0.000000   \n",
       "25%        0.185185       0.000000      0.000000      0.000000   \n",
       "50%        0.259259       0.000000      0.000000      0.000000   \n",
       "75%        0.370370       0.000000      0.000000      1.000000   \n",
       "max        1.000000       1.000000      1.000000      1.000000   \n",
       "\n",
       "       job=blue-collar  job=technician   job=retired  job=management  \\\n",
       "count     40188.000000    40188.000000  40188.000000    40188.000000   \n",
       "mean          0.225913        0.164129      0.041007        0.071190   \n",
       "std           0.418187        0.370397      0.198309        0.257146   \n",
       "min           0.000000        0.000000      0.000000        0.000000   \n",
       "25%           0.000000        0.000000      0.000000        0.000000   \n",
       "50%           0.000000        0.000000      0.000000        0.000000   \n",
       "75%           0.000000        0.000000      0.000000        0.000000   \n",
       "max           1.000000        1.000000      1.000000        1.000000   \n",
       "\n",
       "       job=unemployed  job=self-employed  ...      previous  \\\n",
       "count     40188.00000       40188.000000  ...  40188.000000   \n",
       "mean          0.02456           0.034687  ...      0.024119   \n",
       "std           0.15478           0.182988  ...      0.069609   \n",
       "min           0.00000           0.000000  ...      0.000000   \n",
       "25%           0.00000           0.000000  ...      0.000000   \n",
       "50%           0.00000           0.000000  ...      0.000000   \n",
       "75%           0.00000           0.000000  ...      0.000000   \n",
       "max           1.00000           1.000000  ...      1.000000   \n",
       "\n",
       "       poutcome=nonexistent  poutcome=failure  poutcome=success  emp.var.rate  \\\n",
       "count          40188.000000      40188.000000      40188.000000  40188.000000   \n",
       "mean               0.865855          0.102543          0.031601      0.728616   \n",
       "std                0.340812          0.303365          0.174939      0.325611   \n",
       "min                0.000000          0.000000          0.000000      0.000000   \n",
       "25%                1.000000          0.000000          0.000000      0.333333   \n",
       "50%                1.000000          0.000000          0.000000      0.937500   \n",
       "75%                1.000000          0.000000          0.000000      1.000000   \n",
       "max                1.000000          1.000000          1.000000      1.000000   \n",
       "\n",
       "       cons.price.idx  cons.conf.idx     euribor3m   nr.employed         class  \n",
       "count    40188.000000   40188.000000  40188.000000  40188.000000  40188.000000  \n",
       "mean         0.536740       0.430275      0.681292      0.772429      0.103016  \n",
       "std          0.224757       0.192595      0.391320      0.270591      0.303983  \n",
       "min          0.000000       0.000000      0.000000      0.000000      0.000000  \n",
       "25%          0.340608       0.338912      0.160961      0.512287      0.000000  \n",
       "50%          0.603274       0.376569      0.957379      0.859735      0.000000  \n",
       "75%          0.698753       0.602510      0.980957      1.000000      0.000000  \n",
       "max          1.000000       1.000000      1.000000      1.000000      1.000000  \n",
       "\n",
       "[8 rows x 63 columns]"
      ]
     },
     "execution_count": 10,
     "metadata": {},
     "output_type": "execute_result"
    }
   ],
   "source": [
    "data.describe()"
   ]
  },
  {
   "cell_type": "code",
   "execution_count": 11,
   "metadata": {},
   "outputs": [],
   "source": [
    "from sklearn.feature_selection import SelectKBest\n",
    "from sklearn.feature_selection import f_classif"
   ]
  },
  {
   "cell_type": "code",
   "execution_count": null,
   "metadata": {},
   "outputs": [],
   "source": []
  },
  {
   "cell_type": "code",
   "execution_count": 12,
   "metadata": {},
   "outputs": [],
   "source": [
    "# TODO: plot figure(s)"
   ]
  },
  {
   "cell_type": "markdown",
   "metadata": {},
   "source": [
    "### 1.2. Creating Train and Test data sets\n",
    "\n",
    "Create a training and a held-out test data set. *Later in Task 2-4, the training data will be used to perform cross-validation. The held-out test data will be used to evaluate the performance of the selected models.*\n",
    "\n",
    "Choose the size of your test data and motivate your choice when you discuss the experiment setup in your report. \n",
    "\n",
    "Tips: \n",
    "\n",
    "*You may use the [train_test_split](https://scikit-learn.org/stable/modules/generated/sklearn.model_selection.train_test_split.html) class provided by sklearn*"
   ]
  },
  {
   "cell_type": "code",
   "execution_count": 13,
   "metadata": {},
   "outputs": [],
   "source": [
    "# import method to make a train/test split\n",
    "from sklearn.model_selection import train_test_split\n",
    "\n",
    "# copy data\n",
    "df = data.copy()\n",
    "\n",
    "# create X and y\n",
    "features = ['age', 'job=housemaid', 'job=services', 'job=admin.', 'job=blue-collar',\n",
    "       'job=technician', 'job=retired', 'job=management', 'job=unemployed',\n",
    "       'job=self-employed', 'job=unknown', 'job=entrepreneur', 'job=student',\n",
    "       'marital=married', 'marital=single', 'marital=divorced',\n",
    "       'marital=unknown', 'education=basic.4y', 'education=high.school',\n",
    "       'education=basic.6y', 'education=basic.9y',\n",
    "       'education=professional.course', 'education=unknown',\n",
    "       'education=university.degree', 'education=illiterate', 'default=0',\n",
    "       'default=unknown', 'default=1', 'housing=0', 'housing=1',\n",
    "       'housing=unknown', 'loan=0', 'loan=1', 'loan=unknown',\n",
    "       'contact=cellular', 'month=may', 'month=jun', 'month=jul', 'month=aug',\n",
    "       'month=oct', 'month=nov', 'month=dec', 'month=mar', 'month=apr',\n",
    "       'month=sep', 'day_of_week=mon', 'day_of_week=tue', 'day_of_week=wed',\n",
    "       'day_of_week=thu', 'day_of_week=fri', 'duration', 'campaign', 'pdays',\n",
    "       'previous', 'poutcome=nonexistent', 'poutcome=failure',\n",
    "       'poutcome=success', 'emp.var.rate', 'cons.price.idx', 'cons.conf.idx',\n",
    "       'euribor3m', 'nr.employed']\n",
    "X = df[features]\n",
    "y = df['class']\n",
    "\n",
    "\n",
    "\n",
    "# TODO: create training data and held-out test data\n",
    "X_train, X_test, y_train, y_test = train_test_split(X, y, test_size=0.33, random_state=42)\n",
    "\n"
   ]
  },
  {
   "cell_type": "code",
   "execution_count": 14,
   "metadata": {},
   "outputs": [],
   "source": [
    "k_best = SelectKBest(f_classif)\n",
    "X_new = k_best.fit_transform(X, y)\n",
    "selected_features_indices = k_best.get_support(indices=True)"
   ]
  },
  {
   "cell_type": "code",
   "execution_count": 15,
   "metadata": {},
   "outputs": [],
   "source": [
    "selected_feature_names = X.columns[selected_features_indices]"
   ]
  },
  {
   "cell_type": "code",
   "execution_count": 16,
   "metadata": {},
   "outputs": [
    {
     "data": {
      "application/vnd.plotly.v1+json": {
       "config": {
        "plotlyServerURL": "https://plot.ly"
       },
       "data": [
        {
         "alignmentgroup": "True",
         "hovertemplate": "x=%{x}<br>y=%{y}<extra></extra>",
         "legendgroup": "",
         "marker": {
          "color": "#636efa",
          "pattern": {
           "shape": ""
          }
         },
         "name": "",
         "offsetgroup": "",
         "orientation": "v",
         "showlegend": false,
         "textposition": "auto",
         "type": "bar",
         "x": [
          "contact=cellular",
          "month=mar",
          "duration",
          "pdays",
          "previous",
          "poutcome=nonexistent",
          "poutcome=success",
          "emp.var.rate",
          "euribor3m",
          "nr.employed"
         ],
         "xaxis": "x",
         "y": [
          803.8454934221729,
          821.9254946103385,
          7426.79207300614,
          4556.167616242219,
          2115.10294619306,
          1468.1619397680565,
          4310.724399183473,
          3648.1672598015343,
          3897.0310544599347,
          5357.57902644549
         ],
         "yaxis": "y"
        }
       ],
       "layout": {
        "barmode": "relative",
        "legend": {
         "tracegroupgap": 0
        },
        "template": {
         "data": {
          "bar": [
           {
            "error_x": {
             "color": "#2a3f5f"
            },
            "error_y": {
             "color": "#2a3f5f"
            },
            "marker": {
             "line": {
              "color": "#E5ECF6",
              "width": 0.5
             },
             "pattern": {
              "fillmode": "overlay",
              "size": 10,
              "solidity": 0.2
             }
            },
            "type": "bar"
           }
          ],
          "barpolar": [
           {
            "marker": {
             "line": {
              "color": "#E5ECF6",
              "width": 0.5
             },
             "pattern": {
              "fillmode": "overlay",
              "size": 10,
              "solidity": 0.2
             }
            },
            "type": "barpolar"
           }
          ],
          "carpet": [
           {
            "aaxis": {
             "endlinecolor": "#2a3f5f",
             "gridcolor": "white",
             "linecolor": "white",
             "minorgridcolor": "white",
             "startlinecolor": "#2a3f5f"
            },
            "baxis": {
             "endlinecolor": "#2a3f5f",
             "gridcolor": "white",
             "linecolor": "white",
             "minorgridcolor": "white",
             "startlinecolor": "#2a3f5f"
            },
            "type": "carpet"
           }
          ],
          "choropleth": [
           {
            "colorbar": {
             "outlinewidth": 0,
             "ticks": ""
            },
            "type": "choropleth"
           }
          ],
          "contour": [
           {
            "colorbar": {
             "outlinewidth": 0,
             "ticks": ""
            },
            "colorscale": [
             [
              0,
              "#0d0887"
             ],
             [
              0.1111111111111111,
              "#46039f"
             ],
             [
              0.2222222222222222,
              "#7201a8"
             ],
             [
              0.3333333333333333,
              "#9c179e"
             ],
             [
              0.4444444444444444,
              "#bd3786"
             ],
             [
              0.5555555555555556,
              "#d8576b"
             ],
             [
              0.6666666666666666,
              "#ed7953"
             ],
             [
              0.7777777777777778,
              "#fb9f3a"
             ],
             [
              0.8888888888888888,
              "#fdca26"
             ],
             [
              1,
              "#f0f921"
             ]
            ],
            "type": "contour"
           }
          ],
          "contourcarpet": [
           {
            "colorbar": {
             "outlinewidth": 0,
             "ticks": ""
            },
            "type": "contourcarpet"
           }
          ],
          "heatmap": [
           {
            "colorbar": {
             "outlinewidth": 0,
             "ticks": ""
            },
            "colorscale": [
             [
              0,
              "#0d0887"
             ],
             [
              0.1111111111111111,
              "#46039f"
             ],
             [
              0.2222222222222222,
              "#7201a8"
             ],
             [
              0.3333333333333333,
              "#9c179e"
             ],
             [
              0.4444444444444444,
              "#bd3786"
             ],
             [
              0.5555555555555556,
              "#d8576b"
             ],
             [
              0.6666666666666666,
              "#ed7953"
             ],
             [
              0.7777777777777778,
              "#fb9f3a"
             ],
             [
              0.8888888888888888,
              "#fdca26"
             ],
             [
              1,
              "#f0f921"
             ]
            ],
            "type": "heatmap"
           }
          ],
          "heatmapgl": [
           {
            "colorbar": {
             "outlinewidth": 0,
             "ticks": ""
            },
            "colorscale": [
             [
              0,
              "#0d0887"
             ],
             [
              0.1111111111111111,
              "#46039f"
             ],
             [
              0.2222222222222222,
              "#7201a8"
             ],
             [
              0.3333333333333333,
              "#9c179e"
             ],
             [
              0.4444444444444444,
              "#bd3786"
             ],
             [
              0.5555555555555556,
              "#d8576b"
             ],
             [
              0.6666666666666666,
              "#ed7953"
             ],
             [
              0.7777777777777778,
              "#fb9f3a"
             ],
             [
              0.8888888888888888,
              "#fdca26"
             ],
             [
              1,
              "#f0f921"
             ]
            ],
            "type": "heatmapgl"
           }
          ],
          "histogram": [
           {
            "marker": {
             "pattern": {
              "fillmode": "overlay",
              "size": 10,
              "solidity": 0.2
             }
            },
            "type": "histogram"
           }
          ],
          "histogram2d": [
           {
            "colorbar": {
             "outlinewidth": 0,
             "ticks": ""
            },
            "colorscale": [
             [
              0,
              "#0d0887"
             ],
             [
              0.1111111111111111,
              "#46039f"
             ],
             [
              0.2222222222222222,
              "#7201a8"
             ],
             [
              0.3333333333333333,
              "#9c179e"
             ],
             [
              0.4444444444444444,
              "#bd3786"
             ],
             [
              0.5555555555555556,
              "#d8576b"
             ],
             [
              0.6666666666666666,
              "#ed7953"
             ],
             [
              0.7777777777777778,
              "#fb9f3a"
             ],
             [
              0.8888888888888888,
              "#fdca26"
             ],
             [
              1,
              "#f0f921"
             ]
            ],
            "type": "histogram2d"
           }
          ],
          "histogram2dcontour": [
           {
            "colorbar": {
             "outlinewidth": 0,
             "ticks": ""
            },
            "colorscale": [
             [
              0,
              "#0d0887"
             ],
             [
              0.1111111111111111,
              "#46039f"
             ],
             [
              0.2222222222222222,
              "#7201a8"
             ],
             [
              0.3333333333333333,
              "#9c179e"
             ],
             [
              0.4444444444444444,
              "#bd3786"
             ],
             [
              0.5555555555555556,
              "#d8576b"
             ],
             [
              0.6666666666666666,
              "#ed7953"
             ],
             [
              0.7777777777777778,
              "#fb9f3a"
             ],
             [
              0.8888888888888888,
              "#fdca26"
             ],
             [
              1,
              "#f0f921"
             ]
            ],
            "type": "histogram2dcontour"
           }
          ],
          "mesh3d": [
           {
            "colorbar": {
             "outlinewidth": 0,
             "ticks": ""
            },
            "type": "mesh3d"
           }
          ],
          "parcoords": [
           {
            "line": {
             "colorbar": {
              "outlinewidth": 0,
              "ticks": ""
             }
            },
            "type": "parcoords"
           }
          ],
          "pie": [
           {
            "automargin": true,
            "type": "pie"
           }
          ],
          "scatter": [
           {
            "fillpattern": {
             "fillmode": "overlay",
             "size": 10,
             "solidity": 0.2
            },
            "type": "scatter"
           }
          ],
          "scatter3d": [
           {
            "line": {
             "colorbar": {
              "outlinewidth": 0,
              "ticks": ""
             }
            },
            "marker": {
             "colorbar": {
              "outlinewidth": 0,
              "ticks": ""
             }
            },
            "type": "scatter3d"
           }
          ],
          "scattercarpet": [
           {
            "marker": {
             "colorbar": {
              "outlinewidth": 0,
              "ticks": ""
             }
            },
            "type": "scattercarpet"
           }
          ],
          "scattergeo": [
           {
            "marker": {
             "colorbar": {
              "outlinewidth": 0,
              "ticks": ""
             }
            },
            "type": "scattergeo"
           }
          ],
          "scattergl": [
           {
            "marker": {
             "colorbar": {
              "outlinewidth": 0,
              "ticks": ""
             }
            },
            "type": "scattergl"
           }
          ],
          "scattermapbox": [
           {
            "marker": {
             "colorbar": {
              "outlinewidth": 0,
              "ticks": ""
             }
            },
            "type": "scattermapbox"
           }
          ],
          "scatterpolar": [
           {
            "marker": {
             "colorbar": {
              "outlinewidth": 0,
              "ticks": ""
             }
            },
            "type": "scatterpolar"
           }
          ],
          "scatterpolargl": [
           {
            "marker": {
             "colorbar": {
              "outlinewidth": 0,
              "ticks": ""
             }
            },
            "type": "scatterpolargl"
           }
          ],
          "scatterternary": [
           {
            "marker": {
             "colorbar": {
              "outlinewidth": 0,
              "ticks": ""
             }
            },
            "type": "scatterternary"
           }
          ],
          "surface": [
           {
            "colorbar": {
             "outlinewidth": 0,
             "ticks": ""
            },
            "colorscale": [
             [
              0,
              "#0d0887"
             ],
             [
              0.1111111111111111,
              "#46039f"
             ],
             [
              0.2222222222222222,
              "#7201a8"
             ],
             [
              0.3333333333333333,
              "#9c179e"
             ],
             [
              0.4444444444444444,
              "#bd3786"
             ],
             [
              0.5555555555555556,
              "#d8576b"
             ],
             [
              0.6666666666666666,
              "#ed7953"
             ],
             [
              0.7777777777777778,
              "#fb9f3a"
             ],
             [
              0.8888888888888888,
              "#fdca26"
             ],
             [
              1,
              "#f0f921"
             ]
            ],
            "type": "surface"
           }
          ],
          "table": [
           {
            "cells": {
             "fill": {
              "color": "#EBF0F8"
             },
             "line": {
              "color": "white"
             }
            },
            "header": {
             "fill": {
              "color": "#C8D4E3"
             },
             "line": {
              "color": "white"
             }
            },
            "type": "table"
           }
          ]
         },
         "layout": {
          "annotationdefaults": {
           "arrowcolor": "#2a3f5f",
           "arrowhead": 0,
           "arrowwidth": 1
          },
          "autotypenumbers": "strict",
          "coloraxis": {
           "colorbar": {
            "outlinewidth": 0,
            "ticks": ""
           }
          },
          "colorscale": {
           "diverging": [
            [
             0,
             "#8e0152"
            ],
            [
             0.1,
             "#c51b7d"
            ],
            [
             0.2,
             "#de77ae"
            ],
            [
             0.3,
             "#f1b6da"
            ],
            [
             0.4,
             "#fde0ef"
            ],
            [
             0.5,
             "#f7f7f7"
            ],
            [
             0.6,
             "#e6f5d0"
            ],
            [
             0.7,
             "#b8e186"
            ],
            [
             0.8,
             "#7fbc41"
            ],
            [
             0.9,
             "#4d9221"
            ],
            [
             1,
             "#276419"
            ]
           ],
           "sequential": [
            [
             0,
             "#0d0887"
            ],
            [
             0.1111111111111111,
             "#46039f"
            ],
            [
             0.2222222222222222,
             "#7201a8"
            ],
            [
             0.3333333333333333,
             "#9c179e"
            ],
            [
             0.4444444444444444,
             "#bd3786"
            ],
            [
             0.5555555555555556,
             "#d8576b"
            ],
            [
             0.6666666666666666,
             "#ed7953"
            ],
            [
             0.7777777777777778,
             "#fb9f3a"
            ],
            [
             0.8888888888888888,
             "#fdca26"
            ],
            [
             1,
             "#f0f921"
            ]
           ],
           "sequentialminus": [
            [
             0,
             "#0d0887"
            ],
            [
             0.1111111111111111,
             "#46039f"
            ],
            [
             0.2222222222222222,
             "#7201a8"
            ],
            [
             0.3333333333333333,
             "#9c179e"
            ],
            [
             0.4444444444444444,
             "#bd3786"
            ],
            [
             0.5555555555555556,
             "#d8576b"
            ],
            [
             0.6666666666666666,
             "#ed7953"
            ],
            [
             0.7777777777777778,
             "#fb9f3a"
            ],
            [
             0.8888888888888888,
             "#fdca26"
            ],
            [
             1,
             "#f0f921"
            ]
           ]
          },
          "colorway": [
           "#636efa",
           "#EF553B",
           "#00cc96",
           "#ab63fa",
           "#FFA15A",
           "#19d3f3",
           "#FF6692",
           "#B6E880",
           "#FF97FF",
           "#FECB52"
          ],
          "font": {
           "color": "#2a3f5f"
          },
          "geo": {
           "bgcolor": "white",
           "lakecolor": "white",
           "landcolor": "#E5ECF6",
           "showlakes": true,
           "showland": true,
           "subunitcolor": "white"
          },
          "hoverlabel": {
           "align": "left"
          },
          "hovermode": "closest",
          "mapbox": {
           "style": "light"
          },
          "paper_bgcolor": "white",
          "plot_bgcolor": "#E5ECF6",
          "polar": {
           "angularaxis": {
            "gridcolor": "white",
            "linecolor": "white",
            "ticks": ""
           },
           "bgcolor": "#E5ECF6",
           "radialaxis": {
            "gridcolor": "white",
            "linecolor": "white",
            "ticks": ""
           }
          },
          "scene": {
           "xaxis": {
            "backgroundcolor": "#E5ECF6",
            "gridcolor": "white",
            "gridwidth": 2,
            "linecolor": "white",
            "showbackground": true,
            "ticks": "",
            "zerolinecolor": "white"
           },
           "yaxis": {
            "backgroundcolor": "#E5ECF6",
            "gridcolor": "white",
            "gridwidth": 2,
            "linecolor": "white",
            "showbackground": true,
            "ticks": "",
            "zerolinecolor": "white"
           },
           "zaxis": {
            "backgroundcolor": "#E5ECF6",
            "gridcolor": "white",
            "gridwidth": 2,
            "linecolor": "white",
            "showbackground": true,
            "ticks": "",
            "zerolinecolor": "white"
           }
          },
          "shapedefaults": {
           "line": {
            "color": "#2a3f5f"
           }
          },
          "ternary": {
           "aaxis": {
            "gridcolor": "white",
            "linecolor": "white",
            "ticks": ""
           },
           "baxis": {
            "gridcolor": "white",
            "linecolor": "white",
            "ticks": ""
           },
           "bgcolor": "#E5ECF6",
           "caxis": {
            "gridcolor": "white",
            "linecolor": "white",
            "ticks": ""
           }
          },
          "title": {
           "x": 0.05
          },
          "xaxis": {
           "automargin": true,
           "gridcolor": "white",
           "linecolor": "white",
           "ticks": "",
           "title": {
            "standoff": 15
           },
           "zerolinecolor": "white",
           "zerolinewidth": 2
          },
          "yaxis": {
           "automargin": true,
           "gridcolor": "white",
           "linecolor": "white",
           "ticks": "",
           "title": {
            "standoff": 15
           },
           "zerolinecolor": "white",
           "zerolinewidth": 2
          }
         }
        },
        "title": {
         "text": "Feature Importance Scores"
        },
        "xaxis": {
         "anchor": "y",
         "domain": [
          0,
          1
         ],
         "title": {
          "text": "Features"
         }
        },
        "yaxis": {
         "anchor": "x",
         "domain": [
          0,
          1
         ],
         "title": {
          "text": "Importance Score"
         }
        }
       }
      }
     },
     "metadata": {},
     "output_type": "display_data"
    }
   ],
   "source": [
    "fig = px.bar(x=selected_feature_names, y=k_best.scores_[selected_features_indices], title='Feature Importance Scores')\n",
    "fig.update_layout(xaxis_title='Features', yaxis_title='Importance Score')\n",
    "fig.show()"
   ]
  },
  {
   "cell_type": "markdown",
   "metadata": {},
   "source": [
    "## Task 2: Decision Trees \n",
    "### - Outlier Detection as a Supervised Classification\n",
    "\n",
    "### 2.1 Training a Decision Tree\n",
    "\n",
    "Use the basic [Decision Tree](http://scikit-learn.org/stable/modules/tree.html#tree) library in sklearn to learn a decision tree model by fitting the full training data.\n",
    "\n",
    "Show/plot the tree diagram and also plot the feature importances. \n",
    "What do you observe?\n",
    "\n",
    "\n",
    "#### Tips:\n",
    "\n",
    "To show the tree diagram, you may use the graphviz library or use the plot_tree function, see https://scikit-learn.org/stable/modules/tree.html\n",
    "\n",
    "\n"
   ]
  },
  {
   "cell_type": "code",
   "execution_count": 17,
   "metadata": {},
   "outputs": [
    {
     "data": {
      "text/plain": [
       "[Text(0.41206523580837884, 0.9861111111111112, 'x[61] <= 0.469\\ngini = 0.185\\nsamples = 26925\\nvalue = [24156, 2769]'),\n",
       " Text(0.1545599538357595, 0.9583333333333334, 'x[50] <= 0.034\\ngini = 0.486\\nsamples = 3148\\nvalue = [1839, 1309]'),\n",
       " Text(0.0602238170979922, 0.9305555555555556, 'x[56] <= 0.5\\ngini = 0.264\\nsamples = 1235\\nvalue = [1042, 193]'),\n",
       " Text(0.03779557442117935, 0.9027777777777778, 'x[50] <= 0.025\\ngini = 0.205\\nsamples = 1052\\nvalue = [930, 122]'),\n",
       " Text(0.018891139656647796, 0.875, 'x[50] <= 0.016\\ngini = 0.127\\nsamples = 677\\nvalue = [631, 46]'),\n",
       " Text(0.012589258519746861, 0.8472222222222222, 'x[60] <= 0.143\\ngini = 0.015\\nsamples = 260\\nvalue = [258, 2]'),\n",
       " Text(0.011351604840386187, 0.8194444444444444, 'x[40] <= 0.5\\ngini = 0.008\\nsamples = 249\\nvalue = [248, 1]'),\n",
       " Text(0.010732778000705849, 0.7916666666666666, 'gini = 0.0\\nsamples = 233\\nvalue = [233, 0]'),\n",
       " Text(0.011970431680066524, 0.7916666666666666, 'x[47] <= 0.5\\ngini = 0.117\\nsamples = 16\\nvalue = [15, 1]'),\n",
       " Text(0.011351604840386187, 0.7638888888888888, 'gini = 0.0\\nsamples = 14\\nvalue = [14, 0]'),\n",
       " Text(0.012589258519746861, 0.7638888888888888, 'x[50] <= 0.014\\ngini = 0.5\\nsamples = 2\\nvalue = [1, 1]'),\n",
       " Text(0.011970431680066524, 0.7361111111111112, 'gini = 0.0\\nsamples = 1\\nvalue = [0, 1]'),\n",
       " Text(0.013208085359427198, 0.7361111111111112, 'gini = 0.0\\nsamples = 1\\nvalue = [1, 0]'),\n",
       " Text(0.013826912199107536, 0.8194444444444444, 'x[50] <= 0.014\\ngini = 0.165\\nsamples = 11\\nvalue = [10, 1]'),\n",
       " Text(0.013208085359427198, 0.7916666666666666, 'gini = 0.0\\nsamples = 8\\nvalue = [8, 0]'),\n",
       " Text(0.014445739038787873, 0.7916666666666666, 'x[18] <= 0.5\\ngini = 0.444\\nsamples = 3\\nvalue = [2, 1]'),\n",
       " Text(0.013826912199107536, 0.7638888888888888, 'gini = 0.0\\nsamples = 1\\nvalue = [0, 1]'),\n",
       " Text(0.01506456587846821, 0.7638888888888888, 'gini = 0.0\\nsamples = 2\\nvalue = [2, 0]'),\n",
       " Text(0.02519302079354873, 0.8472222222222222, 'x[60] <= 0.0\\ngini = 0.189\\nsamples = 417\\nvalue = [373, 44]'),\n",
       " Text(0.023955367114188057, 0.8194444444444444, 'x[50] <= 0.023\\ngini = 0.444\\nsamples = 3\\nvalue = [1, 2]'),\n",
       " Text(0.023336540274507718, 0.7916666666666666, 'gini = 0.0\\nsamples = 2\\nvalue = [0, 2]'),\n",
       " Text(0.02457419395386839, 0.7916666666666666, 'gini = 0.0\\nsamples = 1\\nvalue = [1, 0]'),\n",
       " Text(0.026430674472909404, 0.8194444444444444, 'x[53] <= 0.214\\ngini = 0.182\\nsamples = 414\\nvalue = [372, 42]'),\n",
       " Text(0.02581184763322907, 0.7916666666666666, 'x[32] <= 0.5\\ngini = 0.202\\nsamples = 368\\nvalue = [326, 42]'),\n",
       " Text(0.019135286183240428, 0.7638888888888888, 'x[21] <= 0.5\\ngini = 0.179\\nsamples = 311\\nvalue = [280, 31]'),\n",
       " Text(0.014445739038787873, 0.7361111111111112, 'x[59] <= 0.674\\ngini = 0.154\\nsamples = 273\\nvalue = [250, 23]'),\n",
       " Text(0.010945499726845965, 0.7083333333333334, 'x[7] <= 0.5\\ngini = 0.252\\nsamples = 108\\nvalue = [92, 16]'),\n",
       " Text(0.00827680898072451, 0.6805555555555556, 'x[6] <= 0.5\\ngini = 0.213\\nsamples = 99\\nvalue = [87, 12]'),\n",
       " Text(0.006033561686883288, 0.6527777777777778, 'x[57] <= 0.344\\ngini = 0.182\\nsamples = 89\\nvalue = [80, 9]'),\n",
       " Text(0.005414734847202951, 0.625, 'x[48] <= 0.5\\ngini = 0.242\\nsamples = 64\\nvalue = [55, 9]'),\n",
       " Text(0.002784720778561518, 0.5972222222222222, 'x[29] <= 0.5\\ngini = 0.177\\nsamples = 51\\nvalue = [46, 5]'),\n",
       " Text(0.0012376536793606745, 0.5694444444444444, 'x[50] <= 0.023\\ngini = 0.069\\nsamples = 28\\nvalue = [27, 1]'),\n",
       " Text(0.0006188268396803373, 0.5416666666666666, 'gini = 0.0\\nsamples = 22\\nvalue = [22, 0]'),\n",
       " Text(0.0018564805190410118, 0.5416666666666666, 'x[60] <= 0.143\\ngini = 0.278\\nsamples = 6\\nvalue = [5, 1]'),\n",
       " Text(0.0012376536793606745, 0.5138888888888888, 'gini = 0.0\\nsamples = 5\\nvalue = [5, 0]'),\n",
       " Text(0.002475307358721349, 0.5138888888888888, 'gini = 0.0\\nsamples = 1\\nvalue = [0, 1]'),\n",
       " Text(0.004331787877762361, 0.5694444444444444, 'x[60] <= 0.005\\ngini = 0.287\\nsamples = 23\\nvalue = [19, 4]'),\n",
       " Text(0.0037129610380820235, 0.5416666666666666, 'gini = 0.0\\nsamples = 2\\nvalue = [0, 2]'),\n",
       " Text(0.004950614717442698, 0.5416666666666666, 'x[49] <= 0.5\\ngini = 0.172\\nsamples = 21\\nvalue = [19, 2]'),\n",
       " Text(0.0037129610380820235, 0.5138888888888888, 'x[0] <= 0.278\\ngini = 0.1\\nsamples = 19\\nvalue = [18, 1]'),\n",
       " Text(0.0030941341984016863, 0.4861111111111111, 'gini = 0.0\\nsamples = 15\\nvalue = [15, 0]'),\n",
       " Text(0.004331787877762361, 0.4861111111111111, 'x[0] <= 0.34\\ngini = 0.375\\nsamples = 4\\nvalue = [3, 1]'),\n",
       " Text(0.0037129610380820235, 0.4583333333333333, 'gini = 0.0\\nsamples = 1\\nvalue = [0, 1]'),\n",
       " Text(0.004950614717442698, 0.4583333333333333, 'gini = 0.0\\nsamples = 3\\nvalue = [3, 0]'),\n",
       " Text(0.0061882683968033725, 0.5138888888888888, 'x[0] <= 0.093\\ngini = 0.5\\nsamples = 2\\nvalue = [1, 1]'),\n",
       " Text(0.005569441557123036, 0.4861111111111111, 'gini = 0.0\\nsamples = 1\\nvalue = [1, 0]'),\n",
       " Text(0.00680709523648371, 0.4861111111111111, 'gini = 0.0\\nsamples = 1\\nvalue = [0, 1]'),\n",
       " Text(0.008044748915844384, 0.5972222222222222, 'x[50] <= 0.019\\ngini = 0.426\\nsamples = 13\\nvalue = [9, 4]'),\n",
       " Text(0.00680709523648371, 0.5694444444444444, 'x[0] <= 0.315\\ngini = 0.48\\nsamples = 5\\nvalue = [2, 3]'),\n",
       " Text(0.0061882683968033725, 0.5416666666666666, 'gini = 0.0\\nsamples = 3\\nvalue = [0, 3]'),\n",
       " Text(0.007425922076164047, 0.5416666666666666, 'gini = 0.0\\nsamples = 2\\nvalue = [2, 0]'),\n",
       " Text(0.00928240259520506, 0.5694444444444444, 'x[50] <= 0.024\\ngini = 0.219\\nsamples = 8\\nvalue = [7, 1]'),\n",
       " Text(0.008663575755524722, 0.5416666666666666, 'gini = 0.0\\nsamples = 7\\nvalue = [7, 0]'),\n",
       " Text(0.009901229434885396, 0.5416666666666666, 'gini = 0.0\\nsamples = 1\\nvalue = [0, 1]'),\n",
       " Text(0.0066523885265636256, 0.625, 'gini = 0.0\\nsamples = 25\\nvalue = [25, 0]'),\n",
       " Text(0.010520056274565733, 0.6527777777777778, 'x[47] <= 0.5\\ngini = 0.42\\nsamples = 10\\nvalue = [7, 3]'),\n",
       " Text(0.009901229434885396, 0.625, 'x[0] <= 0.457\\ngini = 0.219\\nsamples = 8\\nvalue = [7, 1]'),\n",
       " Text(0.00928240259520506, 0.5972222222222222, 'gini = 0.0\\nsamples = 1\\nvalue = [0, 1]'),\n",
       " Text(0.010520056274565733, 0.5972222222222222, 'gini = 0.0\\nsamples = 7\\nvalue = [7, 0]'),\n",
       " Text(0.011138883114246071, 0.625, 'gini = 0.0\\nsamples = 2\\nvalue = [0, 2]'),\n",
       " Text(0.01361419047296742, 0.6805555555555556, 'x[50] <= 0.022\\ngini = 0.494\\nsamples = 9\\nvalue = [5, 4]'),\n",
       " Text(0.012995363633287082, 0.6527777777777778, 'x[58] <= 0.504\\ngini = 0.278\\nsamples = 6\\nvalue = [5, 1]'),\n",
       " Text(0.012376536793606745, 0.625, 'gini = 0.0\\nsamples = 5\\nvalue = [5, 0]'),\n",
       " Text(0.01361419047296742, 0.625, 'gini = 0.0\\nsamples = 1\\nvalue = [0, 1]'),\n",
       " Text(0.014233017312647757, 0.6527777777777778, 'gini = 0.0\\nsamples = 3\\nvalue = [0, 3]'),\n",
       " Text(0.01794597835072978, 0.7083333333333334, 'x[14] <= 0.5\\ngini = 0.081\\nsamples = 165\\nvalue = [158, 7]'),\n",
       " Text(0.016089497831688768, 0.6805555555555556, 'x[0] <= 0.123\\ngini = 0.034\\nsamples = 114\\nvalue = [112, 2]'),\n",
       " Text(0.01547067099200843, 0.6527777777777778, 'gini = 0.0\\nsamples = 1\\nvalue = [0, 1]'),\n",
       " Text(0.016708324671369106, 0.6527777777777778, 'x[60] <= 0.018\\ngini = 0.018\\nsamples = 113\\nvalue = [112, 1]'),\n",
       " Text(0.016089497831688768, 0.625, 'x[59] <= 0.805\\ngini = 0.153\\nsamples = 12\\nvalue = [11, 1]'),\n",
       " Text(0.01547067099200843, 0.5972222222222222, 'gini = 0.0\\nsamples = 9\\nvalue = [9, 0]'),\n",
       " Text(0.016708324671369106, 0.5972222222222222, 'x[55] <= 0.5\\ngini = 0.444\\nsamples = 3\\nvalue = [2, 1]'),\n",
       " Text(0.016089497831688768, 0.5694444444444444, 'gini = 0.0\\nsamples = 1\\nvalue = [0, 1]'),\n",
       " Text(0.017327151511049445, 0.5694444444444444, 'gini = 0.0\\nsamples = 2\\nvalue = [2, 0]'),\n",
       " Text(0.017327151511049445, 0.625, 'gini = 0.0\\nsamples = 101\\nvalue = [101, 0]'),\n",
       " Text(0.019802458869770792, 0.6805555555555556, 'x[4] <= 0.5\\ngini = 0.177\\nsamples = 51\\nvalue = [46, 5]'),\n",
       " Text(0.019183632030090454, 0.6527777777777778, 'x[59] <= 0.872\\ngini = 0.147\\nsamples = 50\\nvalue = [46, 4]'),\n",
       " Text(0.01856480519041012, 0.625, 'gini = 0.0\\nsamples = 32\\nvalue = [32, 0]'),\n",
       " Text(0.019802458869770792, 0.625, 'x[0] <= 0.179\\ngini = 0.346\\nsamples = 18\\nvalue = [14, 4]'),\n",
       " Text(0.019183632030090454, 0.5972222222222222, 'gini = 0.0\\nsamples = 9\\nvalue = [9, 0]'),\n",
       " Text(0.02042128570945113, 0.5972222222222222, 'x[51] <= 0.009\\ngini = 0.494\\nsamples = 9\\nvalue = [5, 4]'),\n",
       " Text(0.019802458869770792, 0.5694444444444444, 'x[7] <= 0.5\\ngini = 0.408\\nsamples = 7\\nvalue = [5, 2]'),\n",
       " Text(0.019183632030090454, 0.5416666666666666, 'x[0] <= 0.191\\ngini = 0.278\\nsamples = 6\\nvalue = [5, 1]'),\n",
       " Text(0.01856480519041012, 0.5138888888888888, 'gini = 0.0\\nsamples = 1\\nvalue = [0, 1]'),\n",
       " Text(0.019802458869770792, 0.5138888888888888, 'gini = 0.0\\nsamples = 5\\nvalue = [5, 0]'),\n",
       " Text(0.02042128570945113, 0.5416666666666666, 'gini = 0.0\\nsamples = 1\\nvalue = [0, 1]'),\n",
       " Text(0.021040112549131466, 0.5694444444444444, 'gini = 0.0\\nsamples = 2\\nvalue = [0, 2]'),\n",
       " Text(0.02042128570945113, 0.6527777777777778, 'gini = 0.0\\nsamples = 1\\nvalue = [0, 1]'),\n",
       " Text(0.023824833327692984, 0.7361111111111112, 'x[58] <= 0.035\\ngini = 0.332\\nsamples = 38\\nvalue = [30, 8]'),\n",
       " Text(0.021658939388811804, 0.7083333333333334, 'x[50] <= 0.018\\ngini = 0.494\\nsamples = 9\\nvalue = [4, 5]'),\n",
       " Text(0.021040112549131466, 0.6805555555555556, 'gini = 0.0\\nsamples = 3\\nvalue = [0, 3]'),\n",
       " Text(0.022277766228492143, 0.6805555555555556, 'x[49] <= 0.5\\ngini = 0.444\\nsamples = 6\\nvalue = [4, 2]'),\n",
       " Text(0.021658939388811804, 0.6527777777777778, 'gini = 0.0\\nsamples = 4\\nvalue = [4, 0]'),\n",
       " Text(0.022896593068172478, 0.6527777777777778, 'gini = 0.0\\nsamples = 2\\nvalue = [0, 2]'),\n",
       " Text(0.025990727266574164, 0.7083333333333334, 'x[0] <= 0.5\\ngini = 0.185\\nsamples = 29\\nvalue = [26, 3]'),\n",
       " Text(0.02475307358721349, 0.6805555555555556, 'x[59] <= 0.209\\ngini = 0.077\\nsamples = 25\\nvalue = [24, 1]'),\n",
       " Text(0.02413424674753315, 0.6527777777777778, 'x[0] <= 0.179\\ngini = 0.5\\nsamples = 2\\nvalue = [1, 1]'),\n",
       " Text(0.023515419907852816, 0.625, 'gini = 0.0\\nsamples = 1\\nvalue = [1, 0]'),\n",
       " Text(0.02475307358721349, 0.625, 'gini = 0.0\\nsamples = 1\\nvalue = [0, 1]'),\n",
       " Text(0.02537190042689383, 0.6527777777777778, 'gini = 0.0\\nsamples = 23\\nvalue = [23, 0]'),\n",
       " Text(0.02722838094593484, 0.6805555555555556, 'x[59] <= 0.805\\ngini = 0.5\\nsamples = 4\\nvalue = [2, 2]'),\n",
       " Text(0.026609554106254502, 0.6527777777777778, 'gini = 0.0\\nsamples = 2\\nvalue = [2, 0]'),\n",
       " Text(0.027847207785615176, 0.6527777777777778, 'gini = 0.0\\nsamples = 2\\nvalue = [0, 2]'),\n",
       " Text(0.032488409083217706, 0.7638888888888888, 'x[0] <= 0.241\\ngini = 0.311\\nsamples = 57\\nvalue = [46, 11]'),\n",
       " Text(0.03186958224353737, 0.7361111111111112, 'x[59] <= 0.839\\ngini = 0.464\\nsamples = 30\\nvalue = [19, 11]'),\n",
       " Text(0.029703688304656188, 0.7083333333333334, 'x[60] <= 0.061\\ngini = 0.308\\nsamples = 21\\nvalue = [17, 4]'),\n",
       " Text(0.02908486146497585, 0.6805555555555556, 'gini = 0.0\\nsamples = 10\\nvalue = [10, 0]'),\n",
       " Text(0.030322515144336527, 0.6805555555555556, 'x[50] <= 0.02\\ngini = 0.463\\nsamples = 11\\nvalue = [7, 4]'),\n",
       " Text(0.02908486146497585, 0.6527777777777778, 'x[3] <= 0.5\\ngini = 0.375\\nsamples = 4\\nvalue = [1, 3]'),\n",
       " Text(0.028466034625295514, 0.625, 'gini = 0.0\\nsamples = 1\\nvalue = [1, 0]'),\n",
       " Text(0.029703688304656188, 0.625, 'gini = 0.0\\nsamples = 3\\nvalue = [0, 3]'),\n",
       " Text(0.0315601688236972, 0.6527777777777778, 'x[20] <= 0.5\\ngini = 0.245\\nsamples = 7\\nvalue = [6, 1]'),\n",
       " Text(0.03094134198401686, 0.625, 'gini = 0.0\\nsamples = 6\\nvalue = [6, 0]'),\n",
       " Text(0.032178995663377535, 0.625, 'gini = 0.0\\nsamples = 1\\nvalue = [0, 1]'),\n",
       " Text(0.03403547618241855, 0.7083333333333334, 'x[51] <= 0.045\\ngini = 0.346\\nsamples = 9\\nvalue = [2, 7]'),\n",
       " Text(0.03341664934273821, 0.6805555555555556, 'x[48] <= 0.5\\ngini = 0.219\\nsamples = 8\\nvalue = [1, 7]'),\n",
       " Text(0.03279782250305788, 0.6527777777777778, 'gini = 0.0\\nsamples = 6\\nvalue = [0, 6]'),\n",
       " Text(0.03403547618241855, 0.6527777777777778, 'x[28] <= 0.5\\ngini = 0.5\\nsamples = 2\\nvalue = [1, 1]'),\n",
       " Text(0.03341664934273821, 0.625, 'gini = 0.0\\nsamples = 1\\nvalue = [0, 1]'),\n",
       " Text(0.03465430302209889, 0.625, 'gini = 0.0\\nsamples = 1\\nvalue = [1, 0]'),\n",
       " Text(0.03465430302209889, 0.6805555555555556, 'gini = 0.0\\nsamples = 1\\nvalue = [1, 0]'),\n",
       " Text(0.03310723592289804, 0.7361111111111112, 'gini = 0.0\\nsamples = 27\\nvalue = [27, 0]'),\n",
       " Text(0.027049501312589742, 0.7916666666666666, 'gini = 0.0\\nsamples = 46\\nvalue = [46, 0]'),\n",
       " Text(0.0567000091857109, 0.875, 'x[58] <= 0.628\\ngini = 0.323\\nsamples = 375\\nvalue = [299, 76]'),\n",
       " Text(0.04687613310578555, 0.8472222222222222, 'x[0] <= 0.043\\ngini = 0.372\\nsamples = 287\\nvalue = [216, 71]'),\n",
       " Text(0.04625730626610521, 0.8194444444444444, 'gini = 0.0\\nsamples = 2\\nvalue = [0, 2]'),\n",
       " Text(0.04749495994546588, 0.8194444444444444, 'x[34] <= 0.5\\ngini = 0.367\\nsamples = 285\\nvalue = [216, 69]'),\n",
       " Text(0.041461398258582596, 0.7916666666666666, 'x[40] <= 0.5\\ngini = 0.124\\nsamples = 30\\nvalue = [28, 2]'),\n",
       " Text(0.04084257141890226, 0.7638888888888888, 'gini = 0.0\\nsamples = 26\\nvalue = [26, 0]'),\n",
       " Text(0.04208022509826293, 0.7638888888888888, 'x[23] <= 0.5\\ngini = 0.5\\nsamples = 4\\nvalue = [2, 2]'),\n",
       " Text(0.041461398258582596, 0.7361111111111112, 'gini = 0.0\\nsamples = 2\\nvalue = [2, 0]'),\n",
       " Text(0.04269905193794327, 0.7361111111111112, 'gini = 0.0\\nsamples = 2\\nvalue = [0, 2]'),\n",
       " Text(0.053528521632349176, 0.7916666666666666, 'x[59] <= 0.939\\ngini = 0.387\\nsamples = 255\\nvalue = [188, 67]'),\n",
       " Text(0.04795908007522614, 0.7638888888888888, 'x[50] <= 0.032\\ngini = 0.36\\nsamples = 217\\nvalue = [166, 51]'),\n",
       " Text(0.043936705617303944, 0.7361111111111112, 'x[47] <= 0.5\\ngini = 0.304\\nsamples = 155\\nvalue = [126, 29]'),\n",
       " Text(0.04022374457922192, 0.7083333333333334, 'x[53] <= 0.214\\ngini = 0.27\\nsamples = 137\\nvalue = [115, 22]'),\n",
       " Text(0.03774843722050057, 0.6805555555555556, 'x[2] <= 0.5\\ngini = 0.237\\nsamples = 124\\nvalue = [107, 17]'),\n",
       " Text(0.0365107835411399, 0.6527777777777778, 'x[32] <= 0.5\\ngini = 0.22\\nsamples = 119\\nvalue = [104, 15]'),\n",
       " Text(0.03589195670145956, 0.625, 'x[46] <= 0.5\\ngini = 0.261\\nsamples = 97\\nvalue = [82, 15]'),\n",
       " Text(0.03297186755171797, 0.5972222222222222, 'x[4] <= 0.5\\ngini = 0.204\\nsamples = 78\\nvalue = [69, 9]'),\n",
       " Text(0.03084465029031681, 0.5694444444444444, 'x[10] <= 0.5\\ngini = 0.155\\nsamples = 71\\nvalue = [65, 6]'),\n",
       " Text(0.028446696286555502, 0.5416666666666666, 'x[21] <= 0.5\\ngini = 0.134\\nsamples = 69\\nvalue = [64, 5]'),\n",
       " Text(0.0255072687980739, 0.5138888888888888, 'x[60] <= 0.145\\ngini = 0.095\\nsamples = 60\\nvalue = [57, 3]'),\n",
       " Text(0.023960201698873057, 0.4861111111111111, 'x[58] <= 0.529\\ngini = 0.068\\nsamples = 57\\nvalue = [55, 2]'),\n",
       " Text(0.022722548019512383, 0.4583333333333333, 'x[18] <= 0.5\\ngini = 0.038\\nsamples = 52\\nvalue = [51, 1]'),\n",
       " Text(0.022103721179832045, 0.4305555555555556, 'gini = 0.0\\nsamples = 43\\nvalue = [43, 0]'),\n",
       " Text(0.023341374859192722, 0.4305555555555556, 'x[49] <= 0.5\\ngini = 0.198\\nsamples = 9\\nvalue = [8, 1]'),\n",
       " Text(0.022722548019512383, 0.4027777777777778, 'gini = 0.0\\nsamples = 7\\nvalue = [7, 0]'),\n",
       " Text(0.023960201698873057, 0.4027777777777778, 'x[60] <= 0.05\\ngini = 0.5\\nsamples = 2\\nvalue = [1, 1]'),\n",
       " Text(0.023341374859192722, 0.375, 'gini = 0.0\\nsamples = 1\\nvalue = [1, 0]'),\n",
       " Text(0.024579028538553396, 0.375, 'gini = 0.0\\nsamples = 1\\nvalue = [0, 1]'),\n",
       " Text(0.025197855378233734, 0.4583333333333333, 'x[0] <= 0.29\\ngini = 0.32\\nsamples = 5\\nvalue = [4, 1]'),\n",
       " Text(0.024579028538553396, 0.4305555555555556, 'gini = 0.0\\nsamples = 4\\nvalue = [4, 0]'),\n",
       " Text(0.02581668221791407, 0.4305555555555556, 'gini = 0.0\\nsamples = 1\\nvalue = [0, 1]'),\n",
       " Text(0.027054335897274743, 0.4861111111111111, 'x[51] <= 0.027\\ngini = 0.444\\nsamples = 3\\nvalue = [2, 1]'),\n",
       " Text(0.026435509057594408, 0.4583333333333333, 'gini = 0.0\\nsamples = 1\\nvalue = [1, 0]'),\n",
       " Text(0.02767316273695508, 0.4583333333333333, 'x[50] <= 0.027\\ngini = 0.5\\nsamples = 2\\nvalue = [1, 1]'),\n",
       " Text(0.027054335897274743, 0.4305555555555556, 'gini = 0.0\\nsamples = 1\\nvalue = [1, 0]'),\n",
       " Text(0.02829198957663542, 0.4305555555555556, 'gini = 0.0\\nsamples = 1\\nvalue = [0, 1]'),\n",
       " Text(0.031386123775037106, 0.5138888888888888, 'x[37] <= 0.5\\ngini = 0.346\\nsamples = 9\\nvalue = [7, 2]'),\n",
       " Text(0.030767296935356767, 0.4861111111111111, 'x[0] <= 0.21\\ngini = 0.219\\nsamples = 8\\nvalue = [7, 1]'),\n",
       " Text(0.030148470095676432, 0.4583333333333333, 'x[0] <= 0.123\\ngini = 0.5\\nsamples = 2\\nvalue = [1, 1]'),\n",
       " Text(0.029529643255996094, 0.4305555555555556, 'gini = 0.0\\nsamples = 1\\nvalue = [1, 0]'),\n",
       " Text(0.030767296935356767, 0.4305555555555556, 'gini = 0.0\\nsamples = 1\\nvalue = [0, 1]'),\n",
       " Text(0.031386123775037106, 0.4583333333333333, 'gini = 0.0\\nsamples = 6\\nvalue = [6, 0]'),\n",
       " Text(0.03200495061471744, 0.4861111111111111, 'gini = 0.0\\nsamples = 1\\nvalue = [0, 1]'),\n",
       " Text(0.03324260429407812, 0.5416666666666666, 'x[0] <= 0.488\\ngini = 0.5\\nsamples = 2\\nvalue = [1, 1]'),\n",
       " Text(0.03262377745439778, 0.5138888888888888, 'gini = 0.0\\nsamples = 1\\nvalue = [1, 0]'),\n",
       " Text(0.03386143113375845, 0.5138888888888888, 'gini = 0.0\\nsamples = 1\\nvalue = [0, 1]'),\n",
       " Text(0.03509908481311913, 0.5694444444444444, 'x[0] <= 0.278\\ngini = 0.49\\nsamples = 7\\nvalue = [4, 3]'),\n",
       " Text(0.034480257973438795, 0.5416666666666666, 'gini = 0.0\\nsamples = 3\\nvalue = [3, 0]'),\n",
       " Text(0.035717911652799465, 0.5416666666666666, 'x[50] <= 0.029\\ngini = 0.375\\nsamples = 4\\nvalue = [1, 3]'),\n",
       " Text(0.03509908481311913, 0.5138888888888888, 'gini = 0.0\\nsamples = 3\\nvalue = [0, 3]'),\n",
       " Text(0.0363367384924798, 0.5138888888888888, 'gini = 0.0\\nsamples = 1\\nvalue = [1, 0]'),\n",
       " Text(0.038812045851201155, 0.5972222222222222, 'x[0] <= 0.142\\ngini = 0.432\\nsamples = 19\\nvalue = [13, 6]'),\n",
       " Text(0.03819321901152081, 0.5694444444444444, 'gini = 0.0\\nsamples = 2\\nvalue = [0, 2]'),\n",
       " Text(0.03943087269088149, 0.5694444444444444, 'x[7] <= 0.5\\ngini = 0.36\\nsamples = 17\\nvalue = [13, 4]'),\n",
       " Text(0.038812045851201155, 0.5416666666666666, 'x[58] <= 0.035\\ngini = 0.305\\nsamples = 16\\nvalue = [13, 3]'),\n",
       " Text(0.03757439217184048, 0.5138888888888888, 'x[18] <= 0.5\\ngini = 0.5\\nsamples = 4\\nvalue = [2, 2]'),\n",
       " Text(0.03695556533216014, 0.4861111111111111, 'gini = 0.0\\nsamples = 2\\nvalue = [0, 2]'),\n",
       " Text(0.03819321901152081, 0.4861111111111111, 'gini = 0.0\\nsamples = 2\\nvalue = [2, 0]'),\n",
       " Text(0.040049699530561825, 0.5138888888888888, 'x[18] <= 0.5\\ngini = 0.153\\nsamples = 12\\nvalue = [11, 1]'),\n",
       " Text(0.03943087269088149, 0.4861111111111111, 'gini = 0.0\\nsamples = 8\\nvalue = [8, 0]'),\n",
       " Text(0.04066852637024217, 0.4861111111111111, 'x[14] <= 0.5\\ngini = 0.375\\nsamples = 4\\nvalue = [3, 1]'),\n",
       " Text(0.040049699530561825, 0.4583333333333333, 'gini = 0.0\\nsamples = 2\\nvalue = [2, 0]'),\n",
       " Text(0.0412873532099225, 0.4583333333333333, 'x[54] <= 0.5\\ngini = 0.5\\nsamples = 2\\nvalue = [1, 1]'),\n",
       " Text(0.04066852637024217, 0.4305555555555556, 'gini = 0.0\\nsamples = 1\\nvalue = [1, 0]'),\n",
       " Text(0.04190618004960284, 0.4305555555555556, 'gini = 0.0\\nsamples = 1\\nvalue = [0, 1]'),\n",
       " Text(0.040049699530561825, 0.5416666666666666, 'gini = 0.0\\nsamples = 1\\nvalue = [0, 1]'),\n",
       " Text(0.03712961038082024, 0.625, 'gini = 0.0\\nsamples = 22\\nvalue = [22, 0]'),\n",
       " Text(0.03898609089986125, 0.6527777777777778, 'x[54] <= 0.5\\ngini = 0.48\\nsamples = 5\\nvalue = [3, 2]'),\n",
       " Text(0.03836726406018091, 0.625, 'gini = 0.0\\nsamples = 3\\nvalue = [3, 0]'),\n",
       " Text(0.039604917739541584, 0.625, 'gini = 0.0\\nsamples = 2\\nvalue = [0, 2]'),\n",
       " Text(0.04269905193794327, 0.6805555555555556, 'x[7] <= 0.5\\ngini = 0.473\\nsamples = 13\\nvalue = [8, 5]'),\n",
       " Text(0.04208022509826293, 0.6527777777777778, 'x[23] <= 0.5\\ngini = 0.397\\nsamples = 11\\nvalue = [8, 3]'),\n",
       " Text(0.04084257141890226, 0.625, 'x[1] <= 0.5\\ngini = 0.219\\nsamples = 8\\nvalue = [7, 1]'),\n",
       " Text(0.04022374457922192, 0.5972222222222222, 'gini = 0.0\\nsamples = 7\\nvalue = [7, 0]'),\n",
       " Text(0.041461398258582596, 0.5972222222222222, 'gini = 0.0\\nsamples = 1\\nvalue = [0, 1]'),\n",
       " Text(0.04331787877762361, 0.625, 'x[31] <= 0.5\\ngini = 0.444\\nsamples = 3\\nvalue = [1, 2]'),\n",
       " Text(0.04269905193794327, 0.5972222222222222, 'gini = 0.0\\nsamples = 1\\nvalue = [1, 0]'),\n",
       " Text(0.043936705617303944, 0.5972222222222222, 'gini = 0.0\\nsamples = 2\\nvalue = [0, 2]'),\n",
       " Text(0.04331787877762361, 0.6527777777777778, 'gini = 0.0\\nsamples = 2\\nvalue = [0, 2]'),\n",
       " Text(0.04764966665538597, 0.7083333333333334, 'x[60] <= 0.12\\ngini = 0.475\\nsamples = 18\\nvalue = [11, 7]'),\n",
       " Text(0.04703083981570563, 0.6805555555555556, 'x[15] <= 0.5\\ngini = 0.463\\nsamples = 11\\nvalue = [4, 7]'),\n",
       " Text(0.0464120129760253, 0.6527777777777778, 'x[21] <= 0.5\\ngini = 0.346\\nsamples = 9\\nvalue = [2, 7]'),\n",
       " Text(0.045793186136344956, 0.625, 'x[50] <= 0.031\\ngini = 0.219\\nsamples = 8\\nvalue = [1, 7]'),\n",
       " Text(0.04517435929666462, 0.5972222222222222, 'gini = 0.0\\nsamples = 7\\nvalue = [0, 7]'),\n",
       " Text(0.0464120129760253, 0.5972222222222222, 'gini = 0.0\\nsamples = 1\\nvalue = [1, 0]'),\n",
       " Text(0.04703083981570563, 0.625, 'gini = 0.0\\nsamples = 1\\nvalue = [1, 0]'),\n",
       " Text(0.04764966665538597, 0.6527777777777778, 'gini = 0.0\\nsamples = 2\\nvalue = [2, 0]'),\n",
       " Text(0.0482684934950663, 0.6805555555555556, 'gini = 0.0\\nsamples = 7\\nvalue = [7, 0]'),\n",
       " Text(0.05198145453314833, 0.7361111111111112, 'x[5] <= 0.5\\ngini = 0.458\\nsamples = 62\\nvalue = [40, 22]'),\n",
       " Text(0.05074380085378766, 0.7083333333333334, 'x[10] <= 0.5\\ngini = 0.406\\nsamples = 53\\nvalue = [38, 15]'),\n",
       " Text(0.050124974014107315, 0.6805555555555556, 'x[60] <= 0.144\\ngini = 0.38\\nsamples = 51\\nvalue = [38, 13]'),\n",
       " Text(0.04950614717442698, 0.6527777777777778, 'x[0] <= 0.673\\ngini = 0.348\\nsamples = 49\\nvalue = [38, 11]'),\n",
       " Text(0.0482684934950663, 0.625, 'x[19] <= 0.5\\ngini = 0.298\\nsamples = 44\\nvalue = [36, 8]'),\n",
       " Text(0.04764966665538597, 0.5972222222222222, 'x[52] <= 0.505\\ngini = 0.273\\nsamples = 43\\nvalue = [36, 7]'),\n",
       " Text(0.04703083981570563, 0.5694444444444444, 'gini = 0.0\\nsamples = 1\\nvalue = [0, 1]'),\n",
       " Text(0.0482684934950663, 0.5694444444444444, 'x[29] <= 0.5\\ngini = 0.245\\nsamples = 42\\nvalue = [36, 6]'),\n",
       " Text(0.04764966665538597, 0.5416666666666666, 'gini = 0.0\\nsamples = 15\\nvalue = [15, 0]'),\n",
       " Text(0.048887320334746645, 0.5416666666666666, 'x[60] <= 0.048\\ngini = 0.346\\nsamples = 27\\nvalue = [21, 6]'),\n",
       " Text(0.04764966665538597, 0.5138888888888888, 'x[43] <= 0.5\\ngini = 0.117\\nsamples = 16\\nvalue = [15, 1]'),\n",
       " Text(0.04703083981570563, 0.4861111111111111, 'gini = 0.0\\nsamples = 14\\nvalue = [14, 0]'),\n",
       " Text(0.0482684934950663, 0.4861111111111111, 'x[53] <= 0.286\\ngini = 0.5\\nsamples = 2\\nvalue = [1, 1]'),\n",
       " Text(0.04764966665538597, 0.4583333333333333, 'gini = 0.0\\nsamples = 1\\nvalue = [0, 1]'),\n",
       " Text(0.048887320334746645, 0.4583333333333333, 'gini = 0.0\\nsamples = 1\\nvalue = [1, 0]'),\n",
       " Text(0.050124974014107315, 0.5138888888888888, 'x[60] <= 0.053\\ngini = 0.496\\nsamples = 11\\nvalue = [6, 5]'),\n",
       " Text(0.04950614717442698, 0.4861111111111111, 'gini = 0.0\\nsamples = 2\\nvalue = [0, 2]'),\n",
       " Text(0.05074380085378766, 0.4861111111111111, 'x[60] <= 0.057\\ngini = 0.444\\nsamples = 9\\nvalue = [6, 3]'),\n",
       " Text(0.050124974014107315, 0.4583333333333333, 'gini = 0.0\\nsamples = 4\\nvalue = [4, 0]'),\n",
       " Text(0.05136262769346799, 0.4583333333333333, 'x[3] <= 0.5\\ngini = 0.48\\nsamples = 5\\nvalue = [2, 3]'),\n",
       " Text(0.05074380085378766, 0.4305555555555556, 'gini = 0.0\\nsamples = 2\\nvalue = [0, 2]'),\n",
       " Text(0.05198145453314833, 0.4305555555555556, 'x[58] <= 0.148\\ngini = 0.444\\nsamples = 3\\nvalue = [2, 1]'),\n",
       " Text(0.05136262769346799, 0.4027777777777778, 'gini = 0.0\\nsamples = 1\\nvalue = [0, 1]'),\n",
       " Text(0.05260028137282867, 0.4027777777777778, 'gini = 0.0\\nsamples = 2\\nvalue = [2, 0]'),\n",
       " Text(0.048887320334746645, 0.5972222222222222, 'gini = 0.0\\nsamples = 1\\nvalue = [0, 1]'),\n",
       " Text(0.05074380085378766, 0.625, 'x[51] <= 0.027\\ngini = 0.48\\nsamples = 5\\nvalue = [2, 3]'),\n",
       " Text(0.050124974014107315, 0.5972222222222222, 'x[48] <= 0.5\\ngini = 0.444\\nsamples = 3\\nvalue = [2, 1]'),\n",
       " Text(0.04950614717442698, 0.5694444444444444, 'gini = 0.0\\nsamples = 2\\nvalue = [2, 0]'),\n",
       " Text(0.05074380085378766, 0.5694444444444444, 'gini = 0.0\\nsamples = 1\\nvalue = [0, 1]'),\n",
       " Text(0.05136262769346799, 0.5972222222222222, 'gini = 0.0\\nsamples = 2\\nvalue = [0, 2]'),\n",
       " Text(0.05074380085378766, 0.6527777777777778, 'gini = 0.0\\nsamples = 2\\nvalue = [0, 2]'),\n",
       " Text(0.05136262769346799, 0.6805555555555556, 'gini = 0.0\\nsamples = 2\\nvalue = [0, 2]'),\n",
       " Text(0.053219108212509005, 0.7083333333333334, 'x[60] <= 0.098\\ngini = 0.346\\nsamples = 9\\nvalue = [2, 7]'),\n",
       " Text(0.05260028137282867, 0.6805555555555556, 'x[49] <= 0.5\\ngini = 0.444\\nsamples = 3\\nvalue = [2, 1]'),\n",
       " Text(0.05198145453314833, 0.6527777777777778, 'gini = 0.0\\nsamples = 2\\nvalue = [2, 0]'),\n",
       " Text(0.053219108212509005, 0.6527777777777778, 'gini = 0.0\\nsamples = 1\\nvalue = [0, 1]'),\n",
       " Text(0.05383793505218934, 0.6805555555555556, 'gini = 0.0\\nsamples = 6\\nvalue = [0, 6]'),\n",
       " Text(0.059097963189472205, 0.7638888888888888, 'x[51] <= 0.009\\ngini = 0.488\\nsamples = 38\\nvalue = [22, 16]'),\n",
       " Text(0.05693206925059103, 0.7361111111111112, 'x[54] <= 0.5\\ngini = 0.493\\nsamples = 25\\nvalue = [11, 14]'),\n",
       " Text(0.05569441557123035, 0.7083333333333334, 'x[17] <= 0.5\\ngini = 0.278\\nsamples = 6\\nvalue = [5, 1]'),\n",
       " Text(0.05507558873155002, 0.6805555555555556, 'gini = 0.0\\nsamples = 5\\nvalue = [5, 0]'),\n",
       " Text(0.056313242410910694, 0.6805555555555556, 'gini = 0.0\\nsamples = 1\\nvalue = [0, 1]'),\n",
       " Text(0.0581697229299517, 0.7083333333333334, 'x[28] <= 0.5\\ngini = 0.432\\nsamples = 19\\nvalue = [6, 13]'),\n",
       " Text(0.057550896090271364, 0.6805555555555556, 'x[3] <= 0.5\\ngini = 0.5\\nsamples = 12\\nvalue = [6, 6]'),\n",
       " Text(0.05693206925059103, 0.6527777777777778, 'x[60] <= 0.024\\ngini = 0.444\\nsamples = 9\\nvalue = [3, 6]'),\n",
       " Text(0.056313242410910694, 0.625, 'gini = 0.0\\nsamples = 5\\nvalue = [0, 5]'),\n",
       " Text(0.057550896090271364, 0.625, 'x[45] <= 0.5\\ngini = 0.375\\nsamples = 4\\nvalue = [3, 1]'),\n",
       " Text(0.05693206925059103, 0.5972222222222222, 'gini = 0.0\\nsamples = 3\\nvalue = [3, 0]'),\n",
       " Text(0.0581697229299517, 0.5972222222222222, 'gini = 0.0\\nsamples = 1\\nvalue = [0, 1]'),\n",
       " Text(0.0581697229299517, 0.6527777777777778, 'gini = 0.0\\nsamples = 3\\nvalue = [3, 0]'),\n",
       " Text(0.05878854976963204, 0.6805555555555556, 'gini = 0.0\\nsamples = 7\\nvalue = [0, 7]'),\n",
       " Text(0.06126385712835339, 0.7361111111111112, 'x[50] <= 0.026\\ngini = 0.26\\nsamples = 13\\nvalue = [11, 2]'),\n",
       " Text(0.06064503028867305, 0.7083333333333334, 'x[54] <= 0.5\\ngini = 0.444\\nsamples = 3\\nvalue = [1, 2]'),\n",
       " Text(0.06002620344899271, 0.6805555555555556, 'gini = 0.0\\nsamples = 2\\nvalue = [0, 2]'),\n",
       " Text(0.06126385712835339, 0.6805555555555556, 'gini = 0.0\\nsamples = 1\\nvalue = [1, 0]'),\n",
       " Text(0.06188268396803372, 0.7083333333333334, 'gini = 0.0\\nsamples = 10\\nvalue = [10, 0]'),\n",
       " Text(0.06652388526563625, 0.8472222222222222, 'x[0] <= 0.673\\ngini = 0.107\\nsamples = 88\\nvalue = [83, 5]'),\n",
       " Text(0.06497681816643541, 0.8194444444444444, 'x[59] <= 0.492\\ngini = 0.049\\nsamples = 80\\nvalue = [78, 2]'),\n",
       " Text(0.06435799132675507, 0.7916666666666666, 'gini = 0.0\\nsamples = 53\\nvalue = [53, 0]'),\n",
       " Text(0.06559564500611575, 0.7916666666666666, 'x[50] <= 0.033\\ngini = 0.137\\nsamples = 27\\nvalue = [25, 2]'),\n",
       " Text(0.06435799132675507, 0.7638888888888888, 'x[60] <= 0.055\\ngini = 0.077\\nsamples = 25\\nvalue = [24, 1]'),\n",
       " Text(0.06373916448707474, 0.7361111111111112, 'x[0] <= 0.321\\ngini = 0.444\\nsamples = 3\\nvalue = [2, 1]'),\n",
       " Text(0.0631203376473944, 0.7083333333333334, 'gini = 0.0\\nsamples = 2\\nvalue = [2, 0]'),\n",
       " Text(0.06435799132675507, 0.7083333333333334, 'gini = 0.0\\nsamples = 1\\nvalue = [0, 1]'),\n",
       " Text(0.06497681816643541, 0.7361111111111112, 'gini = 0.0\\nsamples = 22\\nvalue = [22, 0]'),\n",
       " Text(0.06683329868547642, 0.7638888888888888, 'x[13] <= 0.5\\ngini = 0.5\\nsamples = 2\\nvalue = [1, 1]'),\n",
       " Text(0.06621447184579608, 0.7361111111111112, 'gini = 0.0\\nsamples = 1\\nvalue = [1, 0]'),\n",
       " Text(0.06745212552515677, 0.7361111111111112, 'gini = 0.0\\nsamples = 1\\nvalue = [0, 1]'),\n",
       " Text(0.0680709523648371, 0.8194444444444444, 'x[50] <= 0.028\\ngini = 0.469\\nsamples = 8\\nvalue = [5, 3]'),\n",
       " Text(0.06745212552515677, 0.7916666666666666, 'gini = 0.0\\nsamples = 4\\nvalue = [4, 0]'),\n",
       " Text(0.06868977920451744, 0.7916666666666666, 'x[39] <= 0.5\\ngini = 0.375\\nsamples = 4\\nvalue = [1, 3]'),\n",
       " Text(0.0680709523648371, 0.7638888888888888, 'gini = 0.0\\nsamples = 3\\nvalue = [0, 3]'),\n",
       " Text(0.06930860604419778, 0.7638888888888888, 'gini = 0.0\\nsamples = 1\\nvalue = [1, 0]'),\n",
       " Text(0.08265205977480504, 0.9027777777777778, 'x[60] <= 0.018\\ngini = 0.475\\nsamples = 183\\nvalue = [112, 71]'),\n",
       " Text(0.0748780476013208, 0.875, 'x[51] <= 0.045\\ngini = 0.486\\nsamples = 53\\nvalue = [22, 31]'),\n",
       " Text(0.07425922076164047, 0.8472222222222222, 'x[45] <= 0.5\\ngini = 0.44\\nsamples = 46\\nvalue = [15, 31]'),\n",
       " Text(0.07240274024259946, 0.8194444444444444, 'x[59] <= 0.674\\ngini = 0.312\\nsamples = 31\\nvalue = [6, 25]'),\n",
       " Text(0.07178391340291912, 0.7916666666666666, 'x[50] <= 0.027\\ngini = 0.48\\nsamples = 15\\nvalue = [6, 9]'),\n",
       " Text(0.07054625972355845, 0.7638888888888888, 'x[22] <= 0.5\\ngini = 0.408\\nsamples = 7\\nvalue = [5, 2]'),\n",
       " Text(0.06992743288387811, 0.7361111111111112, 'gini = 0.0\\nsamples = 5\\nvalue = [5, 0]'),\n",
       " Text(0.07116508656323879, 0.7361111111111112, 'gini = 0.0\\nsamples = 2\\nvalue = [0, 2]'),\n",
       " Text(0.0730215670822798, 0.7638888888888888, 'x[49] <= 0.5\\ngini = 0.219\\nsamples = 8\\nvalue = [1, 7]'),\n",
       " Text(0.07240274024259946, 0.7361111111111112, 'gini = 0.0\\nsamples = 7\\nvalue = [0, 7]'),\n",
       " Text(0.07364039392196013, 0.7361111111111112, 'gini = 0.0\\nsamples = 1\\nvalue = [1, 0]'),\n",
       " Text(0.0730215670822798, 0.7916666666666666, 'gini = 0.0\\nsamples = 16\\nvalue = [0, 16]'),\n",
       " Text(0.07611570128068149, 0.8194444444444444, 'x[52] <= 0.005\\ngini = 0.48\\nsamples = 15\\nvalue = [9, 6]'),\n",
       " Text(0.0748780476013208, 0.7916666666666666, 'x[28] <= 0.5\\ngini = 0.408\\nsamples = 7\\nvalue = [2, 5]'),\n",
       " Text(0.07425922076164047, 0.7638888888888888, 'gini = 0.0\\nsamples = 1\\nvalue = [1, 0]'),\n",
       " Text(0.07549687444100114, 0.7638888888888888, 'x[12] <= 0.5\\ngini = 0.278\\nsamples = 6\\nvalue = [1, 5]'),\n",
       " Text(0.0748780476013208, 0.7361111111111112, 'gini = 0.0\\nsamples = 5\\nvalue = [0, 5]'),\n",
       " Text(0.07611570128068149, 0.7361111111111112, 'gini = 0.0\\nsamples = 1\\nvalue = [1, 0]'),\n",
       " Text(0.07735335496004216, 0.7916666666666666, 'x[2] <= 0.5\\ngini = 0.219\\nsamples = 8\\nvalue = [7, 1]'),\n",
       " Text(0.07673452812036181, 0.7638888888888888, 'gini = 0.0\\nsamples = 7\\nvalue = [7, 0]'),\n",
       " Text(0.0779721817997225, 0.7638888888888888, 'gini = 0.0\\nsamples = 1\\nvalue = [0, 1]'),\n",
       " Text(0.07549687444100114, 0.8472222222222222, 'gini = 0.0\\nsamples = 7\\nvalue = [7, 0]'),\n",
       " Text(0.09042607194828928, 0.875, 'x[50] <= 0.025\\ngini = 0.426\\nsamples = 130\\nvalue = [90, 40]'),\n",
       " Text(0.08462457032628612, 0.8472222222222222, 'x[46] <= 0.5\\ngini = 0.324\\nsamples = 64\\nvalue = [51, 13]'),\n",
       " Text(0.08106631599812418, 0.8194444444444444, 'x[47] <= 0.5\\ngini = 0.159\\nsamples = 46\\nvalue = [42, 4]'),\n",
       " Text(0.07982866231876351, 0.7916666666666666, 'x[50] <= 0.013\\ngini = 0.057\\nsamples = 34\\nvalue = [33, 1]'),\n",
       " Text(0.07920983547908317, 0.7638888888888888, 'x[34] <= 0.5\\ngini = 0.444\\nsamples = 3\\nvalue = [2, 1]'),\n",
       " Text(0.07859100863940283, 0.7361111111111112, 'gini = 0.0\\nsamples = 2\\nvalue = [2, 0]'),\n",
       " Text(0.07982866231876351, 0.7361111111111112, 'gini = 0.0\\nsamples = 1\\nvalue = [0, 1]'),\n",
       " Text(0.08044748915844384, 0.7638888888888888, 'gini = 0.0\\nsamples = 31\\nvalue = [31, 0]'),\n",
       " Text(0.08230396967748485, 0.7916666666666666, 'x[38] <= 0.5\\ngini = 0.375\\nsamples = 12\\nvalue = [9, 3]'),\n",
       " Text(0.08168514283780452, 0.7638888888888888, 'x[50] <= 0.016\\ngini = 0.5\\nsamples = 6\\nvalue = [3, 3]'),\n",
       " Text(0.08106631599812418, 0.7361111111111112, 'gini = 0.0\\nsamples = 2\\nvalue = [2, 0]'),\n",
       " Text(0.08230396967748485, 0.7361111111111112, 'x[3] <= 0.5\\ngini = 0.375\\nsamples = 4\\nvalue = [1, 3]'),\n",
       " Text(0.08168514283780452, 0.7083333333333334, 'gini = 0.0\\nsamples = 3\\nvalue = [0, 3]'),\n",
       " Text(0.08292279651716519, 0.7083333333333334, 'gini = 0.0\\nsamples = 1\\nvalue = [1, 0]'),\n",
       " Text(0.08292279651716519, 0.7638888888888888, 'gini = 0.0\\nsamples = 6\\nvalue = [6, 0]'),\n",
       " Text(0.08818282465444806, 0.8194444444444444, 'x[44] <= 0.5\\ngini = 0.5\\nsamples = 18\\nvalue = [9, 9]'),\n",
       " Text(0.08663575755524722, 0.7916666666666666, 'x[0] <= 0.191\\ngini = 0.444\\nsamples = 12\\nvalue = [8, 4]'),\n",
       " Text(0.08539810387588655, 0.7638888888888888, 'x[50] <= 0.021\\ngini = 0.48\\nsamples = 5\\nvalue = [2, 3]'),\n",
       " Text(0.0847792770362062, 0.7361111111111112, 'x[0] <= 0.148\\ngini = 0.444\\nsamples = 3\\nvalue = [2, 1]'),\n",
       " Text(0.08416045019652586, 0.7083333333333334, 'gini = 0.0\\nsamples = 2\\nvalue = [2, 0]'),\n",
       " Text(0.08539810387588655, 0.7083333333333334, 'gini = 0.0\\nsamples = 1\\nvalue = [0, 1]'),\n",
       " Text(0.08601693071556687, 0.7361111111111112, 'gini = 0.0\\nsamples = 2\\nvalue = [0, 2]'),\n",
       " Text(0.08787341123460789, 0.7638888888888888, 'x[0] <= 0.58\\ngini = 0.245\\nsamples = 7\\nvalue = [6, 1]'),\n",
       " Text(0.08725458439492756, 0.7361111111111112, 'gini = 0.0\\nsamples = 5\\nvalue = [5, 0]'),\n",
       " Text(0.08849223807428823, 0.7361111111111112, 'x[50] <= 0.023\\ngini = 0.5\\nsamples = 2\\nvalue = [1, 1]'),\n",
       " Text(0.08787341123460789, 0.7083333333333334, 'gini = 0.0\\nsamples = 1\\nvalue = [0, 1]'),\n",
       " Text(0.08911106491396857, 0.7083333333333334, 'gini = 0.0\\nsamples = 1\\nvalue = [1, 0]'),\n",
       " Text(0.0897298917536489, 0.7916666666666666, 'x[10] <= 0.5\\ngini = 0.278\\nsamples = 6\\nvalue = [1, 5]'),\n",
       " Text(0.08911106491396857, 0.7638888888888888, 'gini = 0.0\\nsamples = 5\\nvalue = [0, 5]'),\n",
       " Text(0.09034871859332924, 0.7638888888888888, 'gini = 0.0\\nsamples = 1\\nvalue = [1, 0]'),\n",
       " Text(0.09622757357029245, 0.8472222222222222, 'x[48] <= 0.5\\ngini = 0.483\\nsamples = 66\\nvalue = [39, 27]'),\n",
       " Text(0.09498991989093176, 0.8194444444444444, 'x[2] <= 0.5\\ngini = 0.459\\nsamples = 56\\nvalue = [36, 20]'),\n",
       " Text(0.09437109305125144, 0.7916666666666666, 'x[52] <= 0.014\\ngini = 0.444\\nsamples = 54\\nvalue = [36, 18]'),\n",
       " Text(0.0937522662115711, 0.7638888888888888, 'x[0] <= 0.568\\ngini = 0.426\\nsamples = 52\\nvalue = [36, 16]'),\n",
       " Text(0.09158637227268991, 0.7361111111111112, 'x[60] <= 0.144\\ngini = 0.386\\nsamples = 46\\nvalue = [34, 12]'),\n",
       " Text(0.09034871859332924, 0.7083333333333334, 'x[26] <= 0.5\\ngini = 0.337\\nsamples = 42\\nvalue = [33, 9]'),\n",
       " Text(0.0897298917536489, 0.6805555555555556, 'x[50] <= 0.033\\ngini = 0.314\\nsamples = 41\\nvalue = [33, 8]'),\n",
       " Text(0.08802811794452797, 0.6527777777777778, 'x[47] <= 0.5\\ngini = 0.245\\nsamples = 35\\nvalue = [30, 5]'),\n",
       " Text(0.08648105084532713, 0.625, 'x[60] <= 0.094\\ngini = 0.137\\nsamples = 27\\nvalue = [25, 2]'),\n",
       " Text(0.08524339716596646, 0.5972222222222222, 'x[50] <= 0.027\\ngini = 0.077\\nsamples = 25\\nvalue = [24, 1]'),\n",
       " Text(0.08462457032628612, 0.5694444444444444, 'x[53] <= 0.214\\ngini = 0.375\\nsamples = 4\\nvalue = [3, 1]'),\n",
       " Text(0.08400574348660578, 0.5416666666666666, 'gini = 0.0\\nsamples = 1\\nvalue = [0, 1]'),\n",
       " Text(0.08524339716596646, 0.5416666666666666, 'gini = 0.0\\nsamples = 3\\nvalue = [3, 0]'),\n",
       " Text(0.08586222400564679, 0.5694444444444444, 'gini = 0.0\\nsamples = 21\\nvalue = [21, 0]'),\n",
       " Text(0.0877187045246878, 0.5972222222222222, 'x[13] <= 0.5\\ngini = 0.5\\nsamples = 2\\nvalue = [1, 1]'),\n",
       " Text(0.08709987768500747, 0.5694444444444444, 'gini = 0.0\\nsamples = 1\\nvalue = [1, 0]'),\n",
       " Text(0.08833753136436814, 0.5694444444444444, 'gini = 0.0\\nsamples = 1\\nvalue = [0, 1]'),\n",
       " Text(0.08957518504372881, 0.625, 'x[52] <= 0.004\\ngini = 0.469\\nsamples = 8\\nvalue = [5, 3]'),\n",
       " Text(0.08895635820404849, 0.5972222222222222, 'gini = 0.0\\nsamples = 5\\nvalue = [5, 0]'),\n",
       " Text(0.09019401188340916, 0.5972222222222222, 'gini = 0.0\\nsamples = 3\\nvalue = [0, 3]'),\n",
       " Text(0.09143166556276983, 0.6527777777777778, 'x[50] <= 0.033\\ngini = 0.5\\nsamples = 6\\nvalue = [3, 3]'),\n",
       " Text(0.0908128387230895, 0.625, 'gini = 0.0\\nsamples = 2\\nvalue = [0, 2]'),\n",
       " Text(0.09205049240245017, 0.625, 'x[57] <= 0.417\\ngini = 0.375\\nsamples = 4\\nvalue = [3, 1]'),\n",
       " Text(0.09143166556276983, 0.5972222222222222, 'gini = 0.0\\nsamples = 3\\nvalue = [3, 0]'),\n",
       " Text(0.09266931924213051, 0.5972222222222222, 'gini = 0.0\\nsamples = 1\\nvalue = [0, 1]'),\n",
       " Text(0.09096754543300958, 0.6805555555555556, 'gini = 0.0\\nsamples = 1\\nvalue = [0, 1]'),\n",
       " Text(0.0928240259520506, 0.7083333333333334, 'x[0] <= 0.352\\ngini = 0.375\\nsamples = 4\\nvalue = [1, 3]'),\n",
       " Text(0.09220519911237025, 0.6805555555555556, 'gini = 0.0\\nsamples = 3\\nvalue = [0, 3]'),\n",
       " Text(0.09344285279173092, 0.6805555555555556, 'gini = 0.0\\nsamples = 1\\nvalue = [1, 0]'),\n",
       " Text(0.09591816015045228, 0.7361111111111112, 'x[38] <= 0.5\\ngini = 0.444\\nsamples = 6\\nvalue = [2, 4]'),\n",
       " Text(0.09529933331077194, 0.7083333333333334, 'x[6] <= 0.5\\ngini = 0.444\\nsamples = 3\\nvalue = [2, 1]'),\n",
       " Text(0.09468050647109161, 0.6805555555555556, 'gini = 0.0\\nsamples = 1\\nvalue = [0, 1]'),\n",
       " Text(0.09591816015045228, 0.6805555555555556, 'gini = 0.0\\nsamples = 2\\nvalue = [2, 0]'),\n",
       " Text(0.0965369869901326, 0.7083333333333334, 'gini = 0.0\\nsamples = 3\\nvalue = [0, 3]'),\n",
       " Text(0.09498991989093176, 0.7638888888888888, 'gini = 0.0\\nsamples = 2\\nvalue = [0, 2]'),\n",
       " Text(0.0956087467306121, 0.7916666666666666, 'gini = 0.0\\nsamples = 2\\nvalue = [0, 2]'),\n",
       " Text(0.09746522724965312, 0.8194444444444444, 'x[50] <= 0.033\\ngini = 0.42\\nsamples = 10\\nvalue = [3, 7]'),\n",
       " Text(0.09684640040997278, 0.7916666666666666, 'x[8] <= 0.5\\ngini = 0.219\\nsamples = 8\\nvalue = [1, 7]'),\n",
       " Text(0.09622757357029245, 0.7638888888888888, 'gini = 0.0\\nsamples = 7\\nvalue = [0, 7]'),\n",
       " Text(0.09746522724965312, 0.7638888888888888, 'gini = 0.0\\nsamples = 1\\nvalue = [1, 0]'),\n",
       " Text(0.09808405408933346, 0.7916666666666666, 'gini = 0.0\\nsamples = 2\\nvalue = [2, 0]'),\n",
       " Text(0.24889609057352677, 0.9305555555555556, 'x[56] <= 0.5\\ngini = 0.486\\nsamples = 1913\\nvalue = [797, 1116]'),\n",
       " Text(0.17441878471836128, 0.9027777777777778, 'x[50] <= 0.051\\ngini = 0.5\\nsamples = 1401\\nvalue = [692, 709]'),\n",
       " Text(0.12793398858071098, 0.875, 'x[50] <= 0.041\\ngini = 0.469\\nsamples = 475\\nvalue = [297, 178]'),\n",
       " Text(0.10747040025526607, 0.8472222222222222, 'x[58] <= 0.86\\ngini = 0.422\\nsamples = 212\\nvalue = [148, 64]'),\n",
       " Text(0.10685157341558574, 0.8194444444444444, 'x[34] <= 0.5\\ngini = 0.438\\nsamples = 198\\nvalue = [134, 64]'),\n",
       " Text(0.0996311211885343, 0.7916666666666666, 'x[12] <= 0.5\\ngini = 0.245\\nsamples = 28\\nvalue = [24, 4]'),\n",
       " Text(0.09901229434885396, 0.7638888888888888, 'x[26] <= 0.5\\ngini = 0.198\\nsamples = 27\\nvalue = [24, 3]'),\n",
       " Text(0.09839346750917362, 0.7361111111111112, 'x[1] <= 0.5\\ngini = 0.142\\nsamples = 26\\nvalue = [24, 2]'),\n",
       " Text(0.09777464066949329, 0.7083333333333334, 'x[60] <= 0.081\\ngini = 0.077\\nsamples = 25\\nvalue = [24, 1]'),\n",
       " Text(0.09715581382981295, 0.6805555555555556, 'gini = 0.0\\nsamples = 21\\nvalue = [21, 0]'),\n",
       " Text(0.09839346750917362, 0.6805555555555556, 'x[60] <= 0.121\\ngini = 0.375\\nsamples = 4\\nvalue = [3, 1]'),\n",
       " Text(0.09777464066949329, 0.6527777777777778, 'gini = 0.0\\nsamples = 1\\nvalue = [0, 1]'),\n",
       " Text(0.09901229434885396, 0.6527777777777778, 'gini = 0.0\\nsamples = 3\\nvalue = [3, 0]'),\n",
       " Text(0.09901229434885396, 0.7083333333333334, 'gini = 0.0\\nsamples = 1\\nvalue = [0, 1]'),\n",
       " Text(0.0996311211885343, 0.7361111111111112, 'gini = 0.0\\nsamples = 1\\nvalue = [0, 1]'),\n",
       " Text(0.10024994802821463, 0.7638888888888888, 'gini = 0.0\\nsamples = 1\\nvalue = [0, 1]'),\n",
       " Text(0.11407202564263717, 0.7916666666666666, 'x[0] <= 0.673\\ngini = 0.457\\nsamples = 170\\nvalue = [110, 60]'),\n",
       " Text(0.10840105780712908, 0.7638888888888888, 'x[60] <= 0.015\\ngini = 0.444\\nsamples = 159\\nvalue = [106, 53]'),\n",
       " Text(0.10272525538693598, 0.7361111111111112, 'x[49] <= 0.5\\ngini = 0.497\\nsamples = 24\\nvalue = [11, 13]'),\n",
       " Text(0.10210642854725564, 0.7083333333333334, 'x[50] <= 0.037\\ngini = 0.455\\nsamples = 20\\nvalue = [7, 13]'),\n",
       " Text(0.10086877486789497, 0.6805555555555556, 'x[50] <= 0.034\\ngini = 0.198\\nsamples = 9\\nvalue = [1, 8]'),\n",
       " Text(0.10024994802821463, 0.6527777777777778, 'gini = 0.0\\nsamples = 1\\nvalue = [1, 0]'),\n",
       " Text(0.10148760170757531, 0.6527777777777778, 'gini = 0.0\\nsamples = 8\\nvalue = [0, 8]'),\n",
       " Text(0.10334408222661633, 0.6805555555555556, 'x[42] <= 0.5\\ngini = 0.496\\nsamples = 11\\nvalue = [6, 5]'),\n",
       " Text(0.10272525538693598, 0.6527777777777778, 'gini = 0.0\\nsamples = 5\\nvalue = [0, 5]'),\n",
       " Text(0.10396290906629665, 0.6527777777777778, 'gini = 0.0\\nsamples = 6\\nvalue = [6, 0]'),\n",
       " Text(0.10334408222661633, 0.7083333333333334, 'gini = 0.0\\nsamples = 4\\nvalue = [4, 0]'),\n",
       " Text(0.11407686022732218, 0.7361111111111112, 'x[60] <= 0.14\\ngini = 0.417\\nsamples = 135\\nvalue = [95, 40]'),\n",
       " Text(0.11088603433522043, 0.7083333333333334, 'x[2] <= 0.5\\ngini = 0.365\\nsamples = 100\\nvalue = [76, 24]'),\n",
       " Text(0.10837205029901906, 0.6805555555555556, 'x[50] <= 0.035\\ngini = 0.342\\nsamples = 96\\nvalue = [75, 21]'),\n",
       " Text(0.10520056274565734, 0.6527777777777778, 'x[23] <= 0.5\\ngini = 0.483\\nsamples = 22\\nvalue = [13, 9]'),\n",
       " Text(0.10396290906629665, 0.625, 'x[50] <= 0.035\\ngini = 0.26\\nsamples = 13\\nvalue = [11, 2]'),\n",
       " Text(0.10334408222661633, 0.5972222222222222, 'x[51] <= 0.045\\ngini = 0.153\\nsamples = 12\\nvalue = [11, 1]'),\n",
       " Text(0.10272525538693598, 0.5694444444444444, 'gini = 0.0\\nsamples = 10\\nvalue = [10, 0]'),\n",
       " Text(0.10396290906629665, 0.5694444444444444, 'x[49] <= 0.5\\ngini = 0.5\\nsamples = 2\\nvalue = [1, 1]'),\n",
       " Text(0.10334408222661633, 0.5416666666666666, 'gini = 0.0\\nsamples = 1\\nvalue = [1, 0]'),\n",
       " Text(0.104581735905977, 0.5416666666666666, 'gini = 0.0\\nsamples = 1\\nvalue = [0, 1]'),\n",
       " Text(0.104581735905977, 0.5972222222222222, 'gini = 0.0\\nsamples = 1\\nvalue = [0, 1]'),\n",
       " Text(0.10643821642501801, 0.625, 'x[47] <= 0.5\\ngini = 0.346\\nsamples = 9\\nvalue = [2, 7]'),\n",
       " Text(0.10581938958533767, 0.5972222222222222, 'gini = 0.0\\nsamples = 7\\nvalue = [0, 7]'),\n",
       " Text(0.10705704326469835, 0.5972222222222222, 'gini = 0.0\\nsamples = 2\\nvalue = [2, 0]'),\n",
       " Text(0.11154353785238079, 0.6527777777777778, 'x[8] <= 0.5\\ngini = 0.272\\nsamples = 74\\nvalue = [62, 12]'),\n",
       " Text(0.10984176404325986, 0.625, 'x[0] <= 0.228\\ngini = 0.208\\nsamples = 68\\nvalue = [60, 8]'),\n",
       " Text(0.10829469694405902, 0.5972222222222222, 'x[50] <= 0.041\\ngini = 0.312\\nsamples = 31\\nvalue = [25, 6]'),\n",
       " Text(0.10705704326469835, 0.5694444444444444, 'x[52] <= 0.008\\ngini = 0.245\\nsamples = 28\\nvalue = [24, 4]'),\n",
       " Text(0.10643821642501801, 0.5416666666666666, 'gini = 0.0\\nsamples = 1\\nvalue = [0, 1]'),\n",
       " Text(0.10767587010437868, 0.5416666666666666, 'x[58] <= 0.035\\ngini = 0.198\\nsamples = 27\\nvalue = [24, 3]'),\n",
       " Text(0.10643821642501801, 0.5138888888888888, 'x[51] <= 0.009\\ngini = 0.5\\nsamples = 4\\nvalue = [2, 2]'),\n",
       " Text(0.10581938958533767, 0.4861111111111111, 'x[50] <= 0.039\\ngini = 0.444\\nsamples = 3\\nvalue = [2, 1]'),\n",
       " Text(0.10520056274565734, 0.4583333333333333, 'gini = 0.0\\nsamples = 2\\nvalue = [2, 0]'),\n",
       " Text(0.10643821642501801, 0.4583333333333333, 'gini = 0.0\\nsamples = 1\\nvalue = [0, 1]'),\n",
       " Text(0.10705704326469835, 0.4861111111111111, 'gini = 0.0\\nsamples = 1\\nvalue = [0, 1]'),\n",
       " Text(0.10891352378373936, 0.5138888888888888, 'x[60] <= 0.018\\ngini = 0.083\\nsamples = 23\\nvalue = [22, 1]'),\n",
       " Text(0.10829469694405902, 0.4861111111111111, 'x[55] <= 0.5\\ngini = 0.5\\nsamples = 2\\nvalue = [1, 1]'),\n",
       " Text(0.10767587010437868, 0.4583333333333333, 'gini = 0.0\\nsamples = 1\\nvalue = [1, 0]'),\n",
       " Text(0.10891352378373936, 0.4583333333333333, 'gini = 0.0\\nsamples = 1\\nvalue = [0, 1]'),\n",
       " Text(0.10953235062341969, 0.4861111111111111, 'gini = 0.0\\nsamples = 21\\nvalue = [21, 0]'),\n",
       " Text(0.10953235062341969, 0.5694444444444444, 'x[23] <= 0.5\\ngini = 0.444\\nsamples = 3\\nvalue = [1, 2]'),\n",
       " Text(0.10891352378373936, 0.5416666666666666, 'gini = 0.0\\nsamples = 1\\nvalue = [1, 0]'),\n",
       " Text(0.11015117746310003, 0.5416666666666666, 'gini = 0.0\\nsamples = 2\\nvalue = [0, 2]'),\n",
       " Text(0.1113888311424607, 0.5972222222222222, 'x[45] <= 0.5\\ngini = 0.102\\nsamples = 37\\nvalue = [35, 2]'),\n",
       " Text(0.11077000430278038, 0.5694444444444444, 'gini = 0.0\\nsamples = 28\\nvalue = [28, 0]'),\n",
       " Text(0.11200765798214105, 0.5694444444444444, 'x[58] <= 0.187\\ngini = 0.346\\nsamples = 9\\nvalue = [7, 2]'),\n",
       " Text(0.1113888311424607, 0.5416666666666666, 'x[59] <= 0.872\\ngini = 0.444\\nsamples = 3\\nvalue = [1, 2]'),\n",
       " Text(0.11077000430278038, 0.5138888888888888, 'gini = 0.0\\nsamples = 2\\nvalue = [0, 2]'),\n",
       " Text(0.11200765798214105, 0.5138888888888888, 'gini = 0.0\\nsamples = 1\\nvalue = [1, 0]'),\n",
       " Text(0.11262648482182139, 0.5416666666666666, 'gini = 0.0\\nsamples = 6\\nvalue = [6, 0]'),\n",
       " Text(0.11324531166150172, 0.625, 'x[50] <= 0.037\\ngini = 0.444\\nsamples = 6\\nvalue = [2, 4]'),\n",
       " Text(0.11262648482182139, 0.5972222222222222, 'gini = 0.0\\nsamples = 2\\nvalue = [2, 0]'),\n",
       " Text(0.11386413850118206, 0.5972222222222222, 'gini = 0.0\\nsamples = 4\\nvalue = [0, 4]'),\n",
       " Text(0.1134000183714218, 0.6805555555555556, 'x[29] <= 0.5\\ngini = 0.375\\nsamples = 4\\nvalue = [1, 3]'),\n",
       " Text(0.11278119153174146, 0.6527777777777778, 'gini = 0.0\\nsamples = 3\\nvalue = [0, 3]'),\n",
       " Text(0.11401884521110214, 0.6527777777777778, 'gini = 0.0\\nsamples = 1\\nvalue = [1, 0]'),\n",
       " Text(0.11726768611942391, 0.7083333333333334, 'x[0] <= 0.42\\ngini = 0.496\\nsamples = 35\\nvalue = [19, 16]'),\n",
       " Text(0.11664885927974357, 0.6805555555555556, 'x[31] <= 0.5\\ngini = 0.499\\nsamples = 31\\nvalue = [15, 16]'),\n",
       " Text(0.11603003244006324, 0.6527777777777778, 'gini = 0.0\\nsamples = 3\\nvalue = [3, 0]'),\n",
       " Text(0.11726768611942391, 0.6527777777777778, 'x[21] <= 0.5\\ngini = 0.49\\nsamples = 28\\nvalue = [12, 16]'),\n",
       " Text(0.11664885927974357, 0.625, 'x[14] <= 0.5\\ngini = 0.473\\nsamples = 26\\nvalue = [10, 16]'),\n",
       " Text(0.11510179218054273, 0.5972222222222222, 'x[50] <= 0.041\\ngini = 0.298\\nsamples = 11\\nvalue = [2, 9]'),\n",
       " Text(0.1144829653408624, 0.5694444444444444, 'x[2] <= 0.5\\ngini = 0.18\\nsamples = 10\\nvalue = [1, 9]'),\n",
       " Text(0.11386413850118206, 0.5416666666666666, 'gini = 0.0\\nsamples = 9\\nvalue = [0, 9]'),\n",
       " Text(0.11510179218054273, 0.5416666666666666, 'gini = 0.0\\nsamples = 1\\nvalue = [1, 0]'),\n",
       " Text(0.11572061902022307, 0.5694444444444444, 'gini = 0.0\\nsamples = 1\\nvalue = [1, 0]'),\n",
       " Text(0.11819592637894441, 0.5972222222222222, 'x[60] <= 0.142\\ngini = 0.498\\nsamples = 15\\nvalue = [8, 7]'),\n",
       " Text(0.11695827269958374, 0.5694444444444444, 'x[8] <= 0.5\\ngini = 0.444\\nsamples = 9\\nvalue = [3, 6]'),\n",
       " Text(0.1163394458599034, 0.5416666666666666, 'x[23] <= 0.5\\ngini = 0.375\\nsamples = 8\\nvalue = [2, 6]'),\n",
       " Text(0.11572061902022307, 0.5138888888888888, 'x[45] <= 0.5\\ngini = 0.48\\nsamples = 5\\nvalue = [2, 3]'),\n",
       " Text(0.11510179218054273, 0.4861111111111111, 'x[50] <= 0.038\\ngini = 0.444\\nsamples = 3\\nvalue = [2, 1]'),\n",
       " Text(0.1144829653408624, 0.4583333333333333, 'gini = 0.0\\nsamples = 2\\nvalue = [2, 0]'),\n",
       " Text(0.11572061902022307, 0.4583333333333333, 'gini = 0.0\\nsamples = 1\\nvalue = [0, 1]'),\n",
       " Text(0.1163394458599034, 0.4861111111111111, 'gini = 0.0\\nsamples = 2\\nvalue = [0, 2]'),\n",
       " Text(0.11695827269958374, 0.5138888888888888, 'gini = 0.0\\nsamples = 3\\nvalue = [0, 3]'),\n",
       " Text(0.11757709953926408, 0.5416666666666666, 'gini = 0.0\\nsamples = 1\\nvalue = [1, 0]'),\n",
       " Text(0.1194335800583051, 0.5694444444444444, 'x[12] <= 0.5\\ngini = 0.278\\nsamples = 6\\nvalue = [5, 1]'),\n",
       " Text(0.11881475321862475, 0.5416666666666666, 'gini = 0.0\\nsamples = 5\\nvalue = [5, 0]'),\n",
       " Text(0.12005240689798542, 0.5416666666666666, 'gini = 0.0\\nsamples = 1\\nvalue = [0, 1]'),\n",
       " Text(0.11788651295910425, 0.625, 'gini = 0.0\\nsamples = 2\\nvalue = [2, 0]'),\n",
       " Text(0.11788651295910425, 0.6805555555555556, 'gini = 0.0\\nsamples = 4\\nvalue = [4, 0]'),\n",
       " Text(0.11974299347814527, 0.7638888888888888, 'x[0] <= 0.79\\ngini = 0.463\\nsamples = 11\\nvalue = [4, 7]'),\n",
       " Text(0.11912416663846492, 0.7361111111111112, 'x[60] <= 0.018\\ngini = 0.346\\nsamples = 9\\nvalue = [2, 7]'),\n",
       " Text(0.11850533979878458, 0.7083333333333334, 'gini = 0.0\\nsamples = 2\\nvalue = [2, 0]'),\n",
       " Text(0.11974299347814527, 0.7083333333333334, 'gini = 0.0\\nsamples = 7\\nvalue = [0, 7]'),\n",
       " Text(0.1203618203178256, 0.7361111111111112, 'gini = 0.0\\nsamples = 2\\nvalue = [2, 0]'),\n",
       " Text(0.10808922709494641, 0.8194444444444444, 'gini = 0.0\\nsamples = 14\\nvalue = [14, 0]'),\n",
       " Text(0.14839757690615588, 0.8472222222222222, 'x[60] <= 0.056\\ngini = 0.491\\nsamples = 263\\nvalue = [149, 114]'),\n",
       " Text(0.139458429823586, 0.8194444444444444, 'x[50] <= 0.048\\ngini = 0.5\\nsamples = 158\\nvalue = [79, 79]'),\n",
       " Text(0.13163607180325174, 0.7916666666666666, 'x[0] <= 0.142\\ngini = 0.489\\nsamples = 120\\nvalue = [51, 69]'),\n",
       " Text(0.12755568232910952, 0.7638888888888888, 'x[4] <= 0.5\\ngini = 0.32\\nsamples = 10\\nvalue = [8, 2]'),\n",
       " Text(0.12693685548942918, 0.7361111111111112, 'gini = 0.0\\nsamples = 8\\nvalue = [8, 0]'),\n",
       " Text(0.12817450916878986, 0.7361111111111112, 'gini = 0.0\\nsamples = 2\\nvalue = [0, 2]'),\n",
       " Text(0.13571646127739395, 0.7638888888888888, 'x[14] <= 0.5\\ngini = 0.476\\nsamples = 110\\nvalue = [43, 67]'),\n",
       " Text(0.12941216284815052, 0.7361111111111112, 'x[51] <= 0.009\\ngini = 0.496\\nsamples = 88\\nvalue = [40, 48]'),\n",
       " Text(0.12361066122614736, 0.7083333333333334, 'x[0] <= 0.463\\ngini = 0.429\\nsamples = 45\\nvalue = [14, 31]'),\n",
       " Text(0.12098064715750594, 0.6805555555555556, 'x[50] <= 0.046\\ngini = 0.26\\nsamples = 26\\nvalue = [4, 22]'),\n",
       " Text(0.11974299347814527, 0.6527777777777778, 'x[60] <= 0.056\\ngini = 0.091\\nsamples = 21\\nvalue = [1, 20]'),\n",
       " Text(0.11912416663846492, 0.625, 'gini = 0.0\\nsamples = 20\\nvalue = [0, 20]'),\n",
       " Text(0.1203618203178256, 0.625, 'gini = 0.0\\nsamples = 1\\nvalue = [1, 0]'),\n",
       " Text(0.1222183008368666, 0.6527777777777778, 'x[50] <= 0.046\\ngini = 0.48\\nsamples = 5\\nvalue = [3, 2]'),\n",
       " Text(0.12159947399718628, 0.625, 'gini = 0.0\\nsamples = 3\\nvalue = [3, 0]'),\n",
       " Text(0.12283712767654695, 0.625, 'gini = 0.0\\nsamples = 2\\nvalue = [0, 2]'),\n",
       " Text(0.1262406752947888, 0.6805555555555556, 'x[6] <= 0.5\\ngini = 0.499\\nsamples = 19\\nvalue = [10, 9]'),\n",
       " Text(0.12469360819558796, 0.6527777777777778, 'x[60] <= 0.018\\ngini = 0.346\\nsamples = 9\\nvalue = [7, 2]'),\n",
       " Text(0.12407478135590762, 0.625, 'x[50] <= 0.045\\ngini = 0.444\\nsamples = 3\\nvalue = [1, 2]'),\n",
       " Text(0.12345595451622729, 0.5972222222222222, 'gini = 0.0\\nsamples = 1\\nvalue = [1, 0]'),\n",
       " Text(0.12469360819558796, 0.5972222222222222, 'gini = 0.0\\nsamples = 2\\nvalue = [0, 2]'),\n",
       " Text(0.1253124350352683, 0.625, 'gini = 0.0\\nsamples = 6\\nvalue = [6, 0]'),\n",
       " Text(0.12778774239398966, 0.6527777777777778, 'x[0] <= 0.722\\ngini = 0.42\\nsamples = 10\\nvalue = [3, 7]'),\n",
       " Text(0.12655008871462897, 0.625, 'x[18] <= 0.5\\ngini = 0.245\\nsamples = 7\\nvalue = [1, 6]'),\n",
       " Text(0.12593126187494863, 0.5972222222222222, 'gini = 0.0\\nsamples = 6\\nvalue = [0, 6]'),\n",
       " Text(0.12716891555430931, 0.5972222222222222, 'gini = 0.0\\nsamples = 1\\nvalue = [1, 0]'),\n",
       " Text(0.1290253960733503, 0.625, 'x[60] <= 0.03\\ngini = 0.444\\nsamples = 3\\nvalue = [2, 1]'),\n",
       " Text(0.12840656923366997, 0.5972222222222222, 'gini = 0.0\\nsamples = 1\\nvalue = [0, 1]'),\n",
       " Text(0.12964422291303065, 0.5972222222222222, 'gini = 0.0\\nsamples = 2\\nvalue = [2, 0]'),\n",
       " Text(0.1352136644701537, 0.7083333333333334, 'x[3] <= 0.5\\ngini = 0.478\\nsamples = 43\\nvalue = [26, 17]'),\n",
       " Text(0.13335718395111268, 0.6805555555555556, 'x[60] <= 0.053\\ngini = 0.497\\nsamples = 28\\nvalue = [13, 15]'),\n",
       " Text(0.13273835711143234, 0.6527777777777778, 'x[58] <= 0.628\\ngini = 0.491\\nsamples = 23\\nvalue = [13, 10]'),\n",
       " Text(0.13150070343207168, 0.625, 'x[18] <= 0.5\\ngini = 0.444\\nsamples = 18\\nvalue = [12, 6]'),\n",
       " Text(0.13088187659239134, 0.5972222222222222, 'x[51] <= 0.1\\ngini = 0.375\\nsamples = 16\\nvalue = [12, 4]'),\n",
       " Text(0.130263049752711, 0.5694444444444444, 'x[0] <= 0.235\\ngini = 0.32\\nsamples = 15\\nvalue = [12, 3]'),\n",
       " Text(0.12964422291303065, 0.5416666666666666, 'gini = 0.0\\nsamples = 1\\nvalue = [0, 1]'),\n",
       " Text(0.13088187659239134, 0.5416666666666666, 'x[13] <= 0.5\\ngini = 0.245\\nsamples = 14\\nvalue = [12, 2]'),\n",
       " Text(0.12964422291303065, 0.5138888888888888, 'x[50] <= 0.045\\ngini = 0.5\\nsamples = 2\\nvalue = [1, 1]'),\n",
       " Text(0.1290253960733503, 0.4861111111111111, 'gini = 0.0\\nsamples = 1\\nvalue = [1, 0]'),\n",
       " Text(0.130263049752711, 0.4861111111111111, 'gini = 0.0\\nsamples = 1\\nvalue = [0, 1]'),\n",
       " Text(0.132119530271752, 0.5138888888888888, 'x[51] <= 0.045\\ngini = 0.153\\nsamples = 12\\nvalue = [11, 1]'),\n",
       " Text(0.13150070343207168, 0.4861111111111111, 'gini = 0.0\\nsamples = 9\\nvalue = [9, 0]'),\n",
       " Text(0.13273835711143234, 0.4861111111111111, 'x[51] <= 0.064\\ngini = 0.444\\nsamples = 3\\nvalue = [2, 1]'),\n",
       " Text(0.132119530271752, 0.4583333333333333, 'gini = 0.0\\nsamples = 1\\nvalue = [0, 1]'),\n",
       " Text(0.13335718395111268, 0.4583333333333333, 'gini = 0.0\\nsamples = 2\\nvalue = [2, 0]'),\n",
       " Text(0.13150070343207168, 0.5694444444444444, 'gini = 0.0\\nsamples = 1\\nvalue = [0, 1]'),\n",
       " Text(0.132119530271752, 0.5972222222222222, 'gini = 0.0\\nsamples = 2\\nvalue = [0, 2]'),\n",
       " Text(0.13397601079079302, 0.625, 'x[29] <= 0.5\\ngini = 0.32\\nsamples = 5\\nvalue = [1, 4]'),\n",
       " Text(0.13335718395111268, 0.5972222222222222, 'gini = 0.0\\nsamples = 4\\nvalue = [0, 4]'),\n",
       " Text(0.13459483763047336, 0.5972222222222222, 'gini = 0.0\\nsamples = 1\\nvalue = [1, 0]'),\n",
       " Text(0.13397601079079302, 0.6527777777777778, 'gini = 0.0\\nsamples = 5\\nvalue = [0, 5]'),\n",
       " Text(0.1370701449891947, 0.6805555555555556, 'x[49] <= 0.5\\ngini = 0.231\\nsamples = 15\\nvalue = [13, 2]'),\n",
       " Text(0.13583249130983402, 0.6527777777777778, 'x[61] <= 0.315\\ngini = 0.142\\nsamples = 13\\nvalue = [12, 1]'),\n",
       " Text(0.1352136644701537, 0.625, 'gini = 0.0\\nsamples = 10\\nvalue = [10, 0]'),\n",
       " Text(0.13645131814951436, 0.625, 'x[28] <= 0.5\\ngini = 0.444\\nsamples = 3\\nvalue = [2, 1]'),\n",
       " Text(0.13583249130983402, 0.5972222222222222, 'gini = 0.0\\nsamples = 2\\nvalue = [2, 0]'),\n",
       " Text(0.1370701449891947, 0.5972222222222222, 'gini = 0.0\\nsamples = 1\\nvalue = [0, 1]'),\n",
       " Text(0.1383077986685554, 0.6527777777777778, 'x[58] <= 0.427\\ngini = 0.5\\nsamples = 2\\nvalue = [1, 1]'),\n",
       " Text(0.13768897182887505, 0.625, 'gini = 0.0\\nsamples = 1\\nvalue = [1, 0]'),\n",
       " Text(0.1389266255082357, 0.625, 'gini = 0.0\\nsamples = 1\\nvalue = [0, 1]'),\n",
       " Text(0.1420207597066374, 0.7361111111111112, 'x[53] <= 0.429\\ngini = 0.236\\nsamples = 22\\nvalue = [3, 19]'),\n",
       " Text(0.14140193286695707, 0.7083333333333334, 'x[50] <= 0.042\\ngini = 0.172\\nsamples = 21\\nvalue = [2, 19]'),\n",
       " Text(0.14016427918759639, 0.6805555555555556, 'x[60] <= 0.031\\ngini = 0.5\\nsamples = 2\\nvalue = [1, 1]'),\n",
       " Text(0.13954545234791604, 0.6527777777777778, 'gini = 0.0\\nsamples = 1\\nvalue = [0, 1]'),\n",
       " Text(0.14078310602727673, 0.6527777777777778, 'gini = 0.0\\nsamples = 1\\nvalue = [1, 0]'),\n",
       " Text(0.14263958654631773, 0.6805555555555556, 'x[41] <= 0.5\\ngini = 0.1\\nsamples = 19\\nvalue = [1, 18]'),\n",
       " Text(0.1420207597066374, 0.6527777777777778, 'gini = 0.0\\nsamples = 17\\nvalue = [0, 17]'),\n",
       " Text(0.14325841338599807, 0.6527777777777778, 'x[45] <= 0.5\\ngini = 0.5\\nsamples = 2\\nvalue = [1, 1]'),\n",
       " Text(0.14263958654631773, 0.625, 'gini = 0.0\\nsamples = 1\\nvalue = [1, 0]'),\n",
       " Text(0.1438772402256784, 0.625, 'gini = 0.0\\nsamples = 1\\nvalue = [0, 1]'),\n",
       " Text(0.14263958654631773, 0.7083333333333334, 'gini = 0.0\\nsamples = 1\\nvalue = [1, 0]'),\n",
       " Text(0.14728078784392026, 0.7916666666666666, 'x[59] <= 0.456\\ngini = 0.388\\nsamples = 38\\nvalue = [28, 10]'),\n",
       " Text(0.14666196100423992, 0.7638888888888888, 'gini = 0.0\\nsamples = 2\\nvalue = [0, 2]'),\n",
       " Text(0.1478996146836006, 0.7638888888888888, 'x[51] <= 0.009\\ngini = 0.346\\nsamples = 36\\nvalue = [28, 8]'),\n",
       " Text(0.14573372074471944, 0.7361111111111112, 'x[60] <= 0.018\\ngini = 0.475\\nsamples = 18\\nvalue = [11, 7]'),\n",
       " Text(0.14449606706535875, 0.7083333333333334, 'x[60] <= 0.001\\ngini = 0.278\\nsamples = 6\\nvalue = [1, 5]'),\n",
       " Text(0.1438772402256784, 0.6805555555555556, 'gini = 0.0\\nsamples = 1\\nvalue = [1, 0]'),\n",
       " Text(0.1451148939050391, 0.6805555555555556, 'gini = 0.0\\nsamples = 5\\nvalue = [0, 5]'),\n",
       " Text(0.1469713744240801, 0.7083333333333334, 'x[0] <= 0.722\\ngini = 0.278\\nsamples = 12\\nvalue = [10, 2]'),\n",
       " Text(0.14635254758439975, 0.6805555555555556, 'gini = 0.0\\nsamples = 10\\nvalue = [10, 0]'),\n",
       " Text(0.14759020126376043, 0.6805555555555556, 'gini = 0.0\\nsamples = 2\\nvalue = [0, 2]'),\n",
       " Text(0.15006550862248177, 0.7361111111111112, 'x[50] <= 0.049\\ngini = 0.105\\nsamples = 18\\nvalue = [17, 1]'),\n",
       " Text(0.14944668178280146, 0.7083333333333334, 'x[58] <= 0.302\\ngini = 0.444\\nsamples = 3\\nvalue = [2, 1]'),\n",
       " Text(0.14882785494312112, 0.6805555555555556, 'gini = 0.0\\nsamples = 1\\nvalue = [0, 1]'),\n",
       " Text(0.15006550862248177, 0.6805555555555556, 'gini = 0.0\\nsamples = 2\\nvalue = [2, 0]'),\n",
       " Text(0.15068433546216212, 0.7083333333333334, 'gini = 0.0\\nsamples = 15\\nvalue = [15, 0]'),\n",
       " Text(0.15733672398872575, 0.8194444444444444, 'x[53] <= 0.071\\ngini = 0.444\\nsamples = 105\\nvalue = [70, 35]'),\n",
       " Text(0.15532553675976465, 0.7916666666666666, 'x[23] <= 0.5\\ngini = 0.486\\nsamples = 77\\nvalue = [45, 32]'),\n",
       " Text(0.15315964282088348, 0.7638888888888888, 'x[32] <= 0.5\\ngini = 0.495\\nsamples = 40\\nvalue = [18, 22]'),\n",
       " Text(0.15254081598120314, 0.7361111111111112, 'x[0] <= 0.117\\ngini = 0.467\\nsamples = 35\\nvalue = [13, 22]'),\n",
       " Text(0.1519219891415228, 0.7083333333333334, 'gini = 0.0\\nsamples = 7\\nvalue = [0, 7]'),\n",
       " Text(0.15315964282088348, 0.7083333333333334, 'x[50] <= 0.042\\ngini = 0.497\\nsamples = 28\\nvalue = [13, 15]'),\n",
       " Text(0.15254081598120314, 0.6805555555555556, 'gini = 0.0\\nsamples = 4\\nvalue = [4, 0]'),\n",
       " Text(0.1537784696605638, 0.6805555555555556, 'x[38] <= 0.5\\ngini = 0.469\\nsamples = 24\\nvalue = [9, 15]'),\n",
       " Text(0.15315964282088348, 0.6527777777777778, 'x[51] <= 0.009\\ngini = 0.499\\nsamples = 19\\nvalue = [9, 10]'),\n",
       " Text(0.1519219891415228, 0.625, 'x[4] <= 0.5\\ngini = 0.346\\nsamples = 9\\nvalue = [7, 2]'),\n",
       " Text(0.15130316230184246, 0.5972222222222222, 'gini = 0.0\\nsamples = 6\\nvalue = [6, 0]'),\n",
       " Text(0.15254081598120314, 0.5972222222222222, 'x[36] <= 0.5\\ngini = 0.444\\nsamples = 3\\nvalue = [1, 2]'),\n",
       " Text(0.1519219891415228, 0.5694444444444444, 'gini = 0.0\\nsamples = 2\\nvalue = [0, 2]'),\n",
       " Text(0.15315964282088348, 0.5694444444444444, 'gini = 0.0\\nsamples = 1\\nvalue = [1, 0]'),\n",
       " Text(0.15439729650024414, 0.625, 'x[60] <= 0.074\\ngini = 0.32\\nsamples = 10\\nvalue = [2, 8]'),\n",
       " Text(0.1537784696605638, 0.5972222222222222, 'gini = 0.0\\nsamples = 2\\nvalue = [2, 0]'),\n",
       " Text(0.15501612333992448, 0.5972222222222222, 'gini = 0.0\\nsamples = 8\\nvalue = [0, 8]'),\n",
       " Text(0.15439729650024414, 0.6527777777777778, 'gini = 0.0\\nsamples = 5\\nvalue = [0, 5]'),\n",
       " Text(0.1537784696605638, 0.7361111111111112, 'gini = 0.0\\nsamples = 5\\nvalue = [5, 0]'),\n",
       " Text(0.15749143069864582, 0.7638888888888888, 'x[50] <= 0.042\\ngini = 0.394\\nsamples = 37\\nvalue = [27, 10]'),\n",
       " Text(0.1568726038589655, 0.7361111111111112, 'gini = 0.0\\nsamples = 2\\nvalue = [0, 2]'),\n",
       " Text(0.15811025753832617, 0.7361111111111112, 'x[44] <= 0.5\\ngini = 0.353\\nsamples = 35\\nvalue = [27, 8]'),\n",
       " Text(0.15749143069864582, 0.7083333333333334, 'x[1] <= 0.5\\ngini = 0.327\\nsamples = 34\\nvalue = [27, 7]'),\n",
       " Text(0.1568726038589655, 0.6805555555555556, 'x[60] <= 0.145\\ngini = 0.298\\nsamples = 33\\nvalue = [27, 6]'),\n",
       " Text(0.15625377701928517, 0.6527777777777778, 'x[3] <= 0.5\\ngini = 0.264\\nsamples = 32\\nvalue = [27, 5]'),\n",
       " Text(0.15563495017960483, 0.625, 'gini = 0.0\\nsamples = 12\\nvalue = [12, 0]'),\n",
       " Text(0.1568726038589655, 0.625, 'x[49] <= 0.5\\ngini = 0.375\\nsamples = 20\\nvalue = [15, 5]'),\n",
       " Text(0.15625377701928517, 0.5972222222222222, 'x[60] <= 0.141\\ngini = 0.332\\nsamples = 19\\nvalue = [15, 4]'),\n",
       " Text(0.15439729650024414, 0.5694444444444444, 'x[50] <= 0.049\\ngini = 0.18\\nsamples = 10\\nvalue = [9, 1]'),\n",
       " Text(0.1537784696605638, 0.5416666666666666, 'gini = 0.0\\nsamples = 7\\nvalue = [7, 0]'),\n",
       " Text(0.15501612333992448, 0.5416666666666666, 'x[50] <= 0.05\\ngini = 0.444\\nsamples = 3\\nvalue = [2, 1]'),\n",
       " Text(0.15439729650024414, 0.5138888888888888, 'gini = 0.0\\nsamples = 1\\nvalue = [0, 1]'),\n",
       " Text(0.15563495017960483, 0.5138888888888888, 'gini = 0.0\\nsamples = 2\\nvalue = [2, 0]'),\n",
       " Text(0.15811025753832617, 0.5694444444444444, 'x[60] <= 0.142\\ngini = 0.444\\nsamples = 9\\nvalue = [6, 3]'),\n",
       " Text(0.15749143069864582, 0.5416666666666666, 'x[0] <= 0.265\\ngini = 0.5\\nsamples = 6\\nvalue = [3, 3]'),\n",
       " Text(0.1568726038589655, 0.5138888888888888, 'x[50] <= 0.045\\ngini = 0.48\\nsamples = 5\\nvalue = [3, 2]'),\n",
       " Text(0.15625377701928517, 0.4861111111111111, 'gini = 0.0\\nsamples = 2\\nvalue = [2, 0]'),\n",
       " Text(0.15749143069864582, 0.4861111111111111, 'x[34] <= 0.5\\ngini = 0.444\\nsamples = 3\\nvalue = [1, 2]'),\n",
       " Text(0.1568726038589655, 0.4583333333333333, 'gini = 0.0\\nsamples = 1\\nvalue = [1, 0]'),\n",
       " Text(0.15811025753832617, 0.4583333333333333, 'gini = 0.0\\nsamples = 2\\nvalue = [0, 2]'),\n",
       " Text(0.15811025753832617, 0.5138888888888888, 'gini = 0.0\\nsamples = 1\\nvalue = [0, 1]'),\n",
       " Text(0.1587290843780065, 0.5416666666666666, 'gini = 0.0\\nsamples = 3\\nvalue = [3, 0]'),\n",
       " Text(0.15749143069864582, 0.5972222222222222, 'gini = 0.0\\nsamples = 1\\nvalue = [0, 1]'),\n",
       " Text(0.15749143069864582, 0.6527777777777778, 'gini = 0.0\\nsamples = 1\\nvalue = [0, 1]'),\n",
       " Text(0.15811025753832617, 0.6805555555555556, 'gini = 0.0\\nsamples = 1\\nvalue = [0, 1]'),\n",
       " Text(0.1587290843780065, 0.7083333333333334, 'gini = 0.0\\nsamples = 1\\nvalue = [0, 1]'),\n",
       " Text(0.15934791121768685, 0.7916666666666666, 'x[52] <= 0.012\\ngini = 0.191\\nsamples = 28\\nvalue = [25, 3]'),\n",
       " Text(0.1587290843780065, 0.7638888888888888, 'gini = 0.0\\nsamples = 1\\nvalue = [0, 1]'),\n",
       " Text(0.1599667380573672, 0.7638888888888888, 'x[0] <= 0.08\\ngini = 0.137\\nsamples = 27\\nvalue = [25, 2]'),\n",
       " Text(0.15934791121768685, 0.7361111111111112, 'gini = 0.0\\nsamples = 1\\nvalue = [0, 1]'),\n",
       " Text(0.1605855648970475, 0.7361111111111112, 'x[30] <= 0.5\\ngini = 0.074\\nsamples = 26\\nvalue = [25, 1]'),\n",
       " Text(0.1599667380573672, 0.7083333333333334, 'gini = 0.0\\nsamples = 24\\nvalue = [24, 0]'),\n",
       " Text(0.16120439173672785, 0.7083333333333334, 'x[21] <= 0.5\\ngini = 0.5\\nsamples = 2\\nvalue = [1, 1]'),\n",
       " Text(0.1605855648970475, 0.6805555555555556, 'gini = 0.0\\nsamples = 1\\nvalue = [1, 0]'),\n",
       " Text(0.1618232185764082, 0.6805555555555556, 'gini = 0.0\\nsamples = 1\\nvalue = [0, 1]'),\n",
       " Text(0.22090358085601156, 0.875, 'x[58] <= 0.187\\ngini = 0.489\\nsamples = 926\\nvalue = [395, 531]'),\n",
       " Text(0.18283915820211466, 0.8472222222222222, 'x[34] <= 0.5\\ngini = 0.5\\nsamples = 378\\nvalue = [192, 186]'),\n",
       " Text(0.1667738332938509, 0.8194444444444444, 'x[3] <= 0.5\\ngini = 0.431\\nsamples = 51\\nvalue = [35, 16]'),\n",
       " Text(0.16429852593512953, 0.7916666666666666, 'x[23] <= 0.5\\ngini = 0.225\\nsamples = 31\\nvalue = [27, 4]'),\n",
       " Text(0.16244204541608853, 0.7638888888888888, 'x[4] <= 0.5\\ngini = 0.08\\nsamples = 24\\nvalue = [23, 1]'),\n",
       " Text(0.1618232185764082, 0.7361111111111112, 'gini = 0.0\\nsamples = 22\\nvalue = [22, 0]'),\n",
       " Text(0.16306087225576887, 0.7361111111111112, 'x[59] <= 0.766\\ngini = 0.5\\nsamples = 2\\nvalue = [1, 1]'),\n",
       " Text(0.16244204541608853, 0.7083333333333334, 'gini = 0.0\\nsamples = 1\\nvalue = [0, 1]'),\n",
       " Text(0.16367969909544922, 0.7083333333333334, 'gini = 0.0\\nsamples = 1\\nvalue = [1, 0]'),\n",
       " Text(0.16615500645417056, 0.7638888888888888, 'x[47] <= 0.5\\ngini = 0.49\\nsamples = 7\\nvalue = [4, 3]'),\n",
       " Text(0.16553617961449021, 0.7361111111111112, 'x[58] <= 0.08\\ngini = 0.375\\nsamples = 4\\nvalue = [1, 3]'),\n",
       " Text(0.16491735277480987, 0.7083333333333334, 'gini = 0.0\\nsamples = 3\\nvalue = [0, 3]'),\n",
       " Text(0.16615500645417056, 0.7083333333333334, 'gini = 0.0\\nsamples = 1\\nvalue = [1, 0]'),\n",
       " Text(0.1667738332938509, 0.7361111111111112, 'gini = 0.0\\nsamples = 3\\nvalue = [3, 0]'),\n",
       " Text(0.16924914065257224, 0.7916666666666666, 'x[45] <= 0.5\\ngini = 0.48\\nsamples = 20\\nvalue = [8, 12]'),\n",
       " Text(0.1686303138128919, 0.7638888888888888, 'x[53] <= 0.214\\ngini = 0.375\\nsamples = 16\\nvalue = [4, 12]'),\n",
       " Text(0.16801148697321155, 0.7361111111111112, 'x[38] <= 0.5\\ngini = 0.245\\nsamples = 14\\nvalue = [2, 12]'),\n",
       " Text(0.16739266013353124, 0.7083333333333334, 'gini = 0.0\\nsamples = 11\\nvalue = [0, 11]'),\n",
       " Text(0.1686303138128919, 0.7083333333333334, 'x[50] <= 0.075\\ngini = 0.444\\nsamples = 3\\nvalue = [2, 1]'),\n",
       " Text(0.16801148697321155, 0.6805555555555556, 'gini = 0.0\\nsamples = 1\\nvalue = [0, 1]'),\n",
       " Text(0.16924914065257224, 0.6805555555555556, 'gini = 0.0\\nsamples = 2\\nvalue = [2, 0]'),\n",
       " Text(0.16924914065257224, 0.7361111111111112, 'gini = 0.0\\nsamples = 2\\nvalue = [2, 0]'),\n",
       " Text(0.16986796749225258, 0.7638888888888888, 'gini = 0.0\\nsamples = 4\\nvalue = [4, 0]'),\n",
       " Text(0.1989044831103784, 0.8194444444444444, 'x[23] <= 0.5\\ngini = 0.499\\nsamples = 327\\nvalue = [157, 170]'),\n",
       " Text(0.18429436819230044, 0.7916666666666666, 'x[0] <= 0.228\\ngini = 0.485\\nsamples = 196\\nvalue = [81, 115]'),\n",
       " Text(0.17574682246921577, 0.7638888888888888, 'x[50] <= 0.149\\ngini = 0.426\\nsamples = 78\\nvalue = [24, 54]'),\n",
       " Text(0.17512799562953543, 0.7361111111111112, 'x[31] <= 0.5\\ngini = 0.451\\nsamples = 70\\nvalue = [24, 46]'),\n",
       " Text(0.17110562117161326, 0.7083333333333334, 'x[0] <= 0.056\\ngini = 0.469\\nsamples = 8\\nvalue = [5, 3]'),\n",
       " Text(0.17048679433193292, 0.6805555555555556, 'gini = 0.0\\nsamples = 2\\nvalue = [0, 2]'),\n",
       " Text(0.17172444801129358, 0.6805555555555556, 'x[58] <= 0.045\\ngini = 0.278\\nsamples = 6\\nvalue = [5, 1]'),\n",
       " Text(0.17110562117161326, 0.6527777777777778, 'gini = 0.0\\nsamples = 1\\nvalue = [0, 1]'),\n",
       " Text(0.17234327485097392, 0.6527777777777778, 'gini = 0.0\\nsamples = 5\\nvalue = [5, 0]'),\n",
       " Text(0.17915037008745763, 0.7083333333333334, 'x[53] <= 0.214\\ngini = 0.425\\nsamples = 62\\nvalue = [19, 43]'),\n",
       " Text(0.1766750627287363, 0.6805555555555556, 'x[60] <= 0.049\\ngini = 0.388\\nsamples = 57\\nvalue = [15, 42]'),\n",
       " Text(0.1735809285303346, 0.6527777777777778, 'x[48] <= 0.5\\ngini = 0.191\\nsamples = 28\\nvalue = [3, 25]'),\n",
       " Text(0.17172444801129358, 0.625, 'x[47] <= 0.5\\ngini = 0.083\\nsamples = 23\\nvalue = [1, 22]'),\n",
       " Text(0.17110562117161326, 0.5972222222222222, 'gini = 0.0\\nsamples = 21\\nvalue = [0, 21]'),\n",
       " Text(0.17234327485097392, 0.5972222222222222, 'x[28] <= 0.5\\ngini = 0.5\\nsamples = 2\\nvalue = [1, 1]'),\n",
       " Text(0.17172444801129358, 0.5694444444444444, 'gini = 0.0\\nsamples = 1\\nvalue = [0, 1]'),\n",
       " Text(0.17296210169065426, 0.5694444444444444, 'gini = 0.0\\nsamples = 1\\nvalue = [1, 0]'),\n",
       " Text(0.1754374090493756, 0.625, 'x[50] <= 0.072\\ngini = 0.48\\nsamples = 5\\nvalue = [2, 3]'),\n",
       " Text(0.1748185822096953, 0.5972222222222222, 'x[50] <= 0.054\\ngini = 0.444\\nsamples = 3\\nvalue = [2, 1]'),\n",
       " Text(0.17419975537001495, 0.5694444444444444, 'gini = 0.0\\nsamples = 1\\nvalue = [0, 1]'),\n",
       " Text(0.1754374090493756, 0.5694444444444444, 'gini = 0.0\\nsamples = 2\\nvalue = [2, 0]'),\n",
       " Text(0.17605623588905595, 0.5972222222222222, 'gini = 0.0\\nsamples = 2\\nvalue = [0, 2]'),\n",
       " Text(0.17976919692713797, 0.6527777777777778, 'x[60] <= 0.054\\ngini = 0.485\\nsamples = 29\\nvalue = [12, 17]'),\n",
       " Text(0.17791271640809697, 0.625, 'x[21] <= 0.5\\ngini = 0.444\\nsamples = 12\\nvalue = [8, 4]'),\n",
       " Text(0.17729388956841663, 0.5972222222222222, 'x[4] <= 0.5\\ngini = 0.32\\nsamples = 10\\nvalue = [8, 2]'),\n",
       " Text(0.1766750627287363, 0.5694444444444444, 'x[55] <= 0.5\\ngini = 0.198\\nsamples = 9\\nvalue = [8, 1]'),\n",
       " Text(0.17605623588905595, 0.5416666666666666, 'gini = 0.0\\nsamples = 7\\nvalue = [7, 0]'),\n",
       " Text(0.17729388956841663, 0.5416666666666666, 'x[50] <= 0.087\\ngini = 0.5\\nsamples = 2\\nvalue = [1, 1]'),\n",
       " Text(0.1766750627287363, 0.5138888888888888, 'gini = 0.0\\nsamples = 1\\nvalue = [1, 0]'),\n",
       " Text(0.17791271640809697, 0.5138888888888888, 'gini = 0.0\\nsamples = 1\\nvalue = [0, 1]'),\n",
       " Text(0.17791271640809697, 0.5694444444444444, 'gini = 0.0\\nsamples = 1\\nvalue = [0, 1]'),\n",
       " Text(0.1785315432477773, 0.5972222222222222, 'gini = 0.0\\nsamples = 2\\nvalue = [0, 2]'),\n",
       " Text(0.181625677446179, 0.625, 'x[0] <= 0.216\\ngini = 0.36\\nsamples = 17\\nvalue = [4, 13]'),\n",
       " Text(0.18100685060649865, 0.5972222222222222, 'x[45] <= 0.5\\ngini = 0.305\\nsamples = 16\\nvalue = [3, 13]'),\n",
       " Text(0.1803880237668183, 0.5694444444444444, 'x[0] <= 0.049\\ngini = 0.231\\nsamples = 15\\nvalue = [2, 13]'),\n",
       " Text(0.17976919692713797, 0.5416666666666666, 'x[18] <= 0.5\\ngini = 0.5\\nsamples = 4\\nvalue = [2, 2]'),\n",
       " Text(0.17915037008745763, 0.5138888888888888, 'gini = 0.0\\nsamples = 2\\nvalue = [0, 2]'),\n",
       " Text(0.1803880237668183, 0.5138888888888888, 'gini = 0.0\\nsamples = 2\\nvalue = [2, 0]'),\n",
       " Text(0.18100685060649865, 0.5416666666666666, 'gini = 0.0\\nsamples = 11\\nvalue = [0, 11]'),\n",
       " Text(0.181625677446179, 0.5694444444444444, 'gini = 0.0\\nsamples = 1\\nvalue = [1, 0]'),\n",
       " Text(0.1822445042858593, 0.5972222222222222, 'gini = 0.0\\nsamples = 1\\nvalue = [1, 0]'),\n",
       " Text(0.181625677446179, 0.6805555555555556, 'x[60] <= 0.018\\ngini = 0.32\\nsamples = 5\\nvalue = [4, 1]'),\n",
       " Text(0.18100685060649865, 0.6527777777777778, 'gini = 0.0\\nsamples = 1\\nvalue = [0, 1]'),\n",
       " Text(0.1822445042858593, 0.6527777777777778, 'gini = 0.0\\nsamples = 4\\nvalue = [4, 0]'),\n",
       " Text(0.17636564930889612, 0.7361111111111112, 'gini = 0.0\\nsamples = 8\\nvalue = [0, 8]'),\n",
       " Text(0.1928419139153851, 0.7638888888888888, 'x[0] <= 0.574\\ngini = 0.499\\nsamples = 118\\nvalue = [57, 61]'),\n",
       " Text(0.18920630623226312, 0.7361111111111112, 'x[40] <= 0.5\\ngini = 0.494\\nsamples = 83\\nvalue = [46, 37]'),\n",
       " Text(0.18688570558346185, 0.7083333333333334, 'x[50] <= 0.058\\ngini = 0.5\\nsamples = 72\\nvalue = [36, 36]'),\n",
       " Text(0.18410098480490034, 0.6805555555555556, 'x[60] <= 0.021\\ngini = 0.26\\nsamples = 13\\nvalue = [11, 2]'),\n",
       " Text(0.18348215796522, 0.6527777777777778, 'gini = 0.0\\nsamples = 1\\nvalue = [0, 1]'),\n",
       " Text(0.18471981164458068, 0.6527777777777778, 'x[1] <= 0.5\\ngini = 0.153\\nsamples = 12\\nvalue = [11, 1]'),\n",
       " Text(0.18410098480490034, 0.625, 'gini = 0.0\\nsamples = 10\\nvalue = [10, 0]'),\n",
       " Text(0.18533863848426102, 0.625, 'x[22] <= 0.5\\ngini = 0.5\\nsamples = 2\\nvalue = [1, 1]'),\n",
       " Text(0.18471981164458068, 0.5972222222222222, 'gini = 0.0\\nsamples = 1\\nvalue = [1, 0]'),\n",
       " Text(0.18595746532394133, 0.5972222222222222, 'gini = 0.0\\nsamples = 1\\nvalue = [0, 1]'),\n",
       " Text(0.18967042636202336, 0.6805555555555556, 'x[50] <= 0.202\\ngini = 0.488\\nsamples = 59\\nvalue = [25, 34]'),\n",
       " Text(0.18905159952234304, 0.6527777777777778, 'x[55] <= 0.5\\ngini = 0.472\\nsamples = 55\\nvalue = [21, 34]'),\n",
       " Text(0.18781394584298236, 0.625, 'x[6] <= 0.5\\ngini = 0.495\\nsamples = 42\\nvalue = [19, 23]'),\n",
       " Text(0.18719511900330202, 0.5972222222222222, 'x[60] <= 0.024\\ngini = 0.484\\nsamples = 39\\nvalue = [16, 23]'),\n",
       " Text(0.18657629216362168, 0.5694444444444444, 'gini = 0.0\\nsamples = 4\\nvalue = [0, 4]'),\n",
       " Text(0.18781394584298236, 0.5694444444444444, 'x[60] <= 0.024\\ngini = 0.496\\nsamples = 35\\nvalue = [16, 19]'),\n",
       " Text(0.18719511900330202, 0.5416666666666666, 'gini = 0.0\\nsamples = 3\\nvalue = [3, 0]'),\n",
       " Text(0.1884327726826627, 0.5416666666666666, 'x[0] <= 0.315\\ngini = 0.482\\nsamples = 32\\nvalue = [13, 19]'),\n",
       " Text(0.18719511900330202, 0.5138888888888888, 'x[50] <= 0.079\\ngini = 0.444\\nsamples = 12\\nvalue = [8, 4]'),\n",
       " Text(0.18657629216362168, 0.4861111111111111, 'gini = 0.0\\nsamples = 5\\nvalue = [5, 0]'),\n",
       " Text(0.18781394584298236, 0.4861111111111111, 'x[0] <= 0.284\\ngini = 0.49\\nsamples = 7\\nvalue = [3, 4]'),\n",
       " Text(0.18719511900330202, 0.4583333333333333, 'gini = 0.0\\nsamples = 4\\nvalue = [0, 4]'),\n",
       " Text(0.1884327726826627, 0.4583333333333333, 'gini = 0.0\\nsamples = 3\\nvalue = [3, 0]'),\n",
       " Text(0.18967042636202336, 0.5138888888888888, 'x[51] <= 0.009\\ngini = 0.375\\nsamples = 20\\nvalue = [5, 15]'),\n",
       " Text(0.18905159952234304, 0.4861111111111111, 'gini = 0.0\\nsamples = 9\\nvalue = [0, 9]'),\n",
       " Text(0.1902892532017037, 0.4861111111111111, 'x[46] <= 0.5\\ngini = 0.496\\nsamples = 11\\nvalue = [5, 6]'),\n",
       " Text(0.18967042636202336, 0.4583333333333333, 'x[51] <= 0.045\\ngini = 0.408\\nsamples = 7\\nvalue = [5, 2]'),\n",
       " Text(0.18905159952234304, 0.4305555555555556, 'x[3] <= 0.5\\ngini = 0.278\\nsamples = 6\\nvalue = [5, 1]'),\n",
       " Text(0.1884327726826627, 0.4027777777777778, 'gini = 0.0\\nsamples = 5\\nvalue = [5, 0]'),\n",
       " Text(0.18967042636202336, 0.4027777777777778, 'gini = 0.0\\nsamples = 1\\nvalue = [0, 1]'),\n",
       " Text(0.1902892532017037, 0.4305555555555556, 'gini = 0.0\\nsamples = 1\\nvalue = [0, 1]'),\n",
       " Text(0.19090808004138404, 0.4583333333333333, 'gini = 0.0\\nsamples = 4\\nvalue = [0, 4]'),\n",
       " Text(0.1884327726826627, 0.5972222222222222, 'gini = 0.0\\nsamples = 3\\nvalue = [3, 0]'),\n",
       " Text(0.1902892532017037, 0.625, 'x[11] <= 0.5\\ngini = 0.26\\nsamples = 13\\nvalue = [2, 11]'),\n",
       " Text(0.18967042636202336, 0.5972222222222222, 'x[51] <= 0.045\\ngini = 0.153\\nsamples = 12\\nvalue = [1, 11]'),\n",
       " Text(0.18905159952234304, 0.5694444444444444, 'gini = 0.0\\nsamples = 11\\nvalue = [0, 11]'),\n",
       " Text(0.1902892532017037, 0.5694444444444444, 'gini = 0.0\\nsamples = 1\\nvalue = [1, 0]'),\n",
       " Text(0.19090808004138404, 0.5972222222222222, 'gini = 0.0\\nsamples = 1\\nvalue = [1, 0]'),\n",
       " Text(0.1902892532017037, 0.6527777777777778, 'gini = 0.0\\nsamples = 4\\nvalue = [4, 0]'),\n",
       " Text(0.19152690688106438, 0.7083333333333334, 'x[7] <= 0.5\\ngini = 0.165\\nsamples = 11\\nvalue = [10, 1]'),\n",
       " Text(0.19090808004138404, 0.6805555555555556, 'gini = 0.0\\nsamples = 10\\nvalue = [10, 0]'),\n",
       " Text(0.19214573372074473, 0.6805555555555556, 'gini = 0.0\\nsamples = 1\\nvalue = [0, 1]'),\n",
       " Text(0.1964775215985071, 0.7361111111111112, 'x[60] <= 0.056\\ngini = 0.431\\nsamples = 35\\nvalue = [11, 24]'),\n",
       " Text(0.1952398679191464, 0.7083333333333334, 'x[8] <= 0.5\\ngini = 0.383\\nsamples = 31\\nvalue = [8, 23]'),\n",
       " Text(0.19462104107946607, 0.6805555555555556, 'x[50] <= 0.064\\ngini = 0.358\\nsamples = 30\\nvalue = [7, 23]'),\n",
       " Text(0.19338338740010538, 0.6527777777777778, 'x[60] <= 0.053\\ngini = 0.486\\nsamples = 12\\nvalue = [5, 7]'),\n",
       " Text(0.19276456056042507, 0.625, 'x[50] <= 0.062\\ngini = 0.346\\nsamples = 9\\nvalue = [2, 7]'),\n",
       " Text(0.19214573372074473, 0.5972222222222222, 'x[1] <= 0.5\\ngini = 0.219\\nsamples = 8\\nvalue = [1, 7]'),\n",
       " Text(0.19152690688106438, 0.5694444444444444, 'gini = 0.0\\nsamples = 7\\nvalue = [0, 7]'),\n",
       " Text(0.19276456056042507, 0.5694444444444444, 'gini = 0.0\\nsamples = 1\\nvalue = [1, 0]'),\n",
       " Text(0.19338338740010538, 0.5972222222222222, 'gini = 0.0\\nsamples = 1\\nvalue = [1, 0]'),\n",
       " Text(0.19400221423978573, 0.625, 'gini = 0.0\\nsamples = 3\\nvalue = [3, 0]'),\n",
       " Text(0.19585869475882675, 0.6527777777777778, 'x[15] <= 0.5\\ngini = 0.198\\nsamples = 18\\nvalue = [2, 16]'),\n",
       " Text(0.1952398679191464, 0.625, 'x[0] <= 0.722\\ngini = 0.111\\nsamples = 17\\nvalue = [1, 16]'),\n",
       " Text(0.19462104107946607, 0.5972222222222222, 'gini = 0.0\\nsamples = 12\\nvalue = [0, 12]'),\n",
       " Text(0.19585869475882675, 0.5972222222222222, 'x[61] <= 0.315\\ngini = 0.32\\nsamples = 5\\nvalue = [1, 4]'),\n",
       " Text(0.1952398679191464, 0.5694444444444444, 'gini = 0.0\\nsamples = 3\\nvalue = [0, 3]'),\n",
       " Text(0.1964775215985071, 0.5694444444444444, 'x[50] <= 0.076\\ngini = 0.5\\nsamples = 2\\nvalue = [1, 1]'),\n",
       " Text(0.19585869475882675, 0.5416666666666666, 'gini = 0.0\\nsamples = 1\\nvalue = [0, 1]'),\n",
       " Text(0.1970963484381874, 0.5416666666666666, 'gini = 0.0\\nsamples = 1\\nvalue = [1, 0]'),\n",
       " Text(0.1964775215985071, 0.625, 'gini = 0.0\\nsamples = 1\\nvalue = [1, 0]'),\n",
       " Text(0.19585869475882675, 0.6805555555555556, 'gini = 0.0\\nsamples = 1\\nvalue = [1, 0]'),\n",
       " Text(0.19771517527786775, 0.7083333333333334, 'x[0] <= 0.716\\ngini = 0.375\\nsamples = 4\\nvalue = [3, 1]'),\n",
       " Text(0.1970963484381874, 0.6805555555555556, 'gini = 0.0\\nsamples = 3\\nvalue = [3, 0]'),\n",
       " Text(0.1983340021175481, 0.6805555555555556, 'gini = 0.0\\nsamples = 1\\nvalue = [0, 1]'),\n",
       " Text(0.21351459802845638, 0.7916666666666666, 'x[58] <= 0.08\\ngini = 0.487\\nsamples = 131\\nvalue = [76, 55]'),\n",
       " Text(0.20560521748379204, 0.7638888888888888, 'x[3] <= 0.5\\ngini = 0.424\\nsamples = 72\\nvalue = [50, 22]'),\n",
       " Text(0.20204696315563012, 0.7361111111111112, 'x[50] <= 0.115\\ngini = 0.208\\nsamples = 34\\nvalue = [30, 4]'),\n",
       " Text(0.20019048263658912, 0.7083333333333334, 'x[7] <= 0.5\\ngini = 0.133\\nsamples = 28\\nvalue = [26, 2]'),\n",
       " Text(0.19957165579690878, 0.6805555555555556, 'gini = 0.0\\nsamples = 19\\nvalue = [19, 0]'),\n",
       " Text(0.20080930947626943, 0.6805555555555556, 'x[50] <= 0.058\\ngini = 0.346\\nsamples = 9\\nvalue = [7, 2]'),\n",
       " Text(0.20019048263658912, 0.6527777777777778, 'gini = 0.0\\nsamples = 1\\nvalue = [0, 1]'),\n",
       " Text(0.20142813631594977, 0.6527777777777778, 'x[50] <= 0.075\\ngini = 0.219\\nsamples = 8\\nvalue = [7, 1]'),\n",
       " Text(0.20080930947626943, 0.625, 'gini = 0.0\\nsamples = 6\\nvalue = [6, 0]'),\n",
       " Text(0.20204696315563012, 0.625, 'x[0] <= 0.512\\ngini = 0.5\\nsamples = 2\\nvalue = [1, 1]'),\n",
       " Text(0.20142813631594977, 0.5972222222222222, 'gini = 0.0\\nsamples = 1\\nvalue = [0, 1]'),\n",
       " Text(0.20266578999531046, 0.5972222222222222, 'gini = 0.0\\nsamples = 1\\nvalue = [1, 0]'),\n",
       " Text(0.20390344367467111, 0.7083333333333334, 'x[50] <= 0.151\\ngini = 0.444\\nsamples = 6\\nvalue = [4, 2]'),\n",
       " Text(0.2032846168349908, 0.6805555555555556, 'x[6] <= 0.5\\ngini = 0.444\\nsamples = 3\\nvalue = [1, 2]'),\n",
       " Text(0.20266578999531046, 0.6527777777777778, 'gini = 0.0\\nsamples = 1\\nvalue = [1, 0]'),\n",
       " Text(0.20390344367467111, 0.6527777777777778, 'gini = 0.0\\nsamples = 2\\nvalue = [0, 2]'),\n",
       " Text(0.20452227051435146, 0.6805555555555556, 'gini = 0.0\\nsamples = 3\\nvalue = [3, 0]'),\n",
       " Text(0.209163471811954, 0.7361111111111112, 'x[60] <= 0.056\\ngini = 0.499\\nsamples = 38\\nvalue = [20, 18]'),\n",
       " Text(0.20699757787307282, 0.7083333333333334, 'x[28] <= 0.5\\ngini = 0.483\\nsamples = 27\\nvalue = [11, 16]'),\n",
       " Text(0.20575992419371214, 0.6805555555555556, 'x[54] <= 0.5\\ngini = 0.494\\nsamples = 18\\nvalue = [10, 8]'),\n",
       " Text(0.2051410973540318, 0.6527777777777778, 'gini = 0.0\\nsamples = 4\\nvalue = [4, 0]'),\n",
       " Text(0.20637875103339248, 0.6527777777777778, 'x[51] <= 0.009\\ngini = 0.49\\nsamples = 14\\nvalue = [6, 8]'),\n",
       " Text(0.20575992419371214, 0.625, 'x[0] <= 0.142\\ngini = 0.444\\nsamples = 9\\nvalue = [6, 3]'),\n",
       " Text(0.2051410973540318, 0.5972222222222222, 'gini = 0.0\\nsamples = 2\\nvalue = [0, 2]'),\n",
       " Text(0.20637875103339248, 0.5972222222222222, 'x[0] <= 0.321\\ngini = 0.245\\nsamples = 7\\nvalue = [6, 1]'),\n",
       " Text(0.20575992419371214, 0.5694444444444444, 'gini = 0.0\\nsamples = 6\\nvalue = [6, 0]'),\n",
       " Text(0.20699757787307282, 0.5694444444444444, 'gini = 0.0\\nsamples = 1\\nvalue = [0, 1]'),\n",
       " Text(0.20699757787307282, 0.625, 'gini = 0.0\\nsamples = 5\\nvalue = [0, 5]'),\n",
       " Text(0.20823523155243348, 0.6805555555555556, 'x[31] <= 0.5\\ngini = 0.198\\nsamples = 9\\nvalue = [1, 8]'),\n",
       " Text(0.20761640471275314, 0.6527777777777778, 'gini = 0.0\\nsamples = 1\\nvalue = [1, 0]'),\n",
       " Text(0.20885405839211382, 0.6527777777777778, 'gini = 0.0\\nsamples = 8\\nvalue = [0, 8]'),\n",
       " Text(0.21132936575083516, 0.7083333333333334, 'x[53] <= 0.286\\ngini = 0.298\\nsamples = 11\\nvalue = [9, 2]'),\n",
       " Text(0.21071053891115485, 0.6805555555555556, 'x[0] <= 0.383\\ngini = 0.18\\nsamples = 10\\nvalue = [9, 1]'),\n",
       " Text(0.2100917120714745, 0.6527777777777778, 'gini = 0.0\\nsamples = 7\\nvalue = [7, 0]'),\n",
       " Text(0.21132936575083516, 0.6527777777777778, 'x[50] <= 0.085\\ngini = 0.444\\nsamples = 3\\nvalue = [2, 1]'),\n",
       " Text(0.21071053891115485, 0.625, 'gini = 0.0\\nsamples = 2\\nvalue = [2, 0]'),\n",
       " Text(0.2119481925905155, 0.625, 'gini = 0.0\\nsamples = 1\\nvalue = [0, 1]'),\n",
       " Text(0.2119481925905155, 0.6805555555555556, 'gini = 0.0\\nsamples = 1\\nvalue = [0, 1]'),\n",
       " Text(0.22142397857312068, 0.7638888888888888, 'x[50] <= 0.052\\ngini = 0.493\\nsamples = 59\\nvalue = [26, 33]'),\n",
       " Text(0.22080515173344034, 0.7361111111111112, 'gini = 0.0\\nsamples = 5\\nvalue = [0, 5]'),\n",
       " Text(0.22204280541280103, 0.7361111111111112, 'x[51] <= 0.027\\ngini = 0.499\\nsamples = 54\\nvalue = [26, 28]'),\n",
       " Text(0.21976088144147976, 0.7083333333333334, 'x[49] <= 0.5\\ngini = 0.496\\nsamples = 44\\nvalue = [24, 20]'),\n",
       " Text(0.21705351401787829, 0.6805555555555556, 'x[7] <= 0.5\\ngini = 0.458\\nsamples = 31\\nvalue = [20, 11]'),\n",
       " Text(0.21473291336907702, 0.6527777777777778, 'x[50] <= 0.085\\ngini = 0.403\\nsamples = 25\\nvalue = [18, 7]'),\n",
       " Text(0.2131858462698762, 0.625, 'x[29] <= 0.5\\ngini = 0.48\\nsamples = 15\\nvalue = [9, 6]'),\n",
       " Text(0.21256701943019585, 0.5972222222222222, 'x[50] <= 0.071\\ngini = 0.496\\nsamples = 11\\nvalue = [5, 6]'),\n",
       " Text(0.21132936575083516, 0.5694444444444444, 'x[47] <= 0.5\\ngini = 0.32\\nsamples = 5\\nvalue = [4, 1]'),\n",
       " Text(0.21071053891115485, 0.5416666666666666, 'gini = 0.0\\nsamples = 4\\nvalue = [4, 0]'),\n",
       " Text(0.2119481925905155, 0.5416666666666666, 'gini = 0.0\\nsamples = 1\\nvalue = [0, 1]'),\n",
       " Text(0.21380467310955653, 0.5694444444444444, 'x[46] <= 0.5\\ngini = 0.278\\nsamples = 6\\nvalue = [1, 5]'),\n",
       " Text(0.2131858462698762, 0.5416666666666666, 'gini = 0.0\\nsamples = 5\\nvalue = [0, 5]'),\n",
       " Text(0.21442349994923687, 0.5416666666666666, 'gini = 0.0\\nsamples = 1\\nvalue = [1, 0]'),\n",
       " Text(0.21380467310955653, 0.5972222222222222, 'gini = 0.0\\nsamples = 4\\nvalue = [4, 0]'),\n",
       " Text(0.21627998046827787, 0.625, 'x[0] <= 0.16\\ngini = 0.18\\nsamples = 10\\nvalue = [9, 1]'),\n",
       " Text(0.21566115362859753, 0.5972222222222222, 'x[51] <= 0.009\\ngini = 0.5\\nsamples = 2\\nvalue = [1, 1]'),\n",
       " Text(0.2150423267889172, 0.5694444444444444, 'gini = 0.0\\nsamples = 1\\nvalue = [1, 0]'),\n",
       " Text(0.21627998046827787, 0.5694444444444444, 'gini = 0.0\\nsamples = 1\\nvalue = [0, 1]'),\n",
       " Text(0.2168988073079582, 0.5972222222222222, 'gini = 0.0\\nsamples = 8\\nvalue = [8, 0]'),\n",
       " Text(0.21937411466667955, 0.6527777777777778, 'x[58] <= 0.097\\ngini = 0.444\\nsamples = 6\\nvalue = [2, 4]'),\n",
       " Text(0.2187552878269992, 0.625, 'x[50] <= 0.06\\ngini = 0.444\\nsamples = 3\\nvalue = [2, 1]'),\n",
       " Text(0.2181364609873189, 0.5972222222222222, 'gini = 0.0\\nsamples = 1\\nvalue = [0, 1]'),\n",
       " Text(0.21937411466667955, 0.5972222222222222, 'gini = 0.0\\nsamples = 2\\nvalue = [2, 0]'),\n",
       " Text(0.2199929415063599, 0.625, 'gini = 0.0\\nsamples = 3\\nvalue = [0, 3]'),\n",
       " Text(0.22246824886508124, 0.6805555555555556, 'x[0] <= 0.222\\ngini = 0.426\\nsamples = 13\\nvalue = [4, 9]'),\n",
       " Text(0.2218494220254009, 0.6527777777777778, 'x[53] <= 0.071\\ngini = 0.444\\nsamples = 6\\nvalue = [4, 2]'),\n",
       " Text(0.22123059518572058, 0.625, 'gini = 0.0\\nsamples = 4\\nvalue = [4, 0]'),\n",
       " Text(0.22246824886508124, 0.625, 'gini = 0.0\\nsamples = 2\\nvalue = [0, 2]'),\n",
       " Text(0.22308707570476158, 0.6527777777777778, 'gini = 0.0\\nsamples = 7\\nvalue = [0, 7]'),\n",
       " Text(0.22432472938412226, 0.7083333333333334, 'x[60] <= 0.066\\ngini = 0.32\\nsamples = 10\\nvalue = [2, 8]'),\n",
       " Text(0.22370590254444192, 0.6805555555555556, 'gini = 0.0\\nsamples = 7\\nvalue = [0, 7]'),\n",
       " Text(0.2249435562238026, 0.6805555555555556, 'x[2] <= 0.5\\ngini = 0.444\\nsamples = 3\\nvalue = [2, 1]'),\n",
       " Text(0.22432472938412226, 0.6527777777777778, 'gini = 0.0\\nsamples = 2\\nvalue = [2, 0]'),\n",
       " Text(0.22556238306348292, 0.6527777777777778, 'gini = 0.0\\nsamples = 1\\nvalue = [0, 1]'),\n",
       " Text(0.2589680035099085, 0.8472222222222222, 'x[50] <= 0.08\\ngini = 0.466\\nsamples = 548\\nvalue = [203, 345]'),\n",
       " Text(0.2504891995378137, 0.8194444444444444, 'x[6] <= 0.5\\ngini = 0.491\\nsamples = 290\\nvalue = [126, 164]'),\n",
       " Text(0.24577034272370832, 0.7916666666666666, 'x[12] <= 0.5\\ngini = 0.482\\nsamples = 259\\nvalue = [105, 154]'),\n",
       " Text(0.24097383039310008, 0.7638888888888888, 'x[50] <= 0.077\\ngini = 0.468\\nsamples = 230\\nvalue = [86, 144]'),\n",
       " Text(0.23509376676996563, 0.7361111111111112, 'x[34] <= 0.5\\ngini = 0.456\\nsamples = 213\\nvalue = [75, 138]'),\n",
       " Text(0.22958475752140511, 0.7083333333333334, 'x[3] <= 0.5\\ngini = 0.497\\nsamples = 24\\nvalue = [13, 11]'),\n",
       " Text(0.2280376904222043, 0.6805555555555556, 'x[45] <= 0.5\\ngini = 0.355\\nsamples = 13\\nvalue = [3, 10]'),\n",
       " Text(0.2268000367428436, 0.6527777777777778, 'x[51] <= 0.009\\ngini = 0.18\\nsamples = 10\\nvalue = [1, 9]'),\n",
       " Text(0.22618120990316326, 0.625, 'gini = 0.0\\nsamples = 8\\nvalue = [0, 8]'),\n",
       " Text(0.22741886358252394, 0.625, 'x[46] <= 0.5\\ngini = 0.5\\nsamples = 2\\nvalue = [1, 1]'),\n",
       " Text(0.2268000367428436, 0.5972222222222222, 'gini = 0.0\\nsamples = 1\\nvalue = [0, 1]'),\n",
       " Text(0.2280376904222043, 0.5972222222222222, 'gini = 0.0\\nsamples = 1\\nvalue = [1, 0]'),\n",
       " Text(0.22927534410156494, 0.6527777777777778, 'x[23] <= 0.5\\ngini = 0.444\\nsamples = 3\\nvalue = [2, 1]'),\n",
       " Text(0.22865651726188463, 0.625, 'gini = 0.0\\nsamples = 2\\nvalue = [2, 0]'),\n",
       " Text(0.22989417094124528, 0.625, 'gini = 0.0\\nsamples = 1\\nvalue = [0, 1]'),\n",
       " Text(0.23113182462060597, 0.6805555555555556, 'x[15] <= 0.5\\ngini = 0.165\\nsamples = 11\\nvalue = [10, 1]'),\n",
       " Text(0.23051299778092563, 0.6527777777777778, 'gini = 0.0\\nsamples = 9\\nvalue = [9, 0]'),\n",
       " Text(0.2317506514602863, 0.6527777777777778, 'x[18] <= 0.5\\ngini = 0.5\\nsamples = 2\\nvalue = [1, 1]'),\n",
       " Text(0.23113182462060597, 0.625, 'gini = 0.0\\nsamples = 1\\nvalue = [1, 0]'),\n",
       " Text(0.23236947829996665, 0.625, 'gini = 0.0\\nsamples = 1\\nvalue = [0, 1]'),\n",
       " Text(0.24060277601852612, 0.7083333333333334, 'x[0] <= 0.093\\ngini = 0.441\\nsamples = 189\\nvalue = [62, 127]'),\n",
       " Text(0.2399839491788458, 0.6805555555555556, 'gini = 0.0\\nsamples = 9\\nvalue = [0, 9]'),\n",
       " Text(0.24122160285820646, 0.6805555555555556, 'x[60] <= 0.144\\ngini = 0.452\\nsamples = 180\\nvalue = [62, 118]'),\n",
       " Text(0.2374457922192194, 0.6527777777777778, 'x[53] <= 0.357\\ngini = 0.442\\nsamples = 173\\nvalue = [57, 116]'),\n",
       " Text(0.2336071319793273, 0.625, 'x[37] <= 0.5\\ngini = 0.428\\nsamples = 161\\nvalue = [50, 111]'),\n",
       " Text(0.22964277253762516, 0.5972222222222222, 'x[8] <= 0.5\\ngini = 0.443\\nsamples = 145\\nvalue = [48, 97]'),\n",
       " Text(0.22480818785262252, 0.5694444444444444, 'x[45] <= 0.5\\ngini = 0.455\\nsamples = 134\\nvalue = [47, 87]'),\n",
       " Text(0.21885197952069926, 0.5416666666666666, 'x[60] <= 0.061\\ngini = 0.424\\nsamples = 95\\nvalue = [29, 66]'),\n",
       " Text(0.2156031386123775, 0.5138888888888888, 'x[60] <= 0.0\\ngini = 0.352\\nsamples = 57\\nvalue = [13, 44]'),\n",
       " Text(0.21436548493301683, 0.4861111111111111, 'x[50] <= 0.073\\ngini = 0.444\\nsamples = 3\\nvalue = [2, 1]'),\n",
       " Text(0.21374665809333648, 0.4583333333333333, 'gini = 0.0\\nsamples = 1\\nvalue = [0, 1]'),\n",
       " Text(0.21498431177269717, 0.4583333333333333, 'gini = 0.0\\nsamples = 2\\nvalue = [2, 0]'),\n",
       " Text(0.21684079229173817, 0.4861111111111111, 'x[50] <= 0.068\\ngini = 0.324\\nsamples = 54\\nvalue = [11, 43]'),\n",
       " Text(0.21622196545205785, 0.4583333333333333, 'x[50] <= 0.067\\ngini = 0.375\\nsamples = 44\\nvalue = [11, 33]'),\n",
       " Text(0.2156031386123775, 0.4305555555555556, 'x[55] <= 0.5\\ngini = 0.337\\nsamples = 42\\nvalue = [9, 33]'),\n",
       " Text(0.21436548493301683, 0.4027777777777778, 'x[50] <= 0.061\\ngini = 0.4\\nsamples = 29\\nvalue = [8, 21]'),\n",
       " Text(0.21374665809333648, 0.375, 'x[59] <= 0.674\\ngini = 0.463\\nsamples = 22\\nvalue = [8, 14]'),\n",
       " Text(0.21312783125365614, 0.3472222222222222, 'x[5] <= 0.5\\ngini = 0.42\\nsamples = 20\\nvalue = [6, 14]'),\n",
       " Text(0.21189017757429549, 0.3194444444444444, 'x[50] <= 0.06\\ngini = 0.305\\nsamples = 16\\nvalue = [3, 13]'),\n",
       " Text(0.21127135073461514, 0.2916666666666667, 'x[50] <= 0.055\\ngini = 0.231\\nsamples = 15\\nvalue = [2, 13]'),\n",
       " Text(0.2106525238949348, 0.2638888888888889, 'x[50] <= 0.053\\ngini = 0.444\\nsamples = 6\\nvalue = [2, 4]'),\n",
       " Text(0.21003369705525446, 0.2361111111111111, 'gini = 0.0\\nsamples = 4\\nvalue = [0, 4]'),\n",
       " Text(0.21127135073461514, 0.2361111111111111, 'gini = 0.0\\nsamples = 2\\nvalue = [2, 0]'),\n",
       " Text(0.21189017757429549, 0.2638888888888889, 'gini = 0.0\\nsamples = 9\\nvalue = [0, 9]'),\n",
       " Text(0.21250900441397583, 0.2916666666666667, 'gini = 0.0\\nsamples = 1\\nvalue = [1, 0]'),\n",
       " Text(0.21436548493301683, 0.3194444444444444, 'x[60] <= 0.056\\ngini = 0.375\\nsamples = 4\\nvalue = [3, 1]'),\n",
       " Text(0.21374665809333648, 0.2916666666666667, 'gini = 0.0\\nsamples = 3\\nvalue = [3, 0]'),\n",
       " Text(0.21498431177269717, 0.2916666666666667, 'gini = 0.0\\nsamples = 1\\nvalue = [0, 1]'),\n",
       " Text(0.21436548493301683, 0.3472222222222222, 'gini = 0.0\\nsamples = 2\\nvalue = [2, 0]'),\n",
       " Text(0.21498431177269717, 0.375, 'gini = 0.0\\nsamples = 7\\nvalue = [0, 7]'),\n",
       " Text(0.21684079229173817, 0.4027777777777778, 'x[21] <= 0.5\\ngini = 0.142\\nsamples = 13\\nvalue = [1, 12]'),\n",
       " Text(0.21622196545205785, 0.375, 'gini = 0.0\\nsamples = 11\\nvalue = [0, 11]'),\n",
       " Text(0.2174596191314185, 0.375, 'x[48] <= 0.5\\ngini = 0.5\\nsamples = 2\\nvalue = [1, 1]'),\n",
       " Text(0.21684079229173817, 0.3472222222222222, 'gini = 0.0\\nsamples = 1\\nvalue = [0, 1]'),\n",
       " Text(0.21807844597109885, 0.3472222222222222, 'gini = 0.0\\nsamples = 1\\nvalue = [1, 0]'),\n",
       " Text(0.21684079229173817, 0.4305555555555556, 'gini = 0.0\\nsamples = 2\\nvalue = [2, 0]'),\n",
       " Text(0.2174596191314185, 0.4583333333333333, 'gini = 0.0\\nsamples = 10\\nvalue = [0, 10]'),\n",
       " Text(0.22210082042902105, 0.5138888888888888, 'x[0] <= 0.228\\ngini = 0.488\\nsamples = 38\\nvalue = [16, 22]'),\n",
       " Text(0.21993492649013988, 0.4861111111111111, 'x[47] <= 0.5\\ngini = 0.375\\nsamples = 20\\nvalue = [5, 15]'),\n",
       " Text(0.2186972728107792, 0.4583333333333333, 'x[30] <= 0.5\\ngini = 0.133\\nsamples = 14\\nvalue = [1, 13]'),\n",
       " Text(0.21807844597109885, 0.4305555555555556, 'gini = 0.0\\nsamples = 13\\nvalue = [0, 13]'),\n",
       " Text(0.21931609965045953, 0.4305555555555556, 'gini = 0.0\\nsamples = 1\\nvalue = [1, 0]'),\n",
       " Text(0.22117258016950053, 0.4583333333333333, 'x[50] <= 0.058\\ngini = 0.444\\nsamples = 6\\nvalue = [4, 2]'),\n",
       " Text(0.2205537533298202, 0.4305555555555556, 'gini = 0.0\\nsamples = 3\\nvalue = [3, 0]'),\n",
       " Text(0.22179140700918087, 0.4305555555555556, 'x[0] <= 0.16\\ngini = 0.444\\nsamples = 3\\nvalue = [1, 2]'),\n",
       " Text(0.22117258016950053, 0.4027777777777778, 'gini = 0.0\\nsamples = 1\\nvalue = [1, 0]'),\n",
       " Text(0.22241023384886122, 0.4027777777777778, 'gini = 0.0\\nsamples = 2\\nvalue = [0, 2]'),\n",
       " Text(0.22426671436790221, 0.4861111111111111, 'x[4] <= 0.5\\ngini = 0.475\\nsamples = 18\\nvalue = [11, 7]'),\n",
       " Text(0.2236478875282219, 0.4583333333333333, 'x[31] <= 0.5\\ngini = 0.43\\nsamples = 16\\nvalue = [11, 5]'),\n",
       " Text(0.22302906068854156, 0.4305555555555556, 'gini = 0.0\\nsamples = 2\\nvalue = [0, 2]'),\n",
       " Text(0.22426671436790221, 0.4305555555555556, 'x[18] <= 0.5\\ngini = 0.337\\nsamples = 14\\nvalue = [11, 3]'),\n",
       " Text(0.2236478875282219, 0.4027777777777778, 'x[9] <= 0.5\\ngini = 0.26\\nsamples = 13\\nvalue = [11, 2]'),\n",
       " Text(0.22302906068854156, 0.375, 'x[51] <= 0.045\\ngini = 0.153\\nsamples = 12\\nvalue = [11, 1]'),\n",
       " Text(0.22241023384886122, 0.3472222222222222, 'gini = 0.0\\nsamples = 11\\nvalue = [11, 0]'),\n",
       " Text(0.2236478875282219, 0.3472222222222222, 'gini = 0.0\\nsamples = 1\\nvalue = [0, 1]'),\n",
       " Text(0.22426671436790221, 0.375, 'gini = 0.0\\nsamples = 1\\nvalue = [0, 1]'),\n",
       " Text(0.22488554120758256, 0.4027777777777778, 'gini = 0.0\\nsamples = 1\\nvalue = [0, 1]'),\n",
       " Text(0.22488554120758256, 0.4583333333333333, 'gini = 0.0\\nsamples = 2\\nvalue = [0, 2]'),\n",
       " Text(0.23076439618454578, 0.5416666666666666, 'x[53] <= 0.071\\ngini = 0.497\\nsamples = 39\\nvalue = [18, 21]'),\n",
       " Text(0.2295267425051851, 0.5138888888888888, 'x[35] <= 0.5\\ngini = 0.475\\nsamples = 31\\nvalue = [12, 19]'),\n",
       " Text(0.22890791566550475, 0.4861111111111111, 'x[17] <= 0.5\\ngini = 0.452\\nsamples = 29\\nvalue = [10, 19]'),\n",
       " Text(0.2282890888258244, 0.4583333333333333, 'x[26] <= 0.5\\ngini = 0.436\\nsamples = 28\\nvalue = [9, 19]'),\n",
       " Text(0.22767026198614407, 0.4305555555555556, 'x[0] <= 0.142\\ngini = 0.417\\nsamples = 27\\nvalue = [8, 19]'),\n",
       " Text(0.22612319488694324, 0.4027777777777778, 'x[59] <= 0.236\\ngini = 0.444\\nsamples = 3\\nvalue = [2, 1]'),\n",
       " Text(0.2255043680472629, 0.375, 'gini = 0.0\\nsamples = 1\\nvalue = [0, 1]'),\n",
       " Text(0.22674202172662358, 0.375, 'gini = 0.0\\nsamples = 2\\nvalue = [2, 0]'),\n",
       " Text(0.22921732908534492, 0.4027777777777778, 'x[21] <= 0.5\\ngini = 0.375\\nsamples = 24\\nvalue = [6, 18]'),\n",
       " Text(0.22797967540598424, 0.375, 'x[23] <= 0.5\\ngini = 0.308\\nsamples = 21\\nvalue = [4, 17]'),\n",
       " Text(0.22736084856630392, 0.3472222222222222, 'gini = 0.0\\nsamples = 6\\nvalue = [0, 6]'),\n",
       " Text(0.22859850224566458, 0.3472222222222222, 'x[50] <= 0.07\\ngini = 0.391\\nsamples = 15\\nvalue = [4, 11]'),\n",
       " Text(0.22705143514646375, 0.3194444444444444, 'x[60] <= 0.003\\ngini = 0.278\\nsamples = 12\\nvalue = [2, 10]'),\n",
       " Text(0.22581378146710307, 0.2916666666666667, 'x[60] <= 0.001\\ngini = 0.5\\nsamples = 2\\nvalue = [1, 1]'),\n",
       " Text(0.22519495462742273, 0.2638888888888889, 'gini = 0.0\\nsamples = 1\\nvalue = [0, 1]'),\n",
       " Text(0.2264326083067834, 0.2638888888888889, 'gini = 0.0\\nsamples = 1\\nvalue = [1, 0]'),\n",
       " Text(0.2282890888258244, 0.2916666666666667, 'x[51] <= 0.027\\ngini = 0.18\\nsamples = 10\\nvalue = [1, 9]'),\n",
       " Text(0.22767026198614407, 0.2638888888888889, 'gini = 0.0\\nsamples = 8\\nvalue = [0, 8]'),\n",
       " Text(0.22890791566550475, 0.2638888888888889, 'x[31] <= 0.5\\ngini = 0.5\\nsamples = 2\\nvalue = [1, 1]'),\n",
       " Text(0.2282890888258244, 0.2361111111111111, 'gini = 0.0\\nsamples = 1\\nvalue = [0, 1]'),\n",
       " Text(0.2295267425051851, 0.2361111111111111, 'gini = 0.0\\nsamples = 1\\nvalue = [1, 0]'),\n",
       " Text(0.23014556934486544, 0.3194444444444444, 'x[28] <= 0.5\\ngini = 0.444\\nsamples = 3\\nvalue = [2, 1]'),\n",
       " Text(0.2295267425051851, 0.2916666666666667, 'gini = 0.0\\nsamples = 2\\nvalue = [2, 0]'),\n",
       " Text(0.23076439618454578, 0.2916666666666667, 'gini = 0.0\\nsamples = 1\\nvalue = [0, 1]'),\n",
       " Text(0.2304549827647056, 0.375, 'x[50] <= 0.054\\ngini = 0.444\\nsamples = 3\\nvalue = [2, 1]'),\n",
       " Text(0.22983615592502527, 0.3472222222222222, 'gini = 0.0\\nsamples = 1\\nvalue = [0, 1]'),\n",
       " Text(0.23107380960438595, 0.3472222222222222, 'gini = 0.0\\nsamples = 2\\nvalue = [2, 0]'),\n",
       " Text(0.22890791566550475, 0.4305555555555556, 'gini = 0.0\\nsamples = 1\\nvalue = [1, 0]'),\n",
       " Text(0.2295267425051851, 0.4583333333333333, 'gini = 0.0\\nsamples = 1\\nvalue = [1, 0]'),\n",
       " Text(0.23014556934486544, 0.4861111111111111, 'gini = 0.0\\nsamples = 2\\nvalue = [2, 0]'),\n",
       " Text(0.23200204986390643, 0.5138888888888888, 'x[21] <= 0.5\\ngini = 0.375\\nsamples = 8\\nvalue = [6, 2]'),\n",
       " Text(0.2313832230242261, 0.4861111111111111, 'gini = 0.0\\nsamples = 6\\nvalue = [6, 0]'),\n",
       " Text(0.23262087670358678, 0.4861111111111111, 'gini = 0.0\\nsamples = 2\\nvalue = [0, 2]'),\n",
       " Text(0.2344773572226278, 0.5694444444444444, 'x[13] <= 0.5\\ngini = 0.165\\nsamples = 11\\nvalue = [1, 10]'),\n",
       " Text(0.23385853038294746, 0.5416666666666666, 'x[0] <= 0.309\\ngini = 0.444\\nsamples = 3\\nvalue = [1, 2]'),\n",
       " Text(0.23323970354326712, 0.5138888888888888, 'gini = 0.0\\nsamples = 2\\nvalue = [0, 2]'),\n",
       " Text(0.2344773572226278, 0.5138888888888888, 'gini = 0.0\\nsamples = 1\\nvalue = [1, 0]'),\n",
       " Text(0.23509618406230812, 0.5416666666666666, 'gini = 0.0\\nsamples = 8\\nvalue = [0, 8]'),\n",
       " Text(0.23757149142102948, 0.5972222222222222, 'x[50] <= 0.076\\ngini = 0.219\\nsamples = 16\\nvalue = [2, 14]'),\n",
       " Text(0.23695266458134914, 0.5694444444444444, 'x[32] <= 0.5\\ngini = 0.124\\nsamples = 15\\nvalue = [1, 14]'),\n",
       " Text(0.2363338377416688, 0.5416666666666666, 'gini = 0.0\\nsamples = 14\\nvalue = [0, 14]'),\n",
       " Text(0.23757149142102948, 0.5416666666666666, 'gini = 0.0\\nsamples = 1\\nvalue = [1, 0]'),\n",
       " Text(0.23819031826070983, 0.5694444444444444, 'gini = 0.0\\nsamples = 1\\nvalue = [1, 0]'),\n",
       " Text(0.2412844524591115, 0.625, 'x[52] <= 0.511\\ngini = 0.486\\nsamples = 12\\nvalue = [7, 5]'),\n",
       " Text(0.24004679877975083, 0.5972222222222222, 'x[14] <= 0.5\\ngini = 0.32\\nsamples = 5\\nvalue = [1, 4]'),\n",
       " Text(0.23942797194007048, 0.5694444444444444, 'gini = 0.0\\nsamples = 4\\nvalue = [0, 4]'),\n",
       " Text(0.24066562561943117, 0.5694444444444444, 'gini = 0.0\\nsamples = 1\\nvalue = [1, 0]'),\n",
       " Text(0.24252210613847217, 0.5972222222222222, 'x[59] <= 0.613\\ngini = 0.245\\nsamples = 7\\nvalue = [6, 1]'),\n",
       " Text(0.24190327929879182, 0.5694444444444444, 'gini = 0.0\\nsamples = 6\\nvalue = [6, 0]'),\n",
       " Text(0.2431409329781525, 0.5694444444444444, 'gini = 0.0\\nsamples = 1\\nvalue = [0, 1]'),\n",
       " Text(0.24499741349719353, 0.6527777777777778, 'x[5] <= 0.5\\ngini = 0.408\\nsamples = 7\\nvalue = [5, 2]'),\n",
       " Text(0.2443785866575132, 0.625, 'x[28] <= 0.5\\ngini = 0.278\\nsamples = 6\\nvalue = [5, 1]'),\n",
       " Text(0.24375975981783285, 0.5972222222222222, 'gini = 0.0\\nsamples = 4\\nvalue = [4, 0]'),\n",
       " Text(0.24499741349719353, 0.5972222222222222, 'x[3] <= 0.5\\ngini = 0.5\\nsamples = 2\\nvalue = [1, 1]'),\n",
       " Text(0.2443785866575132, 0.5694444444444444, 'gini = 0.0\\nsamples = 1\\nvalue = [1, 0]'),\n",
       " Text(0.24561624033687385, 0.5694444444444444, 'gini = 0.0\\nsamples = 1\\nvalue = [0, 1]'),\n",
       " Text(0.24561624033687385, 0.625, 'gini = 0.0\\nsamples = 1\\nvalue = [0, 1]'),\n",
       " Text(0.24685389401623453, 0.7361111111111112, 'x[36] <= 0.5\\ngini = 0.457\\nsamples = 17\\nvalue = [11, 6]'),\n",
       " Text(0.2462350671765542, 0.7083333333333334, 'x[60] <= 0.003\\ngini = 0.48\\nsamples = 10\\nvalue = [4, 6]'),\n",
       " Text(0.24561624033687385, 0.6805555555555556, 'gini = 0.0\\nsamples = 2\\nvalue = [2, 0]'),\n",
       " Text(0.24685389401623453, 0.6805555555555556, 'x[21] <= 0.5\\ngini = 0.375\\nsamples = 8\\nvalue = [2, 6]'),\n",
       " Text(0.2462350671765542, 0.6527777777777778, 'gini = 0.0\\nsamples = 6\\nvalue = [0, 6]'),\n",
       " Text(0.24747272085591487, 0.6527777777777778, 'gini = 0.0\\nsamples = 2\\nvalue = [2, 0]'),\n",
       " Text(0.24747272085591487, 0.7083333333333334, 'gini = 0.0\\nsamples = 7\\nvalue = [7, 0]'),\n",
       " Text(0.2505668550543166, 0.7638888888888888, 'x[51] <= 0.009\\ngini = 0.452\\nsamples = 29\\nvalue = [19, 10]'),\n",
       " Text(0.24932920137495587, 0.7361111111111112, 'x[35] <= 0.5\\ngini = 0.245\\nsamples = 14\\nvalue = [12, 2]'),\n",
       " Text(0.24871037453527556, 0.7083333333333334, 'x[42] <= 0.5\\ngini = 0.142\\nsamples = 13\\nvalue = [12, 1]'),\n",
       " Text(0.24809154769559522, 0.6805555555555556, 'gini = 0.0\\nsamples = 12\\nvalue = [12, 0]'),\n",
       " Text(0.24932920137495587, 0.6805555555555556, 'gini = 0.0\\nsamples = 1\\nvalue = [0, 1]'),\n",
       " Text(0.24994802821463621, 0.7083333333333334, 'gini = 0.0\\nsamples = 1\\nvalue = [0, 1]'),\n",
       " Text(0.2518045087336772, 0.7361111111111112, 'x[57] <= 0.417\\ngini = 0.498\\nsamples = 15\\nvalue = [7, 8]'),\n",
       " Text(0.25118568189399687, 0.7083333333333334, 'x[0] <= 0.062\\ngini = 0.32\\nsamples = 10\\nvalue = [2, 8]'),\n",
       " Text(0.2505668550543166, 0.6805555555555556, 'x[32] <= 0.5\\ngini = 0.444\\nsamples = 3\\nvalue = [2, 1]'),\n",
       " Text(0.24994802821463621, 0.6527777777777778, 'gini = 0.0\\nsamples = 2\\nvalue = [2, 0]'),\n",
       " Text(0.25118568189399687, 0.6527777777777778, 'gini = 0.0\\nsamples = 1\\nvalue = [0, 1]'),\n",
       " Text(0.2518045087336772, 0.6805555555555556, 'gini = 0.0\\nsamples = 7\\nvalue = [0, 7]'),\n",
       " Text(0.25242333557335755, 0.7083333333333334, 'gini = 0.0\\nsamples = 5\\nvalue = [5, 0]'),\n",
       " Text(0.25520805635191907, 0.7916666666666666, 'x[0] <= 0.66\\ngini = 0.437\\nsamples = 31\\nvalue = [21, 10]'),\n",
       " Text(0.25366098925271824, 0.7638888888888888, 'x[60] <= 0.001\\ngini = 0.305\\nsamples = 16\\nvalue = [13, 3]'),\n",
       " Text(0.2530421624130379, 0.7361111111111112, 'gini = 0.0\\nsamples = 1\\nvalue = [0, 1]'),\n",
       " Text(0.2542798160923986, 0.7361111111111112, 'x[18] <= 0.5\\ngini = 0.231\\nsamples = 15\\nvalue = [13, 2]'),\n",
       " Text(0.25366098925271824, 0.7083333333333334, 'x[52] <= 0.01\\ngini = 0.133\\nsamples = 14\\nvalue = [13, 1]'),\n",
       " Text(0.2530421624130379, 0.6805555555555556, 'gini = 0.0\\nsamples = 1\\nvalue = [0, 1]'),\n",
       " Text(0.2542798160923986, 0.6805555555555556, 'gini = 0.0\\nsamples = 13\\nvalue = [13, 0]'),\n",
       " Text(0.2548986429320789, 0.7083333333333334, 'gini = 0.0\\nsamples = 1\\nvalue = [0, 1]'),\n",
       " Text(0.25675512345111995, 0.7638888888888888, 'x[59] <= 0.446\\ngini = 0.498\\nsamples = 15\\nvalue = [8, 7]'),\n",
       " Text(0.2561362966114396, 0.7361111111111112, 'gini = 0.0\\nsamples = 4\\nvalue = [0, 4]'),\n",
       " Text(0.2573739502908003, 0.7361111111111112, 'x[46] <= 0.5\\ngini = 0.397\\nsamples = 11\\nvalue = [8, 3]'),\n",
       " Text(0.2561362966114396, 0.7083333333333334, 'x[21] <= 0.5\\ngini = 0.219\\nsamples = 8\\nvalue = [7, 1]'),\n",
       " Text(0.25551746977175926, 0.6805555555555556, 'gini = 0.0\\nsamples = 7\\nvalue = [7, 0]'),\n",
       " Text(0.25675512345111995, 0.6805555555555556, 'gini = 0.0\\nsamples = 1\\nvalue = [0, 1]'),\n",
       " Text(0.2586116039701609, 0.7083333333333334, 'x[50] <= 0.057\\ngini = 0.444\\nsamples = 3\\nvalue = [1, 2]'),\n",
       " Text(0.25799277713048063, 0.6805555555555556, 'gini = 0.0\\nsamples = 1\\nvalue = [1, 0]'),\n",
       " Text(0.25923043080984126, 0.6805555555555556, 'gini = 0.0\\nsamples = 2\\nvalue = [0, 2]'),\n",
       " ...]"
      ]
     },
     "execution_count": 17,
     "metadata": {},
     "output_type": "execute_result"
    },
    {
     "data": {
      "image/png": "[encoded data removed]",
      "text/plain": [
       "<Figure size 640x480 with 1 Axes>"
      ]
     },
     "metadata": {},
     "output_type": "display_data"
    }
   ],
   "source": [
    "from sklearn import tree\n",
    "from sklearn.tree import DecisionTreeClassifier\n",
    "\n",
    "# learn a decision tree using default parameters\n",
    "cl = DecisionTreeClassifier()\n",
    "cl.fit(X_train, y_train)\n",
    "\n",
    "# plot the tree\n",
    "tree.plot_tree(cl)\n"
   ]
  },
  {
   "cell_type": "code",
   "execution_count": 18,
   "metadata": {},
   "outputs": [],
   "source": [
    "import matplotlib.pyplot as plt"
   ]
  },
  {
   "cell_type": "code",
   "execution_count": 19,
   "metadata": {},
   "outputs": [
    {
     "data": {
      "image/png": "[encoded data removed]",
      "text/plain": [
       "<Figure size 640x480 with 1 Axes>"
      ]
     },
     "metadata": {},
     "output_type": "display_data"
    }
   ],
   "source": [
    "# TODO: plot the feature importances\n",
    "importances = cl.feature_importances_\n",
    "feature_names = [i for i in range(X.shape[1])]\n",
    "tree_importances = pd.Series(importances, index=feature_names)\n",
    "\n",
    "fig, ax = plt.subplots()\n",
    "tree_importances.plot.bar(ax=ax)\n",
    "ax.set_title(\"Feature importances using MDI\")\n",
    "ax.set_ylabel(\"Mean decrease in impurity\")\n",
    "fig.tight_layout()"
   ]
  },
  {
   "cell_type": "code",
   "execution_count": 20,
   "metadata": {},
   "outputs": [
    {
     "data": {
      "text/plain": [
       "Index(['age', 'duration', 'campaign', 'cons.conf.idx', 'euribor3m',\n",
       "       'nr.employed'],\n",
       "      dtype='object')"
      ]
     },
     "execution_count": 20,
     "metadata": {},
     "output_type": "execute_result"
    }
   ],
   "source": [
    "X.columns[[0, 50, 51, 59, 60, 61]]"
   ]
  },
  {
   "cell_type": "markdown",
   "metadata": {},
   "source": [
    "### 2.2 Confusion Matrix and Accuracy\n",
    "\n",
    "Compute the *confusion matrix* and *accuracy* of the tree using the held-out data set. Moreover, also compute the *recall*, *precision*, and *F1-score* of the tree. \n",
    "\n",
    "\n",
    "For this part, you can either implement your own functions or use the following scikit-learn libraries.  \n",
    "- [confusion matrix](https://scikit-learn.org/stable/modules/generated/sklearn.metrics.confusion_matrix.html#sklearn.metrics.confusion_matrix)\n",
    "- [accuracy score](https://scikit-learn.org/stable/modules/generated/sklearn.metrics.accuracy_score.html)\n",
    "- [recall](https://scikit-learn.org/stable/modules/generated/sklearn.metrics.recall_score.html#sklearn.metrics.recall_score)\n",
    "- [precision](https://scikit-learn.org/stable/modules/generated/sklearn.metrics.precision_score.html#sklearn.metrics.precision_score)\n",
    "- [f1 score](https://scikit-learn.org/stable/modules/generated/sklearn.metrics.f1_score.html#sklearn.metrics.f1_score)\n",
    "- [classification report](https://scikit-learn.org/stable/modules/generated/sklearn.metrics.classification_report.html#sklearn.metrics.classification_report)\n",
    "\n",
    "\n",
    "Reflect on the performance of the model and be aware of the difference between *accuracy* and *F1-score*. How good is this decision tree model for outlier detection?"
   ]
  },
  {
   "cell_type": "code",
   "execution_count": 21,
   "metadata": {},
   "outputs": [
    {
     "name": "stdout",
     "output_type": "stream",
     "text": [
      "[[11192   700]\n",
      " [  663   708]]\n",
      "Accuracy: 0.8972329035663122\n",
      "Recall: 0.5164113785557987\n",
      "Precision:0.5028409090909091\n",
      "F1: 0.5095358042461318\n",
      "              precision    recall  f1-score   support\n",
      "\n",
      "           0       0.94      0.94      0.94     11892\n",
      "           1       0.50      0.52      0.51      1371\n",
      "\n",
      "    accuracy                           0.90     13263\n",
      "   macro avg       0.72      0.73      0.73     13263\n",
      "weighted avg       0.90      0.90      0.90     13263\n",
      "\n"
     ]
    }
   ],
   "source": [
    "from sklearn.metrics import classification_report, confusion_matrix, accuracy_score, precision_score, recall_score, f1_score\n",
    "\n",
    "\n",
    "# use the model to make predictions for the test data set\n",
    "y_pred = cl.predict(X_test)\n",
    "\n",
    "# TODO: compute accuracy, recall, precision, and f1 score\n",
    "accuracy = accuracy_score(y_test, y_pred)\n",
    "recall = recall_score(y_test, y_pred)\n",
    "precision = precision_score(y_test, y_pred)\n",
    "f1 = f1_score(y_test, y_pred)\n",
    "report = classification_report(y_test, y_pred)\n",
    "conf_matrix = confusion_matrix(y_test, y_pred)\n",
    "\n",
    "print(conf_matrix)\n",
    "print(f\"Accuracy: {accuracy}\\nRecall: {recall}\\nPrecision:{precision}\\nF1: {f1}\")\n",
    "print(report)\n"
   ]
  },
  {
   "cell_type": "markdown",
   "metadata": {},
   "source": [
    "### 2.3 Features to Tree  (optional)\n",
    "\n",
    "Use the training data to re-fit a new decision tree with the parameter max_depth set to 4. Show the tree diagram and also plot the feature importances. \n",
    "\n",
    "Recalculate the performance of this simpler model. \n",
    "\n",
    "What do you observe?\n"
   ]
  },
  {
   "cell_type": "code",
   "execution_count": 22,
   "metadata": {},
   "outputs": [
    {
     "data": {
      "text/plain": [
       "[Text(0.5, 0.9, 'x[61] <= 0.469\\ngini = 0.185\\nsamples = 26925\\nvalue = [24156, 2769]'),\n",
       " Text(0.25, 0.7, 'x[50] <= 0.034\\ngini = 0.486\\nsamples = 3148\\nvalue = [1839, 1309]'),\n",
       " Text(0.125, 0.5, 'x[56] <= 0.5\\ngini = 0.264\\nsamples = 1235\\nvalue = [1042, 193]'),\n",
       " Text(0.0625, 0.3, 'x[50] <= 0.025\\ngini = 0.205\\nsamples = 1052\\nvalue = [930, 122]'),\n",
       " Text(0.03125, 0.1, 'gini = 0.127\\nsamples = 677\\nvalue = [631, 46]'),\n",
       " Text(0.09375, 0.1, 'gini = 0.323\\nsamples = 375\\nvalue = [299, 76]'),\n",
       " Text(0.1875, 0.3, 'x[60] <= 0.018\\ngini = 0.475\\nsamples = 183\\nvalue = [112, 71]'),\n",
       " Text(0.15625, 0.1, 'gini = 0.486\\nsamples = 53\\nvalue = [22, 31]'),\n",
       " Text(0.21875, 0.1, 'gini = 0.426\\nsamples = 130\\nvalue = [90, 40]'),\n",
       " Text(0.375, 0.5, 'x[56] <= 0.5\\ngini = 0.486\\nsamples = 1913\\nvalue = [797, 1116]'),\n",
       " Text(0.3125, 0.3, 'x[50] <= 0.051\\ngini = 0.5\\nsamples = 1401\\nvalue = [692, 709]'),\n",
       " Text(0.28125, 0.1, 'gini = 0.469\\nsamples = 475\\nvalue = [297, 178]'),\n",
       " Text(0.34375, 0.1, 'gini = 0.489\\nsamples = 926\\nvalue = [395, 531]'),\n",
       " Text(0.4375, 0.3, 'x[10] <= 0.5\\ngini = 0.326\\nsamples = 512\\nvalue = [105, 407]'),\n",
       " Text(0.40625, 0.1, 'gini = 0.316\\nsamples = 504\\nvalue = [99, 405]'),\n",
       " Text(0.46875, 0.1, 'gini = 0.375\\nsamples = 8\\nvalue = [6, 2]'),\n",
       " Text(0.75, 0.7, 'x[50] <= 0.107\\ngini = 0.115\\nsamples = 23777\\nvalue = [22317, 1460]'),\n",
       " Text(0.625, 0.5, 'x[59] <= 0.174\\ngini = 0.048\\nsamples = 21290\\nvalue = [20764, 526]'),\n",
       " Text(0.5625, 0.3, 'x[42] <= 0.5\\ngini = 0.282\\nsamples = 1576\\nvalue = [1308, 268]'),\n",
       " Text(0.53125, 0.1, 'gini = 0.239\\nsamples = 1411\\nvalue = [1215, 196]'),\n",
       " Text(0.59375, 0.1, 'gini = 0.492\\nsamples = 165\\nvalue = [93, 72]'),\n",
       " Text(0.6875, 0.3, 'x[39] <= 0.5\\ngini = 0.026\\nsamples = 19714\\nvalue = [19456, 258]'),\n",
       " Text(0.65625, 0.1, 'gini = 0.023\\nsamples = 19672\\nvalue = [19444, 228]'),\n",
       " Text(0.71875, 0.1, 'gini = 0.408\\nsamples = 42\\nvalue = [12, 30]'),\n",
       " Text(0.875, 0.5, 'x[50] <= 0.17\\ngini = 0.469\\nsamples = 2487\\nvalue = [1553, 934]'),\n",
       " Text(0.8125, 0.3, 'x[60] <= 0.17\\ngini = 0.411\\nsamples = 1606\\nvalue = [1142, 464]'),\n",
       " Text(0.78125, 0.1, 'gini = 0.499\\nsamples = 279\\nvalue = [145, 134]'),\n",
       " Text(0.84375, 0.1, 'gini = 0.374\\nsamples = 1327\\nvalue = [997, 330]'),\n",
       " Text(0.9375, 0.3, 'x[50] <= 0.302\\ngini = 0.498\\nsamples = 881\\nvalue = [411, 470]'),\n",
       " Text(0.90625, 0.1, 'gini = 0.5\\nsamples = 751\\nvalue = [364, 387]'),\n",
       " Text(0.96875, 0.1, 'gini = 0.462\\nsamples = 130\\nvalue = [47, 83]')]"
      ]
     },
     "execution_count": 22,
     "metadata": {},
     "output_type": "execute_result"
    },
    {
     "data": {
      "image/png": "[encoded data removed]",
      "text/plain": [
       "<Figure size 640x480 with 1 Axes>"
      ]
     },
     "metadata": {},
     "output_type": "display_data"
    }
   ],
   "source": [
    "# TODO: learn a decision tree with maximal depth 4\n",
    "d4_tree = DecisionTreeClassifier(max_depth=4)\n",
    "d4_tree.fit(X_train, y_train)\n",
    "\n",
    "# TODO: plot the tree\n",
    "tree.plot_tree(d4_tree)\n"
   ]
  },
  {
   "cell_type": "code",
   "execution_count": 23,
   "metadata": {},
   "outputs": [
    {
     "name": "stdout",
     "output_type": "stream",
     "text": [
      "[[11447   445]\n",
      " [  616   755]]\n",
      "Accuracy: 0.9200030159089195\n",
      "Recall: 0.550692924872356\n",
      "Precision:0.6291666666666667\n",
      "F1: 0.5873201089070401\n",
      "              precision    recall  f1-score   support\n",
      "\n",
      "           0       0.95      0.96      0.96     11892\n",
      "           1       0.63      0.55      0.59      1371\n",
      "\n",
      "    accuracy                           0.92     13263\n",
      "   macro avg       0.79      0.76      0.77     13263\n",
      "weighted avg       0.92      0.92      0.92     13263\n",
      "\n"
     ]
    }
   ],
   "source": [
    "# use the model to make predictions for the test data set\n",
    "y_pred_d4 = d4_tree.predict(X_test)\n",
    "\n",
    "# TODO: compute accuracy, recall, precision, and f1 score\n",
    "accuracy = accuracy_score(y_test, y_pred_d4)\n",
    "recall = recall_score(y_test, y_pred_d4)\n",
    "precision = precision_score(y_test, y_pred_d4)\n",
    "f1 = f1_score(y_test, y_pred_d4)\n",
    "report = classification_report(y_test, y_pred_d4)\n",
    "conf_matrix = confusion_matrix(y_test, y_pred_d4)\n",
    "\n",
    "print(conf_matrix)\n",
    "print(f\"Accuracy: {accuracy}\\nRecall: {recall}\\nPrecision:{precision}\\nF1: {f1}\")\n",
    "print(report)\n"
   ]
  },
  {
   "cell_type": "markdown",
   "metadata": {},
   "source": [
    "### 2.4 Cross validation (optional)\n",
    "\n",
    "The code example shown here below uses the [kfold](https://scikit-learn.org/stable/modules/generated/sklearn.model_selection.KFold.html#sklearn.model_selection.KFold) method to implement 5-fold cross-validation. Moreover, it uses the cross validation to explore how the max_depth influences the model performance. It keeps track of the validation accuracy scores and F1-scores across the 5 folds. \n",
    "\n",
    "\n",
    "Now, change the code to also compute the recall and precision. \n"
   ]
  },
  {
   "cell_type": "code",
   "execution_count": 26,
   "metadata": {},
   "outputs": [
    {
     "name": "stdout",
     "output_type": "stream",
     "text": [
      "[2 3 4 5 6 7 8 9]\n",
      "Mean accuracy: [0.90830588 0.91226232 0.91676619 0.91875681 0.91927936 0.91781121\n",
      " 0.91664173 0.91360604]\n",
      "Selected model index: 4\n",
      "Mean F1: [0.47789358 0.4957873  0.55752217 0.53986637 0.56023574 0.56634023\n",
      " 0.55956063 0.53542101]\n",
      "Selected model index: 5\n"
     ]
    }
   ],
   "source": [
    "from sklearn.model_selection import KFold\n",
    "\n",
    "# create 5-fold cross-validation\n",
    "nk = 5\n",
    "kf = KFold(n_splits=nk, random_state=0, shuffle=True)\n",
    "\n",
    "# Search the parameter among the following\n",
    "C = np.arange(2, 10,)\n",
    "print(C)\n",
    "\n",
    "# init acc\n",
    "acc = np.zeros((nk , 8))\n",
    "# init f1\n",
    "f1 = np.zeros((nk , 8))\n",
    "i = 0\n",
    "for train_index , val_index in kf.split(X):\n",
    "    X_t, X_val = X.iloc[train_index], X.iloc[val_index]\n",
    "    y_t, y_val = y.iloc[train_index], y.iloc[val_index]\n",
    "    j = 0\n",
    "    for c in C:\n",
    "        dt = tree.DecisionTreeClassifier(min_samples_leaf = 1, max_depth = c)\n",
    "        dt.fit(X_t, y_t)\n",
    "        yhat = dt.predict(X_val)\n",
    "        acc[i][j] = accuracy_score(yhat , y_val)\n",
    "        f1[i][j] = f1_score(yhat , y_val)\n",
    "        j = j + 1\n",
    "    i = i + 1\n",
    "    \n",
    "print('Mean accuracy: ' + str(np.mean(acc , axis = 0)))\n",
    "print('Selected model index: ' + str(np.argmax(np.mean(acc , axis = 0))))\n",
    "\n",
    "print('Mean F1: ' + str(np.mean(f1 , axis = 0)))\n",
    "print('Selected model index: ' + str(np.argmax(np.mean(f1 , axis = 0))))"
   ]
  },
  {
   "cell_type": "markdown",
   "metadata": {},
   "source": [
    "### 2.5 Tree Tuning\n",
    "\n",
    "\n",
    "\n",
    "The built-in decision tree algorithm you are using has several parameters which you can tune (e.g., *max_depth* and *min_samples_leaf*). Use 5-fold cross-validation (e.g., reuse the code of task 2.4 and adapt the code for two parameters), show how the choice of these parameters affects performance. \n",
    "\n",
    "\n",
    "#### Tips: \n",
    "Make a decision on the range of values that you would try for the two parameters and discuss your choice in the experiment setup section.\n",
    "\n",
    "Here is a guide that helps you to build the experiment.\n",
    "First, reuse the code of task 2.4 and show how max_depth affects train and **validation accuracy**. On a single axis, plot train and **validation accuracy** as a function of max_depth. Use a red line to show validation accuracy and a blue line to show train accuracy. (Do not use your (held-out) **test data** yet). \n",
    "\n",
    "Second, show how validation accuracy relates to both max_depth and min_samples_leaf. Specifically, create a 3-D plot where the x-axis is max_depth, the y-axis is min_samples_leaf, and the z-axis shows accuracy. What combination of max_depth and min-samples_leaf achieves the highest F1 score? How sensitive are the results to these two parameters? \n",
    "\n",
    "Finally, select the best-performing decision tree (i.e., the one that achieved the highest cross-validated performance) and report the performance of the fitted model on the held-out test data -- how does it compare to the cross-validated F1 score?\n"
   ]
  },
  {
   "cell_type": "code",
   "execution_count": 46,
   "metadata": {},
   "outputs": [
    {
     "name": "stdout",
     "output_type": "stream",
     "text": [
      "Mean accuracy: [0.91880657 0.9187319  0.91868214]\n",
      "Selected model index based on accuracy: 0\n",
      "Best criterion: gini\n",
      "Mean F1: [0.54015352 0.5474687  0.54717757]\n",
      "Selected model index based on F1 score: 1\n",
      "Best criterion: entropy\n"
     ]
    }
   ],
   "source": [
    "# TODO: create 5-fold cross-validation\n",
    "nk = 5\n",
    "kf1 = KFold(n_splits=nk, random_state=0, shuffle=True)\n",
    "kf2 = KFold(n_splits=nk, random_state=0, shuffle=True)\n",
    "\n",
    "# TODO: set the search space of the parameters\n",
    "criteria = [\"gini\", \"entropy\", \"log_loss\"]\n",
    "\n",
    "# TODO: learn an optimal decision tree model for each criterion and each number of leaf nodes\n",
    "# Loop over folds\n",
    "\n",
    "# init acc\n",
    "acc = np.zeros((nk , len(criteria)))\n",
    "f1 = np.zeros((nk , len(criteria)))\n",
    "i = 0\n",
    "\n",
    "for i, (train_index, val_index) in enumerate(kf1.split(X)):\n",
    "    X_t, X_val = X.iloc[train_index], X.iloc[val_index]\n",
    "    y_t, y_val = y.iloc[train_index], y.iloc[val_index]\n",
    "    \n",
    "    # Loop over criterion values\n",
    "    for k, criterion in enumerate(criteria):\n",
    "        dt = tree.DecisionTreeClassifier(min_samples_leaf=1, max_depth=5, criterion=criterion)\n",
    "        dt.fit(X_t, y_t)\n",
    "        yhat = dt.predict(X_val)\n",
    "        acc[i][k] = accuracy_score(yhat, y_val)\n",
    "        f1[i][k] = f1_score(yhat, y_val)\n",
    "\n",
    "# TODO: create 2D (or 3D) plot that shows how the selected parameters affect the performance. \n",
    "\n",
    "# Compute the mean accuracy and F1 score across folds\n",
    "mean_acc = np.mean(acc, axis=0)\n",
    "mean_f1 = np.mean(f1, axis=0)\n",
    "\n",
    "# Find the index of the best model based on mean accuracy and F1 score\n",
    "best_acc_index = np.argmax(mean_acc)\n",
    "best_f1_index = np.argmax(mean_f1)\n",
    "\n",
    "print('Mean accuracy: ' + str(mean_acc))\n",
    "print('Selected model index based on accuracy: ' + str(best_acc_index))\n",
    "print('Best criterion: ' + str(criteria[best_acc_index]))\n",
    "\n",
    "print('Mean F1: ' + str(mean_f1))\n",
    "print('Selected model index based on F1 score: ' + str(best_f1_index))\n",
    "print('Best criterion: ' + str(criteria[best_f1_index]))\n"
   ]
  },
  {
   "cell_type": "code",
   "execution_count": 74,
   "metadata": {},
   "outputs": [],
   "source": [
    "# MAKE SCORERS ###############################################################\n",
    "from sklearn.metrics import make_scorer, f1_score, roc_auc_score\n",
    "\n",
    "# Create scorer\n",
    "f1_scorer = make_scorer(f1_score)\n",
    "roc_auc_scorer = make_scorer(roc_auc_score)\n",
    "precision_scorer = make_scorer(precision_score, zero_division=1)  # Set zero_division parameter to 1\n",
    "\n",
    "# Create scoring dictionary\n",
    "scoring_dict = {'accuracy': 'accuracy', 'f1_score': f1_scorer, 'roc_auc': roc_auc_scorer, 'precision': precision_scorer, 'recall': 'recall'}\n",
    "\n",
    "# Create KFold cross-validator\n",
    "kf = KFold(n_splits=5, shuffle=True, random_state=0)"
   ]
  },
  {
   "cell_type": "code",
   "execution_count": 83,
   "metadata": {},
   "outputs": [
    {
     "data": {
      "text/html": [
       "<style>#sk-container-id-6 {color: black;}#sk-container-id-6 pre{padding: 0;}#sk-container-id-6 div.sk-toggleable {background-color: white;}#sk-container-id-6 label.sk-toggleable__label {cursor: pointer;display: block;width: 100%;margin-bottom: 0;padding: 0.3em;box-sizing: border-box;text-align: center;}#sk-container-id-6 label.sk-toggleable__label-arrow:before {content: \"▸\";float: left;margin-right: 0.25em;color: #696969;}#sk-container-id-6 label.sk-toggleable__label-arrow:hover:before {color: black;}#sk-container-id-6 div.sk-estimator:hover label.sk-toggleable__label-arrow:before {color: black;}#sk-container-id-6 div.sk-toggleable__content {max-height: 0;max-width: 0;overflow: hidden;text-align: left;background-color: #f0f8ff;}#sk-container-id-6 div.sk-toggleable__content pre {margin: 0.2em;color: black;border-radius: 0.25em;background-color: #f0f8ff;}#sk-container-id-6 input.sk-toggleable__control:checked~div.sk-toggleable__content {max-height: 200px;max-width: 100%;overflow: auto;}#sk-container-id-6 input.sk-toggleable__control:checked~label.sk-toggleable__label-arrow:before {content: \"▾\";}#sk-container-id-6 div.sk-estimator input.sk-toggleable__control:checked~label.sk-toggleable__label {background-color: #d4ebff;}#sk-container-id-6 div.sk-label input.sk-toggleable__control:checked~label.sk-toggleable__label {background-color: #d4ebff;}#sk-container-id-6 input.sk-hidden--visually {border: 0;clip: rect(1px 1px 1px 1px);clip: rect(1px, 1px, 1px, 1px);height: 1px;margin: -1px;overflow: hidden;padding: 0;position: absolute;width: 1px;}#sk-container-id-6 div.sk-estimator {font-family: monospace;background-color: #f0f8ff;border: 1px dotted black;border-radius: 0.25em;box-sizing: border-box;margin-bottom: 0.5em;}#sk-container-id-6 div.sk-estimator:hover {background-color: #d4ebff;}#sk-container-id-6 div.sk-parallel-item::after {content: \"\";width: 100%;border-bottom: 1px solid gray;flex-grow: 1;}#sk-container-id-6 div.sk-label:hover label.sk-toggleable__label {background-color: #d4ebff;}#sk-container-id-6 div.sk-serial::before {content: \"\";position: absolute;border-left: 1px solid gray;box-sizing: border-box;top: 0;bottom: 0;left: 50%;z-index: 0;}#sk-container-id-6 div.sk-serial {display: flex;flex-direction: column;align-items: center;background-color: white;padding-right: 0.2em;padding-left: 0.2em;position: relative;}#sk-container-id-6 div.sk-item {position: relative;z-index: 1;}#sk-container-id-6 div.sk-parallel {display: flex;align-items: stretch;justify-content: center;background-color: white;position: relative;}#sk-container-id-6 div.sk-item::before, #sk-container-id-6 div.sk-parallel-item::before {content: \"\";position: absolute;border-left: 1px solid gray;box-sizing: border-box;top: 0;bottom: 0;left: 50%;z-index: -1;}#sk-container-id-6 div.sk-parallel-item {display: flex;flex-direction: column;z-index: 1;position: relative;background-color: white;}#sk-container-id-6 div.sk-parallel-item:first-child::after {align-self: flex-end;width: 50%;}#sk-container-id-6 div.sk-parallel-item:last-child::after {align-self: flex-start;width: 50%;}#sk-container-id-6 div.sk-parallel-item:only-child::after {width: 0;}#sk-container-id-6 div.sk-dashed-wrapped {border: 1px dashed gray;margin: 0 0.4em 0.5em 0.4em;box-sizing: border-box;padding-bottom: 0.4em;background-color: white;}#sk-container-id-6 div.sk-label label {font-family: monospace;font-weight: bold;display: inline-block;line-height: 1.2em;}#sk-container-id-6 div.sk-label-container {text-align: center;}#sk-container-id-6 div.sk-container {/* jupyter's `normalize.less` sets `[hidden] { display: none; }` but bootstrap.min.css set `[hidden] { display: none !important; }` so we also need the `!important` here to be able to override the default hidden behavior on the sphinx rendered scikit-learn.org. See: https://github.com/scikit-learn/scikit-learn/issues/21755 */display: inline-block !important;position: relative;}#sk-container-id-6 div.sk-text-repr-fallback {display: none;}</style><div id=\"sk-container-id-6\" class=\"sk-top-container\"><div class=\"sk-text-repr-fallback\"><pre>GridSearchCV(cv=KFold(n_splits=5, random_state=0, shuffle=True),\n",
       "             estimator=DecisionTreeClassifier(),\n",
       "             param_grid={&#x27;criterion&#x27;: [&#x27;gini&#x27;, &#x27;entropy&#x27;, &#x27;log_loss&#x27;],\n",
       "                         &#x27;max_depth&#x27;: [3, 4, 5, 6, 7, 8],\n",
       "                         &#x27;max_leaf_nodes&#x27;: [None, 2, 4],\n",
       "                         &#x27;min_impurity_decrease&#x27;: [0.0, 0.1, 0.2, 0.3],\n",
       "                         &#x27;min_samples_leaf&#x27;: [1, 2, 4, 8]},\n",
       "             refit=&#x27;f1_score&#x27;,\n",
       "             scoring={&#x27;accuracy&#x27;: &#x27;accuracy&#x27;, &#x27;f1_score&#x27;: make_scorer(f1_score),\n",
       "                      &#x27;precision&#x27;: make_scorer(precision_score, zero_division=1),\n",
       "                      &#x27;recall&#x27;: &#x27;recall&#x27;,\n",
       "                      &#x27;roc_auc&#x27;: make_scorer(roc_auc_score)})</pre><b>In a Jupyter environment, please rerun this cell to show the HTML representation or trust the notebook. <br />On GitHub, the HTML representation is unable to render, please try loading this page with nbviewer.org.</b></div><div class=\"sk-container\" hidden><div class=\"sk-item sk-dashed-wrapped\"><div class=\"sk-label-container\"><div class=\"sk-label sk-toggleable\"><input class=\"sk-toggleable__control sk-hidden--visually\" id=\"sk-estimator-id-16\" type=\"checkbox\" ><label for=\"sk-estimator-id-16\" class=\"sk-toggleable__label sk-toggleable__label-arrow\">GridSearchCV</label><div class=\"sk-toggleable__content\"><pre>GridSearchCV(cv=KFold(n_splits=5, random_state=0, shuffle=True),\n",
       "             estimator=DecisionTreeClassifier(),\n",
       "             param_grid={&#x27;criterion&#x27;: [&#x27;gini&#x27;, &#x27;entropy&#x27;, &#x27;log_loss&#x27;],\n",
       "                         &#x27;max_depth&#x27;: [3, 4, 5, 6, 7, 8],\n",
       "                         &#x27;max_leaf_nodes&#x27;: [None, 2, 4],\n",
       "                         &#x27;min_impurity_decrease&#x27;: [0.0, 0.1, 0.2, 0.3],\n",
       "                         &#x27;min_samples_leaf&#x27;: [1, 2, 4, 8]},\n",
       "             refit=&#x27;f1_score&#x27;,\n",
       "             scoring={&#x27;accuracy&#x27;: &#x27;accuracy&#x27;, &#x27;f1_score&#x27;: make_scorer(f1_score),\n",
       "                      &#x27;precision&#x27;: make_scorer(precision_score, zero_division=1),\n",
       "                      &#x27;recall&#x27;: &#x27;recall&#x27;,\n",
       "                      &#x27;roc_auc&#x27;: make_scorer(roc_auc_score)})</pre></div></div></div><div class=\"sk-parallel\"><div class=\"sk-parallel-item\"><div class=\"sk-item\"><div class=\"sk-label-container\"><div class=\"sk-label sk-toggleable\"><input class=\"sk-toggleable__control sk-hidden--visually\" id=\"sk-estimator-id-17\" type=\"checkbox\" ><label for=\"sk-estimator-id-17\" class=\"sk-toggleable__label sk-toggleable__label-arrow\">estimator: DecisionTreeClassifier</label><div class=\"sk-toggleable__content\"><pre>DecisionTreeClassifier()</pre></div></div></div><div class=\"sk-serial\"><div class=\"sk-item\"><div class=\"sk-estimator sk-toggleable\"><input class=\"sk-toggleable__control sk-hidden--visually\" id=\"sk-estimator-id-18\" type=\"checkbox\" ><label for=\"sk-estimator-id-18\" class=\"sk-toggleable__label sk-toggleable__label-arrow\">DecisionTreeClassifier</label><div class=\"sk-toggleable__content\"><pre>DecisionTreeClassifier()</pre></div></div></div></div></div></div></div></div></div></div>"
      ],
      "text/plain": [
       "GridSearchCV(cv=KFold(n_splits=5, random_state=0, shuffle=True),\n",
       "             estimator=DecisionTreeClassifier(),\n",
       "             param_grid={'criterion': ['gini', 'entropy', 'log_loss'],\n",
       "                         'max_depth': [3, 4, 5, 6, 7, 8],\n",
       "                         'max_leaf_nodes': [None, 2, 4],\n",
       "                         'min_impurity_decrease': [0.0, 0.1, 0.2, 0.3],\n",
       "                         'min_samples_leaf': [1, 2, 4, 8]},\n",
       "             refit='f1_score',\n",
       "             scoring={'accuracy': 'accuracy', 'f1_score': make_scorer(f1_score),\n",
       "                      'precision': make_scorer(precision_score, zero_division=1),\n",
       "                      'recall': 'recall',\n",
       "                      'roc_auc': make_scorer(roc_auc_score)})"
      ]
     },
     "execution_count": 83,
     "metadata": {},
     "output_type": "execute_result"
    }
   ],
   "source": [
    "# GRIDSEARCHCV FOR HYPERPARAMETER TUNING OF DECISION TREE #\n",
    "from sklearn.model_selection import GridSearchCV\n",
    "from sklearn import tree\n",
    "\n",
    "# Define the parameter grid dictionary\n",
    "param_grid_dict = {\n",
    "    'criterion': ['gini', 'entropy', 'log_loss', ],\n",
    "    'max_depth': [3, 4, 5, 6, 7, 8],\n",
    "    'min_samples_leaf': [1, 2, 4, 8],\n",
    "    'max_leaf_nodes': [None, 2, 4],\n",
    "    'min_impurity_decrease': [0.0, 0.1, 0.2, 0.3]\n",
    "}\n",
    "\n",
    "# Create a DecisionTreeClassifier\n",
    "dtc = tree.DecisionTreeClassifier()\n",
    "\n",
    "# Create GridSearchCV object\n",
    "grid_search = GridSearchCV(dtc, param_grid_dict, scoring=scoring_dict, cv=kf, return_train_score=False, refit='f1_score')\n",
    "\n",
    "# Fit the grid search to the data\n",
    "grid_search.fit(X, y)\n",
    "\n",
    "# NOTE: This grid search cross validation task totalling 4320 fits takes around 4 minutes to run on my machine #"
   ]
  },
  {
   "cell_type": "code",
   "execution_count": 89,
   "metadata": {},
   "outputs": [
    {
     "name": "stdout",
     "output_type": "stream",
     "text": [
      "Index(['mean_fit_time', 'std_fit_time', 'mean_score_time', 'std_score_time',\n",
      "       'param_criterion', 'param_max_depth', 'param_max_leaf_nodes',\n",
      "       'param_min_impurity_decrease', 'param_min_samples_leaf', 'params',\n",
      "       'split0_test_accuracy', 'split1_test_accuracy', 'split2_test_accuracy',\n",
      "       'split3_test_accuracy', 'split4_test_accuracy', 'mean_test_accuracy',\n",
      "       'std_test_accuracy', 'rank_test_accuracy', 'split0_test_f1_score',\n",
      "       'split1_test_f1_score', 'split2_test_f1_score', 'split3_test_f1_score',\n",
      "       'split4_test_f1_score', 'mean_test_f1_score', 'std_test_f1_score',\n",
      "       'rank_test_f1_score', 'split0_test_roc_auc', 'split1_test_roc_auc',\n",
      "       'split2_test_roc_auc', 'split3_test_roc_auc', 'split4_test_roc_auc',\n",
      "       'mean_test_roc_auc', 'std_test_roc_auc', 'rank_test_roc_auc',\n",
      "       'split0_test_precision', 'split1_test_precision',\n",
      "       'split2_test_precision', 'split3_test_precision',\n",
      "       'split4_test_precision', 'mean_test_precision', 'std_test_precision',\n",
      "       'rank_test_precision', 'split0_test_recall', 'split1_test_recall',\n",
      "       'split2_test_recall', 'split3_test_recall', 'split4_test_recall',\n",
      "       'mean_test_recall', 'std_test_recall', 'rank_test_recall'],\n",
      "      dtype='object')\n"
     ]
    }
   ],
   "source": [
    "# Put all results into a dataframe and show first row\n",
    "cv_results = pd.DataFrame(grid_search.cv_results_)\n",
    "\n",
    "# Print all feature titles\n",
    "print(cv_results.columns)"
   ]
  },
  {
   "cell_type": "code",
   "execution_count": 93,
   "metadata": {},
   "outputs": [
    {
     "name": "stdout",
     "output_type": "stream",
     "text": [
      "0.567485341887402\n"
     ]
    },
    {
     "data": {
      "text/html": [
       "<div>\n",
       "<style scoped>\n",
       "    .dataframe tbody tr th:only-of-type {\n",
       "        vertical-align: middle;\n",
       "    }\n",
       "\n",
       "    .dataframe tbody tr th {\n",
       "        vertical-align: top;\n",
       "    }\n",
       "\n",
       "    .dataframe thead th {\n",
       "        text-align: right;\n",
       "    }\n",
       "</style>\n",
       "<table border=\"1\" class=\"dataframe\">\n",
       "  <thead>\n",
       "    <tr style=\"text-align: right;\">\n",
       "      <th></th>\n",
       "      <th>params</th>\n",
       "      <th>mean_test_accuracy</th>\n",
       "      <th>mean_test_f1_score</th>\n",
       "      <th>mean_test_roc_auc</th>\n",
       "      <th>mean_test_precision</th>\n",
       "      <th>mean_test_recall</th>\n",
       "    </tr>\n",
       "  </thead>\n",
       "  <tbody>\n",
       "    <tr>\n",
       "      <th>771</th>\n",
       "      <td>{'criterion': 'log_loss', 'max_depth': 7, 'max...</td>\n",
       "      <td>0.918906</td>\n",
       "      <td>0.567485</td>\n",
       "      <td>0.741399</td>\n",
       "      <td>0.629356</td>\n",
       "      <td>0.517861</td>\n",
       "    </tr>\n",
       "  </tbody>\n",
       "</table>\n",
       "</div>"
      ],
      "text/plain": [
       "                                                params  mean_test_accuracy  \\\n",
       "771  {'criterion': 'log_loss', 'max_depth': 7, 'max...            0.918906   \n",
       "\n",
       "     mean_test_f1_score  mean_test_roc_auc  mean_test_precision  \\\n",
       "771            0.567485           0.741399             0.629356   \n",
       "\n",
       "     mean_test_recall  \n",
       "771          0.517861  "
      ]
     },
     "execution_count": 93,
     "metadata": {},
     "output_type": "execute_result"
    }
   ],
   "source": [
    "# Get the best parameters and best f1 score\n",
    "best_params = grid_search.best_params_\n",
    "best_score = grid_search.best_score_\n",
    "\n",
    "print(best_score)\n",
    "\n",
    "# Print paramaters and score where rank_test_[scoring] is 1 for all different scorings\n",
    "cv_results[cv_results['rank_test_f1_score'] == 1][['params', 'mean_test_accuracy', 'mean_test_f1_score', 'mean_test_roc_auc', 'mean_test_precision', 'mean_test_recall']]"
   ]
  },
  {
   "cell_type": "code",
   "execution_count": 94,
   "metadata": {},
   "outputs": [
    {
     "data": {
      "text/html": [
       "<div>\n",
       "<style scoped>\n",
       "    .dataframe tbody tr th:only-of-type {\n",
       "        vertical-align: middle;\n",
       "    }\n",
       "\n",
       "    .dataframe tbody tr th {\n",
       "        vertical-align: top;\n",
       "    }\n",
       "\n",
       "    .dataframe thead th {\n",
       "        text-align: right;\n",
       "    }\n",
       "</style>\n",
       "<table border=\"1\" class=\"dataframe\">\n",
       "  <thead>\n",
       "    <tr style=\"text-align: right;\">\n",
       "      <th></th>\n",
       "      <th>params</th>\n",
       "      <th>mean_test_accuracy</th>\n",
       "      <th>mean_test_f1_score</th>\n",
       "      <th>mean_test_roc_auc</th>\n",
       "      <th>mean_test_precision</th>\n",
       "      <th>mean_test_recall</th>\n",
       "    </tr>\n",
       "  </thead>\n",
       "  <tbody>\n",
       "    <tr>\n",
       "      <th>144</th>\n",
       "      <td>{'criterion': 'gini', 'max_depth': 6, 'max_lea...</td>\n",
       "      <td>0.919279</td>\n",
       "      <td>0.560218</td>\n",
       "      <td>0.733759</td>\n",
       "      <td>0.638776</td>\n",
       "      <td>0.500082</td>\n",
       "    </tr>\n",
       "  </tbody>\n",
       "</table>\n",
       "</div>"
      ],
      "text/plain": [
       "                                                params  mean_test_accuracy  \\\n",
       "144  {'criterion': 'gini', 'max_depth': 6, 'max_lea...            0.919279   \n",
       "\n",
       "     mean_test_f1_score  mean_test_roc_auc  mean_test_precision  \\\n",
       "144            0.560218           0.733759             0.638776   \n",
       "\n",
       "     mean_test_recall  \n",
       "144          0.500082  "
      ]
     },
     "execution_count": 94,
     "metadata": {},
     "output_type": "execute_result"
    }
   ],
   "source": [
    "cv_results[cv_results['rank_test_accuracy'] == 1][['params', 'mean_test_accuracy', 'mean_test_f1_score', 'mean_test_roc_auc', 'mean_test_precision', 'mean_test_recall']]"
   ]
  },
  {
   "cell_type": "code",
   "execution_count": 95,
   "metadata": {},
   "outputs": [
    {
     "data": {
      "text/html": [
       "<div>\n",
       "<style scoped>\n",
       "    .dataframe tbody tr th:only-of-type {\n",
       "        vertical-align: middle;\n",
       "    }\n",
       "\n",
       "    .dataframe tbody tr th {\n",
       "        vertical-align: top;\n",
       "    }\n",
       "\n",
       "    .dataframe thead th {\n",
       "        text-align: right;\n",
       "    }\n",
       "</style>\n",
       "<table border=\"1\" class=\"dataframe\">\n",
       "  <thead>\n",
       "    <tr style=\"text-align: right;\">\n",
       "      <th></th>\n",
       "      <th>params</th>\n",
       "      <th>mean_test_accuracy</th>\n",
       "      <th>mean_test_f1_score</th>\n",
       "      <th>mean_test_roc_auc</th>\n",
       "      <th>mean_test_precision</th>\n",
       "      <th>mean_test_recall</th>\n",
       "    </tr>\n",
       "  </thead>\n",
       "  <tbody>\n",
       "    <tr>\n",
       "      <th>193</th>\n",
       "      <td>{'criterion': 'gini', 'max_depth': 7, 'max_lea...</td>\n",
       "      <td>0.917786</td>\n",
       "      <td>0.566293</td>\n",
       "      <td>0.742602</td>\n",
       "      <td>0.619662</td>\n",
       "      <td>0.521988</td>\n",
       "    </tr>\n",
       "  </tbody>\n",
       "</table>\n",
       "</div>"
      ],
      "text/plain": [
       "                                                params  mean_test_accuracy  \\\n",
       "193  {'criterion': 'gini', 'max_depth': 7, 'max_lea...            0.917786   \n",
       "\n",
       "     mean_test_f1_score  mean_test_roc_auc  mean_test_precision  \\\n",
       "193            0.566293           0.742602             0.619662   \n",
       "\n",
       "     mean_test_recall  \n",
       "193          0.521988  "
      ]
     },
     "execution_count": 95,
     "metadata": {},
     "output_type": "execute_result"
    }
   ],
   "source": [
    "cv_results[cv_results['rank_test_roc_auc'] == 1][['params', 'mean_test_accuracy', 'mean_test_f1_score', 'mean_test_roc_auc', 'mean_test_precision', 'mean_test_recall']]"
   ]
  },
  {
   "cell_type": "code",
   "execution_count": 96,
   "metadata": {},
   "outputs": [
    {
     "data": {
      "text/html": [
       "<div>\n",
       "<style scoped>\n",
       "    .dataframe tbody tr th:only-of-type {\n",
       "        vertical-align: middle;\n",
       "    }\n",
       "\n",
       "    .dataframe tbody tr th {\n",
       "        vertical-align: top;\n",
       "    }\n",
       "\n",
       "    .dataframe thead th {\n",
       "        text-align: right;\n",
       "    }\n",
       "</style>\n",
       "<table border=\"1\" class=\"dataframe\">\n",
       "  <thead>\n",
       "    <tr style=\"text-align: right;\">\n",
       "      <th></th>\n",
       "      <th>params</th>\n",
       "      <th>mean_test_accuracy</th>\n",
       "      <th>mean_test_f1_score</th>\n",
       "      <th>mean_test_roc_auc</th>\n",
       "      <th>mean_test_precision</th>\n",
       "      <th>mean_test_recall</th>\n",
       "    </tr>\n",
       "  </thead>\n",
       "  <tbody>\n",
       "    <tr>\n",
       "      <th>4</th>\n",
       "      <td>{'criterion': 'gini', 'max_depth': 3, 'max_lea...</td>\n",
       "      <td>0.896984</td>\n",
       "      <td>0.0</td>\n",
       "      <td>0.5</td>\n",
       "      <td>1.0</td>\n",
       "      <td>0.0</td>\n",
       "    </tr>\n",
       "    <tr>\n",
       "      <th>5</th>\n",
       "      <td>{'criterion': 'gini', 'max_depth': 3, 'max_lea...</td>\n",
       "      <td>0.896984</td>\n",
       "      <td>0.0</td>\n",
       "      <td>0.5</td>\n",
       "      <td>1.0</td>\n",
       "      <td>0.0</td>\n",
       "    </tr>\n",
       "    <tr>\n",
       "      <th>6</th>\n",
       "      <td>{'criterion': 'gini', 'max_depth': 3, 'max_lea...</td>\n",
       "      <td>0.896984</td>\n",
       "      <td>0.0</td>\n",
       "      <td>0.5</td>\n",
       "      <td>1.0</td>\n",
       "      <td>0.0</td>\n",
       "    </tr>\n",
       "    <tr>\n",
       "      <th>7</th>\n",
       "      <td>{'criterion': 'gini', 'max_depth': 3, 'max_lea...</td>\n",
       "      <td>0.896984</td>\n",
       "      <td>0.0</td>\n",
       "      <td>0.5</td>\n",
       "      <td>1.0</td>\n",
       "      <td>0.0</td>\n",
       "    </tr>\n",
       "    <tr>\n",
       "      <th>8</th>\n",
       "      <td>{'criterion': 'gini', 'max_depth': 3, 'max_lea...</td>\n",
       "      <td>0.896984</td>\n",
       "      <td>0.0</td>\n",
       "      <td>0.5</td>\n",
       "      <td>1.0</td>\n",
       "      <td>0.0</td>\n",
       "    </tr>\n",
       "    <tr>\n",
       "      <th>...</th>\n",
       "      <td>...</td>\n",
       "      <td>...</td>\n",
       "      <td>...</td>\n",
       "      <td>...</td>\n",
       "      <td>...</td>\n",
       "      <td>...</td>\n",
       "    </tr>\n",
       "    <tr>\n",
       "      <th>859</th>\n",
       "      <td>{'criterion': 'log_loss', 'max_depth': 8, 'max...</td>\n",
       "      <td>0.896984</td>\n",
       "      <td>0.0</td>\n",
       "      <td>0.5</td>\n",
       "      <td>1.0</td>\n",
       "      <td>0.0</td>\n",
       "    </tr>\n",
       "    <tr>\n",
       "      <th>860</th>\n",
       "      <td>{'criterion': 'log_loss', 'max_depth': 8, 'max...</td>\n",
       "      <td>0.896984</td>\n",
       "      <td>0.0</td>\n",
       "      <td>0.5</td>\n",
       "      <td>1.0</td>\n",
       "      <td>0.0</td>\n",
       "    </tr>\n",
       "    <tr>\n",
       "      <th>861</th>\n",
       "      <td>{'criterion': 'log_loss', 'max_depth': 8, 'max...</td>\n",
       "      <td>0.896984</td>\n",
       "      <td>0.0</td>\n",
       "      <td>0.5</td>\n",
       "      <td>1.0</td>\n",
       "      <td>0.0</td>\n",
       "    </tr>\n",
       "    <tr>\n",
       "      <th>862</th>\n",
       "      <td>{'criterion': 'log_loss', 'max_depth': 8, 'max...</td>\n",
       "      <td>0.896984</td>\n",
       "      <td>0.0</td>\n",
       "      <td>0.5</td>\n",
       "      <td>1.0</td>\n",
       "      <td>0.0</td>\n",
       "    </tr>\n",
       "    <tr>\n",
       "      <th>863</th>\n",
       "      <td>{'criterion': 'log_loss', 'max_depth': 8, 'max...</td>\n",
       "      <td>0.896984</td>\n",
       "      <td>0.0</td>\n",
       "      <td>0.5</td>\n",
       "      <td>1.0</td>\n",
       "      <td>0.0</td>\n",
       "    </tr>\n",
       "  </tbody>\n",
       "</table>\n",
       "<p>768 rows × 6 columns</p>\n",
       "</div>"
      ],
      "text/plain": [
       "                                                params  mean_test_accuracy  \\\n",
       "4    {'criterion': 'gini', 'max_depth': 3, 'max_lea...            0.896984   \n",
       "5    {'criterion': 'gini', 'max_depth': 3, 'max_lea...            0.896984   \n",
       "6    {'criterion': 'gini', 'max_depth': 3, 'max_lea...            0.896984   \n",
       "7    {'criterion': 'gini', 'max_depth': 3, 'max_lea...            0.896984   \n",
       "8    {'criterion': 'gini', 'max_depth': 3, 'max_lea...            0.896984   \n",
       "..                                                 ...                 ...   \n",
       "859  {'criterion': 'log_loss', 'max_depth': 8, 'max...            0.896984   \n",
       "860  {'criterion': 'log_loss', 'max_depth': 8, 'max...            0.896984   \n",
       "861  {'criterion': 'log_loss', 'max_depth': 8, 'max...            0.896984   \n",
       "862  {'criterion': 'log_loss', 'max_depth': 8, 'max...            0.896984   \n",
       "863  {'criterion': 'log_loss', 'max_depth': 8, 'max...            0.896984   \n",
       "\n",
       "     mean_test_f1_score  mean_test_roc_auc  mean_test_precision  \\\n",
       "4                   0.0                0.5                  1.0   \n",
       "5                   0.0                0.5                  1.0   \n",
       "6                   0.0                0.5                  1.0   \n",
       "7                   0.0                0.5                  1.0   \n",
       "8                   0.0                0.5                  1.0   \n",
       "..                  ...                ...                  ...   \n",
       "859                 0.0                0.5                  1.0   \n",
       "860                 0.0                0.5                  1.0   \n",
       "861                 0.0                0.5                  1.0   \n",
       "862                 0.0                0.5                  1.0   \n",
       "863                 0.0                0.5                  1.0   \n",
       "\n",
       "     mean_test_recall  \n",
       "4                 0.0  \n",
       "5                 0.0  \n",
       "6                 0.0  \n",
       "7                 0.0  \n",
       "8                 0.0  \n",
       "..                ...  \n",
       "859               0.0  \n",
       "860               0.0  \n",
       "861               0.0  \n",
       "862               0.0  \n",
       "863               0.0  \n",
       "\n",
       "[768 rows x 6 columns]"
      ]
     },
     "execution_count": 96,
     "metadata": {},
     "output_type": "execute_result"
    }
   ],
   "source": [
    "cv_results[cv_results['rank_test_precision'] == 1][['params', 'mean_test_accuracy', 'mean_test_f1_score', 'mean_test_roc_auc', 'mean_test_precision', 'mean_test_recall']]"
   ]
  },
  {
   "cell_type": "code",
   "execution_count": 97,
   "metadata": {},
   "outputs": [
    {
     "data": {
      "text/html": [
       "<div>\n",
       "<style scoped>\n",
       "    .dataframe tbody tr th:only-of-type {\n",
       "        vertical-align: middle;\n",
       "    }\n",
       "\n",
       "    .dataframe tbody tr th {\n",
       "        vertical-align: top;\n",
       "    }\n",
       "\n",
       "    .dataframe thead th {\n",
       "        text-align: right;\n",
       "    }\n",
       "</style>\n",
       "<table border=\"1\" class=\"dataframe\">\n",
       "  <thead>\n",
       "    <tr style=\"text-align: right;\">\n",
       "      <th></th>\n",
       "      <th>params</th>\n",
       "      <th>mean_test_accuracy</th>\n",
       "      <th>mean_test_f1_score</th>\n",
       "      <th>mean_test_roc_auc</th>\n",
       "      <th>mean_test_precision</th>\n",
       "      <th>mean_test_recall</th>\n",
       "    </tr>\n",
       "  </thead>\n",
       "  <tbody>\n",
       "    <tr>\n",
       "      <th>193</th>\n",
       "      <td>{'criterion': 'gini', 'max_depth': 7, 'max_lea...</td>\n",
       "      <td>0.917786</td>\n",
       "      <td>0.566293</td>\n",
       "      <td>0.742602</td>\n",
       "      <td>0.619662</td>\n",
       "      <td>0.521988</td>\n",
       "    </tr>\n",
       "  </tbody>\n",
       "</table>\n",
       "</div>"
      ],
      "text/plain": [
       "                                                params  mean_test_accuracy  \\\n",
       "193  {'criterion': 'gini', 'max_depth': 7, 'max_lea...            0.917786   \n",
       "\n",
       "     mean_test_f1_score  mean_test_roc_auc  mean_test_precision  \\\n",
       "193            0.566293           0.742602             0.619662   \n",
       "\n",
       "     mean_test_recall  \n",
       "193          0.521988  "
      ]
     },
     "execution_count": 97,
     "metadata": {},
     "output_type": "execute_result"
    }
   ],
   "source": [
    "cv_results[cv_results['rank_test_recall'] == 1][['params', 'mean_test_accuracy', 'mean_test_f1_score', 'mean_test_roc_auc', 'mean_test_precision', 'mean_test_recall']]"
   ]
  },
  {
   "cell_type": "code",
   "execution_count": 98,
   "metadata": {},
   "outputs": [
    {
     "name": "stdout",
     "output_type": "stream",
     "text": [
      "Best Parameters: {'criterion': 'log_loss', 'max_depth': 7, 'max_leaf_nodes': None, 'min_impurity_decrease': 0.0, 'min_samples_leaf': 8}\n",
      "Best F1 Score: 0.567485341887402\n"
     ]
    },
    {
     "ename": "KeyError",
     "evalue": "'f1'",
     "output_type": "error",
     "traceback": [
      "\u001b[1;31m---------------------------------------------------------------------------\u001b[0m",
      "\u001b[1;31mKeyError\u001b[0m                                  Traceback (most recent call last)",
      "\u001b[1;32m~\\AppData\\Local\\Temp\\ipykernel_24672\\728750220.py\u001b[0m in \u001b[0;36m?\u001b[1;34m()\u001b[0m\n\u001b[0;32m      5\u001b[0m \u001b[0mprint\u001b[0m\u001b[1;33m(\u001b[0m\u001b[1;34m\"Best Parameters:\"\u001b[0m\u001b[1;33m,\u001b[0m \u001b[0mbest_params\u001b[0m\u001b[1;33m)\u001b[0m\u001b[1;33m\u001b[0m\u001b[1;33m\u001b[0m\u001b[0m\n\u001b[0;32m      6\u001b[0m \u001b[0mprint\u001b[0m\u001b[1;33m(\u001b[0m\u001b[1;34m\"Best F1 Score:\"\u001b[0m\u001b[1;33m,\u001b[0m \u001b[0mbest_f1_score\u001b[0m\u001b[1;33m)\u001b[0m\u001b[1;33m\u001b[0m\u001b[1;33m\u001b[0m\u001b[0m\n\u001b[0;32m      7\u001b[0m \u001b[1;33m\u001b[0m\u001b[0m\n\u001b[0;32m      8\u001b[0m \u001b[1;31m# Order the dataframe by F1 score\u001b[0m\u001b[1;33m\u001b[0m\u001b[1;33m\u001b[0m\u001b[0m\n\u001b[1;32m----> 9\u001b[1;33m \u001b[0mcv_results\u001b[0m \u001b[1;33m=\u001b[0m \u001b[0mcv_results\u001b[0m\u001b[1;33m.\u001b[0m\u001b[0msort_values\u001b[0m\u001b[1;33m(\u001b[0m\u001b[0mby\u001b[0m\u001b[1;33m=\u001b[0m\u001b[1;33m[\u001b[0m\u001b[1;34m'f1'\u001b[0m\u001b[1;33m]\u001b[0m\u001b[1;33m)\u001b[0m\u001b[1;33m\u001b[0m\u001b[1;33m\u001b[0m\u001b[0m\n\u001b[0m\u001b[0;32m     10\u001b[0m \u001b[1;33m\u001b[0m\u001b[0m\n\u001b[0;32m     11\u001b[0m \u001b[0mcv_results\u001b[0m\u001b[1;33m.\u001b[0m\u001b[0mhead\u001b[0m\u001b[1;33m(\u001b[0m\u001b[1;36m10\u001b[0m\u001b[1;33m)\u001b[0m\u001b[1;33m\u001b[0m\u001b[1;33m\u001b[0m\u001b[0m\n",
      "\u001b[1;32mc:\\Users\\Jesse\\AppData\\Local\\Programs\\Python\\Python311\\Lib\\site-packages\\pandas\\core\\frame.py\u001b[0m in \u001b[0;36m?\u001b[1;34m(self, by, axis, ascending, inplace, kind, na_position, ignore_index, key)\u001b[0m\n\u001b[0;32m   6943\u001b[0m             )\n\u001b[0;32m   6944\u001b[0m         \u001b[1;32melif\u001b[0m \u001b[0mlen\u001b[0m\u001b[1;33m(\u001b[0m\u001b[0mby\u001b[0m\u001b[1;33m)\u001b[0m\u001b[1;33m:\u001b[0m\u001b[1;33m\u001b[0m\u001b[1;33m\u001b[0m\u001b[0m\n\u001b[0;32m   6945\u001b[0m             \u001b[1;31m# len(by) == 1\u001b[0m\u001b[1;33m\u001b[0m\u001b[1;33m\u001b[0m\u001b[0m\n\u001b[0;32m   6946\u001b[0m \u001b[1;33m\u001b[0m\u001b[0m\n\u001b[1;32m-> 6947\u001b[1;33m             \u001b[0mk\u001b[0m \u001b[1;33m=\u001b[0m \u001b[0mself\u001b[0m\u001b[1;33m.\u001b[0m\u001b[0m_get_label_or_level_values\u001b[0m\u001b[1;33m(\u001b[0m\u001b[0mby\u001b[0m\u001b[1;33m[\u001b[0m\u001b[1;36m0\u001b[0m\u001b[1;33m]\u001b[0m\u001b[1;33m,\u001b[0m \u001b[0maxis\u001b[0m\u001b[1;33m=\u001b[0m\u001b[0maxis\u001b[0m\u001b[1;33m)\u001b[0m\u001b[1;33m\u001b[0m\u001b[1;33m\u001b[0m\u001b[0m\n\u001b[0m\u001b[0;32m   6948\u001b[0m \u001b[1;33m\u001b[0m\u001b[0m\n\u001b[0;32m   6949\u001b[0m             \u001b[1;31m# need to rewrap column in Series to apply key function\u001b[0m\u001b[1;33m\u001b[0m\u001b[1;33m\u001b[0m\u001b[0m\n\u001b[0;32m   6950\u001b[0m             \u001b[1;32mif\u001b[0m \u001b[0mkey\u001b[0m \u001b[1;32mis\u001b[0m \u001b[1;32mnot\u001b[0m \u001b[1;32mNone\u001b[0m\u001b[1;33m:\u001b[0m\u001b[1;33m\u001b[0m\u001b[1;33m\u001b[0m\u001b[0m\n",
      "\u001b[1;32mc:\\Users\\Jesse\\AppData\\Local\\Programs\\Python\\Python311\\Lib\\site-packages\\pandas\\core\\generic.py\u001b[0m in \u001b[0;36m?\u001b[1;34m(self, key, axis)\u001b[0m\n\u001b[0;32m   1840\u001b[0m             \u001b[0mvalues\u001b[0m \u001b[1;33m=\u001b[0m \u001b[0mself\u001b[0m\u001b[1;33m.\u001b[0m\u001b[0mxs\u001b[0m\u001b[1;33m(\u001b[0m\u001b[0mkey\u001b[0m\u001b[1;33m,\u001b[0m \u001b[0maxis\u001b[0m\u001b[1;33m=\u001b[0m\u001b[0mother_axes\u001b[0m\u001b[1;33m[\u001b[0m\u001b[1;36m0\u001b[0m\u001b[1;33m]\u001b[0m\u001b[1;33m)\u001b[0m\u001b[1;33m.\u001b[0m\u001b[0m_values\u001b[0m\u001b[1;33m\u001b[0m\u001b[1;33m\u001b[0m\u001b[0m\n\u001b[0;32m   1841\u001b[0m         \u001b[1;32melif\u001b[0m \u001b[0mself\u001b[0m\u001b[1;33m.\u001b[0m\u001b[0m_is_level_reference\u001b[0m\u001b[1;33m(\u001b[0m\u001b[0mkey\u001b[0m\u001b[1;33m,\u001b[0m \u001b[0maxis\u001b[0m\u001b[1;33m=\u001b[0m\u001b[0maxis\u001b[0m\u001b[1;33m)\u001b[0m\u001b[1;33m:\u001b[0m\u001b[1;33m\u001b[0m\u001b[1;33m\u001b[0m\u001b[0m\n\u001b[0;32m   1842\u001b[0m             \u001b[0mvalues\u001b[0m \u001b[1;33m=\u001b[0m \u001b[0mself\u001b[0m\u001b[1;33m.\u001b[0m\u001b[0maxes\u001b[0m\u001b[1;33m[\u001b[0m\u001b[0maxis\u001b[0m\u001b[1;33m]\u001b[0m\u001b[1;33m.\u001b[0m\u001b[0mget_level_values\u001b[0m\u001b[1;33m(\u001b[0m\u001b[0mkey\u001b[0m\u001b[1;33m)\u001b[0m\u001b[1;33m.\u001b[0m\u001b[0m_values\u001b[0m\u001b[1;33m\u001b[0m\u001b[1;33m\u001b[0m\u001b[0m\n\u001b[0;32m   1843\u001b[0m         \u001b[1;32melse\u001b[0m\u001b[1;33m:\u001b[0m\u001b[1;33m\u001b[0m\u001b[1;33m\u001b[0m\u001b[0m\n\u001b[1;32m-> 1844\u001b[1;33m             \u001b[1;32mraise\u001b[0m \u001b[0mKeyError\u001b[0m\u001b[1;33m(\u001b[0m\u001b[0mkey\u001b[0m\u001b[1;33m)\u001b[0m\u001b[1;33m\u001b[0m\u001b[1;33m\u001b[0m\u001b[0m\n\u001b[0m\u001b[0;32m   1845\u001b[0m \u001b[1;33m\u001b[0m\u001b[0m\n\u001b[0;32m   1846\u001b[0m         \u001b[1;31m# Check for duplicates\u001b[0m\u001b[1;33m\u001b[0m\u001b[1;33m\u001b[0m\u001b[0m\n\u001b[0;32m   1847\u001b[0m         \u001b[1;32mif\u001b[0m \u001b[0mvalues\u001b[0m\u001b[1;33m.\u001b[0m\u001b[0mndim\u001b[0m \u001b[1;33m>\u001b[0m \u001b[1;36m1\u001b[0m\u001b[1;33m:\u001b[0m\u001b[1;33m\u001b[0m\u001b[1;33m\u001b[0m\u001b[0m\n",
      "\u001b[1;31mKeyError\u001b[0m: 'f1'"
     ]
    }
   ],
   "source": [
    "# Get the best parameters and corresponding F1 score\n",
    "best_params = grid_search.best_params_\n",
    "best_f1_score = grid_search.best_score_\n",
    "\n",
    "print(\"Best Parameters:\", best_params)\n",
    "print(\"Best F1 Score:\", best_f1_score)\n",
    "\n",
    "# Order the dataframe by F1 score\n",
    "cv_results = cv_results.sort_values(by=['f1'])\n",
    "\n",
    "cv_results.head(10)"
   ]
  },
  {
   "cell_type": "markdown",
   "metadata": {},
   "source": [
    "## Task 3. Random Forest\n",
    "### - Outlier Detection as a Supervised Classification\n",
    "\n",
    "Now use a [Random Forest](https://scikit-learn.org/stable/modules/generated/sklearn.ensemble.RandomForestClassifier.html) to predict the labels for the data set. \n",
    "\n",
    "i) use the default values for the parameters to get a RF model running. \n",
    "\n",
    "ii) use 5-fold cross-validation to determine a possibly better choice for the parameter *n_estimators* and *max_features*\n",
    "    \n",
    "iii) select the best-performing decision tree (i.e., the one that achieved the highest cross-validated performance) and report the performance of the fitted model on the held-out test data ?\n",
    "\n",
    "In the report, reflect on how does the test performance of RF compare to the decision tree performance? \n",
    " \n",
    "\n"
   ]
  },
  {
   "cell_type": "code",
   "execution_count": null,
   "metadata": {},
   "outputs": [],
   "source": [
    "from sklearn.ensemble import RandomForestClassifier\n",
    "\n",
    "# TODO: create 5-fold cross-validation\n",
    "\n",
    "# TODO: set the search space of the parameters\n",
    "\n",
    "# TODO: learn an optimal random forest model\n",
    "\n",
    "# TODO: compute the performance of the model on your held-out test data\n"
   ]
  },
  {
   "cell_type": "markdown",
   "metadata": {},
   "source": [
    "## Task 4. Isolation Forest\n",
    "\n",
    "### 4.1 Apply Isolation Forest\n",
    "### - Outlier Detection as an Unsupervised Classification\n",
    "\n",
    "Use the [Isolation Forest Classifier](https://scikit-learn.org/stable/modules/generated/sklearn.ensemble.IsolationForest.html) to detect potential outliers in the data set. \n",
    "\n",
    "Select two parameters that you would like to investigate (for example, contamination, max_depth, n_estimators, max_samples). For each configuration: \n",
    "\n",
    "i) Apply Isolation Forest on the full data set (without using the labels Y)\n",
    "\n",
    "\n",
    "ii) Use the labels to compute the accuracy, recall, precision, and F1-score on the full data set (using the labels). \n",
    "\n",
    "\n",
    "Compare the performance of Isolation Forest of different configurations. \n",
    "\n",
    "\n",
    "#### Tips:\n",
    "\n",
    "- Note that the fit(X) function of the Isolation Forest does not use the labels. \n",
    "\n",
    "\n",
    "- **Look carefully at the values that an Isolation Forest classifier returns. Which value represents the outlier class? Be aware that you need to implement a mapping function f(x) that remaps -1 to 1 and 1 to 0, in order to transform the predictions such that the semantics are consistant with the previous classification algorithms.**\n",
    "\n",
    "\n",
    "- Create 2D (or 3D) plots to visualize your results\n",
    "\n"
   ]
  },
  {
   "cell_type": "code",
   "execution_count": null,
   "metadata": {},
   "outputs": [],
   "source": [
    "from sklearn.ensemble import IsolationForest\n",
    "\n",
    "# TODO: set the search space of the parameters\n",
    "\n",
    "# TODO: apply the configured Isolation Forest model on the test set. \n",
    "\n",
    "# TODO: compute the performance of the model\n",
    "\n",
    "# TODO: return the optimal Isolation Forest model\n"
   ]
  },
  {
   "cell_type": "markdown",
   "metadata": {},
   "source": [
    "### 4.2 Outlier Detection - Analyze Outliers\n",
    "\n",
    "Taking the best performing Isolation Forest model from Task 4.1, enrich the data set with the predicted labels (or scores) by the model. \n",
    "\n",
    "Perform one or two analyses to show the characteristics of the outliers. "
   ]
  },
  {
   "cell_type": "code",
   "execution_count": null,
   "metadata": {},
   "outputs": [],
   "source": [
    "# TODO: enrich the data with the anomaly scores assigned by the optimal model. \n",
    "\n",
    "\n",
    "# TODO: Perform one or two analyses to show the characteristics of the outliers. \n"
   ]
  },
  {
   "cell_type": "markdown",
   "metadata": {},
   "source": [
    "## Task 5. Report your results and discuss your findings\n",
    "\n",
    "### 5.1 Compare the performances \n",
    "\n",
    "By now, you have applied three algorithms with different parameters on the data set. For each algorithm, you have create tables or figures which you can add to your report. Discuss the results and their optimal performance. \n",
    "\n",
    "Create an overview table or figure that show the optimal performance of each algorithm on the data set, for example see the table here below. \n",
    "\n",
    "Discuss your findings in the report and reflect on the following questions:\n",
    "- According to the performance results, which one is the optimal model? \n",
    "- How large is the difference between the accuracy score and the F1 score for each model? What caused the difference?\n",
    "- Which of performance measures (the accuracy score, recall, precision, or F1-score) would you use for comparing the model performance? Why?\n",
    "- You are comparing the performance of supervised algorithms (DT and RF) with an unsupervised algorithm (Isolation Forest). Is this a fair comparison? Motivate your answer. \n",
    "\n",
    "\n",
    "\n",
    "| Model | Validation Accuracy  | Test Accuracy |  Validation Recall  |  Test Recall  | Validation F1 | Test F1 |... |\n",
    "|------|------|------|------|------|------|------|-----|\n",
    "|   Decision Tree        |  |  | | | | |\n",
    "|   Random Forest  |  |  | || | |\n",
    "|   Isolation Forest        |  |  | || | |\n",
    "\n"
   ]
  },
  {
   "cell_type": "code",
   "execution_count": null,
   "metadata": {},
   "outputs": [],
   "source": []
  },
  {
   "cell_type": "markdown",
   "metadata": {},
   "source": [
    "### 5.2 Analyze and discuss the results\n",
    "\n",
    "For each optimal model, enrich your test set by adding the predicted labels by this model to the test set. Can you think of an analysis that gives insights into when the model performs poorly?\n",
    "\n",
    "Discuss the analysis and insights in the report"
   ]
  },
  {
   "cell_type": "code",
   "execution_count": null,
   "metadata": {},
   "outputs": [],
   "source": []
  },
  {
   "cell_type": "markdown",
   "metadata": {},
   "source": [
    "## Bonus Tasks \n",
    "\n",
    "We would like to challenge you with the following bonus tasks. For each task that is successfully completed, you may obtain max. 0.5 extra point. \n",
    "\n",
    "### Bonus Task 1\n",
    "\n",
    "Implement another outlier detection algorithm (for example, LOF, OC-SVM) or design your own outlier detection algorithm that achieves a better F1 score. \n",
    "\n",
    "\n"
   ]
  },
  {
   "cell_type": "code",
   "execution_count": null,
   "metadata": {},
   "outputs": [],
   "source": []
  },
  {
   "cell_type": "markdown",
   "metadata": {},
   "source": [
    "### Bonus Task 2 \n",
    "\n",
    "Implement techniques (e.g., preprocessing, feature engineering, sampling) that help improve the F1 scores of existing models\n"
   ]
  },
  {
   "cell_type": "code",
   "execution_count": null,
   "metadata": {},
   "outputs": [],
   "source": []
  },
  {
   "cell_type": "markdown",
   "metadata": {},
   "source": [
    "### Prediction Challenge \n",
    "\n",
    "- Import the independent test set without labels, apply your best performing model on this test set. \n",
    "\n",
    "- Enrich the test set with the predicted labels (**name this column 'predictedClass'**) \n",
    "\n",
    "- Export both the model as pkl file and the enriched test data set as a csv file. \n",
    "\n",
    "- The top three teams that have achieved the best accuracy score wins max. 0.3 bonus points.\n",
    "\n",
    "\n"
   ]
  },
  {
   "cell_type": "code",
   "execution_count": null,
   "metadata": {},
   "outputs": [],
   "source": [
    "import pickle\n",
    "\n",
    "# import data\n",
    "data_challenge = pd.read_csv('./dataBank-new_test_nolabel.csv', sep=',')\n",
    "X_new = data_challenge[features]\n",
    "print(X_new.describe())\n",
    "\n",
    "# TODO: assign optimal model \n",
    "optimal_model = ...\n",
    "\n",
    "yhat = optimal_model.predict(X_new)\n",
    "\n",
    "# TODO: enrich the data with the predicted labels by adding the column 'predictedClass'\n",
    "\n",
    "\n",
    "# TODO: export the enriched data to disk\n",
    "\n",
    "\n",
    "# export the model to disk\n",
    "modelfilename = 'Team_x_optimal_model.sav'\n",
    "pickle.dump(optimal_model, open(modelfilename, 'wb'))\n",
    "\n",
    "\n",
    "\n"
   ]
  },
  {
   "cell_type": "code",
   "execution_count": null,
   "metadata": {},
   "outputs": [],
   "source": []
  }
 ],
 "metadata": {
  "kernelspec": {
   "display_name": "Python 3",
   "language": "python",
   "name": "python3"
  },
  "language_info": {
   "codemirror_mode": {
    "name": "ipython",
    "version": 3
   },
   "file_extension": ".py",
   "mimetype": "text/x-python",
   "name": "python",
   "nbconvert_exporter": "python",
   "pygments_lexer": "ipython3",
   "version": "3.11.5"
  }
 },
 "nbformat": 4,
 "nbformat_minor": 2
}
